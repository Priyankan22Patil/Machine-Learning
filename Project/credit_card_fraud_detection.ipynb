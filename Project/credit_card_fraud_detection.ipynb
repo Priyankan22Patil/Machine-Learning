{
 "cells": [
  {
   "cell_type": "markdown",
   "metadata": {
    "id": "OUT2uP7pbeq8"
   },
   "source": [
    "# Upload the dataset"
   ]
  },
  {
   "cell_type": "markdown",
   "metadata": {
    "id": "fkfqM4d192oc"
   },
   "source": [
    "# Credit Card Fraud Detection"
   ]
  },
  {
   "cell_type": "markdown",
   "metadata": {
    "id": "8Z7Nrd9p40ds"
   },
   "source": [
    "## Importing the libraries"
   ]
  },
  {
   "cell_type": "code",
   "execution_count": 73,
   "metadata": {
    "id": "xaNjbVxIDKXS"
   },
   "outputs": [],
   "source": [
    "import pandas as pd\n",
    "import numpy as np\n",
    "import matplotlib.pyplot as plt\n",
    "import seaborn as sns\n",
    "from sklearn.model_selection import train_test_split\n",
    "from sklearn.preprocessing import PowerTransformer\n",
    "from imblearn.over_sampling import SMOTE\n",
    "from collections import Counter\n",
    "from sklearn.preprocessing import StandardScaler\n",
    "from sklearn.linear_model import LogisticRegression\n",
    "from sklearn.tree import DecisionTreeClassifier\n",
    "from sklearn.neighbors import KNeighborsClassifier\n",
    "from sklearn.ensemble import RandomForestClassifier\n",
    "from sklearn.svm import SVC\n",
    "from sklearn.metrics import accuracy_score, confusion_matrix\n",
    "%matplotlib inline"
   ]
  },
  {
   "cell_type": "markdown",
   "metadata": {
    "id": "F_rI10TI48Cb"
   },
   "source": [
    "## Importing the dataset"
   ]
  },
  {
   "cell_type": "code",
   "execution_count": 74,
   "metadata": {
    "colab": {
     "base_uri": "https://localhost:8080/",
     "height": 256
    },
    "id": "5BQ8RmRm3g_S",
    "outputId": "7b99a423-e826-4a5a-e493-e0f644959e3a"
   },
   "outputs": [
    {
     "data": {
      "text/html": [
       "<div>\n",
       "<style scoped>\n",
       "    .dataframe tbody tr th:only-of-type {\n",
       "        vertical-align: middle;\n",
       "    }\n",
       "\n",
       "    .dataframe tbody tr th {\n",
       "        vertical-align: top;\n",
       "    }\n",
       "\n",
       "    .dataframe thead th {\n",
       "        text-align: right;\n",
       "    }\n",
       "</style>\n",
       "<table border=\"1\" class=\"dataframe\">\n",
       "  <thead>\n",
       "    <tr style=\"text-align: right;\">\n",
       "      <th></th>\n",
       "      <th>Time</th>\n",
       "      <th>V1</th>\n",
       "      <th>V2</th>\n",
       "      <th>V3</th>\n",
       "      <th>V4</th>\n",
       "      <th>V5</th>\n",
       "      <th>V6</th>\n",
       "      <th>V7</th>\n",
       "      <th>V8</th>\n",
       "      <th>V9</th>\n",
       "      <th>...</th>\n",
       "      <th>V21</th>\n",
       "      <th>V22</th>\n",
       "      <th>V23</th>\n",
       "      <th>V24</th>\n",
       "      <th>V25</th>\n",
       "      <th>V26</th>\n",
       "      <th>V27</th>\n",
       "      <th>V28</th>\n",
       "      <th>Amount</th>\n",
       "      <th>Class</th>\n",
       "    </tr>\n",
       "  </thead>\n",
       "  <tbody>\n",
       "    <tr>\n",
       "      <th>0</th>\n",
       "      <td>0.0</td>\n",
       "      <td>-1.359807</td>\n",
       "      <td>-0.072781</td>\n",
       "      <td>2.536347</td>\n",
       "      <td>1.378155</td>\n",
       "      <td>-0.338321</td>\n",
       "      <td>0.462388</td>\n",
       "      <td>0.239599</td>\n",
       "      <td>0.098698</td>\n",
       "      <td>0.363787</td>\n",
       "      <td>...</td>\n",
       "      <td>-0.018307</td>\n",
       "      <td>0.277838</td>\n",
       "      <td>-0.110474</td>\n",
       "      <td>0.066928</td>\n",
       "      <td>0.128539</td>\n",
       "      <td>-0.189115</td>\n",
       "      <td>0.133558</td>\n",
       "      <td>-0.021053</td>\n",
       "      <td>149.62</td>\n",
       "      <td>0</td>\n",
       "    </tr>\n",
       "    <tr>\n",
       "      <th>1</th>\n",
       "      <td>0.0</td>\n",
       "      <td>1.191857</td>\n",
       "      <td>0.266151</td>\n",
       "      <td>0.166480</td>\n",
       "      <td>0.448154</td>\n",
       "      <td>0.060018</td>\n",
       "      <td>-0.082361</td>\n",
       "      <td>-0.078803</td>\n",
       "      <td>0.085102</td>\n",
       "      <td>-0.255425</td>\n",
       "      <td>...</td>\n",
       "      <td>-0.225775</td>\n",
       "      <td>-0.638672</td>\n",
       "      <td>0.101288</td>\n",
       "      <td>-0.339846</td>\n",
       "      <td>0.167170</td>\n",
       "      <td>0.125895</td>\n",
       "      <td>-0.008983</td>\n",
       "      <td>0.014724</td>\n",
       "      <td>2.69</td>\n",
       "      <td>0</td>\n",
       "    </tr>\n",
       "    <tr>\n",
       "      <th>2</th>\n",
       "      <td>1.0</td>\n",
       "      <td>-1.358354</td>\n",
       "      <td>-1.340163</td>\n",
       "      <td>1.773209</td>\n",
       "      <td>0.379780</td>\n",
       "      <td>-0.503198</td>\n",
       "      <td>1.800499</td>\n",
       "      <td>0.791461</td>\n",
       "      <td>0.247676</td>\n",
       "      <td>-1.514654</td>\n",
       "      <td>...</td>\n",
       "      <td>0.247998</td>\n",
       "      <td>0.771679</td>\n",
       "      <td>0.909412</td>\n",
       "      <td>-0.689281</td>\n",
       "      <td>-0.327642</td>\n",
       "      <td>-0.139097</td>\n",
       "      <td>-0.055353</td>\n",
       "      <td>-0.059752</td>\n",
       "      <td>378.66</td>\n",
       "      <td>0</td>\n",
       "    </tr>\n",
       "    <tr>\n",
       "      <th>3</th>\n",
       "      <td>1.0</td>\n",
       "      <td>-0.966272</td>\n",
       "      <td>-0.185226</td>\n",
       "      <td>1.792993</td>\n",
       "      <td>-0.863291</td>\n",
       "      <td>-0.010309</td>\n",
       "      <td>1.247203</td>\n",
       "      <td>0.237609</td>\n",
       "      <td>0.377436</td>\n",
       "      <td>-1.387024</td>\n",
       "      <td>...</td>\n",
       "      <td>-0.108300</td>\n",
       "      <td>0.005274</td>\n",
       "      <td>-0.190321</td>\n",
       "      <td>-1.175575</td>\n",
       "      <td>0.647376</td>\n",
       "      <td>-0.221929</td>\n",
       "      <td>0.062723</td>\n",
       "      <td>0.061458</td>\n",
       "      <td>123.50</td>\n",
       "      <td>0</td>\n",
       "    </tr>\n",
       "    <tr>\n",
       "      <th>4</th>\n",
       "      <td>2.0</td>\n",
       "      <td>-1.158233</td>\n",
       "      <td>0.877737</td>\n",
       "      <td>1.548718</td>\n",
       "      <td>0.403034</td>\n",
       "      <td>-0.407193</td>\n",
       "      <td>0.095921</td>\n",
       "      <td>0.592941</td>\n",
       "      <td>-0.270533</td>\n",
       "      <td>0.817739</td>\n",
       "      <td>...</td>\n",
       "      <td>-0.009431</td>\n",
       "      <td>0.798278</td>\n",
       "      <td>-0.137458</td>\n",
       "      <td>0.141267</td>\n",
       "      <td>-0.206010</td>\n",
       "      <td>0.502292</td>\n",
       "      <td>0.219422</td>\n",
       "      <td>0.215153</td>\n",
       "      <td>69.99</td>\n",
       "      <td>0</td>\n",
       "    </tr>\n",
       "  </tbody>\n",
       "</table>\n",
       "<p>5 rows × 31 columns</p>\n",
       "</div>"
      ],
      "text/plain": [
       "   Time        V1        V2        V3        V4        V5        V6        V7  \\\n",
       "0   0.0 -1.359807 -0.072781  2.536347  1.378155 -0.338321  0.462388  0.239599   \n",
       "1   0.0  1.191857  0.266151  0.166480  0.448154  0.060018 -0.082361 -0.078803   \n",
       "2   1.0 -1.358354 -1.340163  1.773209  0.379780 -0.503198  1.800499  0.791461   \n",
       "3   1.0 -0.966272 -0.185226  1.792993 -0.863291 -0.010309  1.247203  0.237609   \n",
       "4   2.0 -1.158233  0.877737  1.548718  0.403034 -0.407193  0.095921  0.592941   \n",
       "\n",
       "         V8        V9  ...       V21       V22       V23       V24       V25  \\\n",
       "0  0.098698  0.363787  ... -0.018307  0.277838 -0.110474  0.066928  0.128539   \n",
       "1  0.085102 -0.255425  ... -0.225775 -0.638672  0.101288 -0.339846  0.167170   \n",
       "2  0.247676 -1.514654  ...  0.247998  0.771679  0.909412 -0.689281 -0.327642   \n",
       "3  0.377436 -1.387024  ... -0.108300  0.005274 -0.190321 -1.175575  0.647376   \n",
       "4 -0.270533  0.817739  ... -0.009431  0.798278 -0.137458  0.141267 -0.206010   \n",
       "\n",
       "        V26       V27       V28  Amount  Class  \n",
       "0 -0.189115  0.133558 -0.021053  149.62      0  \n",
       "1  0.125895 -0.008983  0.014724    2.69      0  \n",
       "2 -0.139097 -0.055353 -0.059752  378.66      0  \n",
       "3 -0.221929  0.062723  0.061458  123.50      0  \n",
       "4  0.502292  0.219422  0.215153   69.99      0  \n",
       "\n",
       "[5 rows x 31 columns]"
      ]
     },
     "execution_count": 74,
     "metadata": {},
     "output_type": "execute_result"
    }
   ],
   "source": [
    "df = pd.read_csv(\"creditcard.csv\",on_bad_lines='skip')\n",
    "df.head()"
   ]
  },
  {
   "cell_type": "markdown",
   "metadata": {
    "id": "NTlmZ812-Njn"
   },
   "source": [
    "## Checking the discrepencies in the data and performing exploratory data analysis"
   ]
  },
  {
   "cell_type": "code",
   "execution_count": 75,
   "metadata": {
    "colab": {
     "base_uri": "https://localhost:8080/"
    },
    "id": "TW6qtolF5G14",
    "outputId": "21a781b7-7fde-42d1-9383-1cf291c3a845"
   },
   "outputs": [
    {
     "data": {
      "text/plain": [
       "Time      0\n",
       "V1        0\n",
       "V2        0\n",
       "V3        0\n",
       "V4        0\n",
       "V5        0\n",
       "V6        0\n",
       "V7        0\n",
       "V8        0\n",
       "V9        0\n",
       "V10       0\n",
       "V11       0\n",
       "V12       0\n",
       "V13       0\n",
       "V14       0\n",
       "V15       0\n",
       "V16       0\n",
       "V17       0\n",
       "V18       0\n",
       "V19       0\n",
       "V20       0\n",
       "V21       0\n",
       "V22       0\n",
       "V23       0\n",
       "V24       0\n",
       "V25       0\n",
       "V26       0\n",
       "V27       0\n",
       "V28       0\n",
       "Amount    0\n",
       "Class     0\n",
       "dtype: int64"
      ]
     },
     "execution_count": 75,
     "metadata": {},
     "output_type": "execute_result"
    }
   ],
   "source": [
    "df.isna().sum()"
   ]
  },
  {
   "cell_type": "code",
   "execution_count": 76,
   "metadata": {
    "colab": {
     "base_uri": "https://localhost:8080/"
    },
    "id": "jusDy3-N5foY",
    "outputId": "94bdede9-2c89-4602-fe36-23370146a28e"
   },
   "outputs": [
    {
     "name": "stdout",
     "output_type": "stream",
     "text": [
      "<class 'pandas.core.frame.DataFrame'>\n",
      "RangeIndex: 284807 entries, 0 to 284806\n",
      "Data columns (total 31 columns):\n",
      " #   Column  Non-Null Count   Dtype  \n",
      "---  ------  --------------   -----  \n",
      " 0   Time    284807 non-null  float64\n",
      " 1   V1      284807 non-null  float64\n",
      " 2   V2      284807 non-null  float64\n",
      " 3   V3      284807 non-null  float64\n",
      " 4   V4      284807 non-null  float64\n",
      " 5   V5      284807 non-null  float64\n",
      " 6   V6      284807 non-null  float64\n",
      " 7   V7      284807 non-null  float64\n",
      " 8   V8      284807 non-null  float64\n",
      " 9   V9      284807 non-null  float64\n",
      " 10  V10     284807 non-null  float64\n",
      " 11  V11     284807 non-null  float64\n",
      " 12  V12     284807 non-null  float64\n",
      " 13  V13     284807 non-null  float64\n",
      " 14  V14     284807 non-null  float64\n",
      " 15  V15     284807 non-null  float64\n",
      " 16  V16     284807 non-null  float64\n",
      " 17  V17     284807 non-null  float64\n",
      " 18  V18     284807 non-null  float64\n",
      " 19  V19     284807 non-null  float64\n",
      " 20  V20     284807 non-null  float64\n",
      " 21  V21     284807 non-null  float64\n",
      " 22  V22     284807 non-null  float64\n",
      " 23  V23     284807 non-null  float64\n",
      " 24  V24     284807 non-null  float64\n",
      " 25  V25     284807 non-null  float64\n",
      " 26  V26     284807 non-null  float64\n",
      " 27  V27     284807 non-null  float64\n",
      " 28  V28     284807 non-null  float64\n",
      " 29  Amount  284807 non-null  float64\n",
      " 30  Class   284807 non-null  int64  \n",
      "dtypes: float64(30), int64(1)\n",
      "memory usage: 67.4 MB\n"
     ]
    }
   ],
   "source": [
    "df.info()"
   ]
  },
  {
   "cell_type": "code",
   "execution_count": 77,
   "metadata": {
    "colab": {
     "base_uri": "https://localhost:8080/"
    },
    "id": "v33AEy3pVR5U",
    "outputId": "13c035ef-395b-4d14-c330-b3f79d861c86"
   },
   "outputs": [
    {
     "data": {
      "text/plain": [
       "284807"
      ]
     },
     "execution_count": 77,
     "metadata": {},
     "output_type": "execute_result"
    }
   ],
   "source": [
    "len(df)"
   ]
  },
  {
   "cell_type": "code",
   "execution_count": 78,
   "metadata": {
    "colab": {
     "base_uri": "https://localhost:8080/",
     "height": 350
    },
    "id": "7uKOw_qK5guW",
    "outputId": "b61f2b55-fde6-4b98-de11-888be65ed006"
   },
   "outputs": [
    {
     "data": {
      "text/html": [
       "<div>\n",
       "<style scoped>\n",
       "    .dataframe tbody tr th:only-of-type {\n",
       "        vertical-align: middle;\n",
       "    }\n",
       "\n",
       "    .dataframe tbody tr th {\n",
       "        vertical-align: top;\n",
       "    }\n",
       "\n",
       "    .dataframe thead th {\n",
       "        text-align: right;\n",
       "    }\n",
       "</style>\n",
       "<table border=\"1\" class=\"dataframe\">\n",
       "  <thead>\n",
       "    <tr style=\"text-align: right;\">\n",
       "      <th></th>\n",
       "      <th>Time</th>\n",
       "      <th>V1</th>\n",
       "      <th>V2</th>\n",
       "      <th>V3</th>\n",
       "      <th>V4</th>\n",
       "      <th>V5</th>\n",
       "      <th>V6</th>\n",
       "      <th>V7</th>\n",
       "      <th>V8</th>\n",
       "      <th>V9</th>\n",
       "      <th>...</th>\n",
       "      <th>V21</th>\n",
       "      <th>V22</th>\n",
       "      <th>V23</th>\n",
       "      <th>V24</th>\n",
       "      <th>V25</th>\n",
       "      <th>V26</th>\n",
       "      <th>V27</th>\n",
       "      <th>V28</th>\n",
       "      <th>Amount</th>\n",
       "      <th>Class</th>\n",
       "    </tr>\n",
       "  </thead>\n",
       "  <tbody>\n",
       "    <tr>\n",
       "      <th>count</th>\n",
       "      <td>284807.000000</td>\n",
       "      <td>2.848070e+05</td>\n",
       "      <td>2.848070e+05</td>\n",
       "      <td>2.848070e+05</td>\n",
       "      <td>2.848070e+05</td>\n",
       "      <td>2.848070e+05</td>\n",
       "      <td>2.848070e+05</td>\n",
       "      <td>2.848070e+05</td>\n",
       "      <td>2.848070e+05</td>\n",
       "      <td>2.848070e+05</td>\n",
       "      <td>...</td>\n",
       "      <td>2.848070e+05</td>\n",
       "      <td>2.848070e+05</td>\n",
       "      <td>2.848070e+05</td>\n",
       "      <td>2.848070e+05</td>\n",
       "      <td>2.848070e+05</td>\n",
       "      <td>2.848070e+05</td>\n",
       "      <td>2.848070e+05</td>\n",
       "      <td>2.848070e+05</td>\n",
       "      <td>284807.000000</td>\n",
       "      <td>284807.000000</td>\n",
       "    </tr>\n",
       "    <tr>\n",
       "      <th>mean</th>\n",
       "      <td>94813.859575</td>\n",
       "      <td>3.918649e-15</td>\n",
       "      <td>5.682686e-16</td>\n",
       "      <td>-8.761736e-15</td>\n",
       "      <td>2.811118e-15</td>\n",
       "      <td>-1.552103e-15</td>\n",
       "      <td>2.040130e-15</td>\n",
       "      <td>-1.698953e-15</td>\n",
       "      <td>-1.893285e-16</td>\n",
       "      <td>-3.147640e-15</td>\n",
       "      <td>...</td>\n",
       "      <td>1.473120e-16</td>\n",
       "      <td>8.042109e-16</td>\n",
       "      <td>5.282512e-16</td>\n",
       "      <td>4.456271e-15</td>\n",
       "      <td>1.426896e-15</td>\n",
       "      <td>1.701640e-15</td>\n",
       "      <td>-3.662252e-16</td>\n",
       "      <td>-1.217809e-16</td>\n",
       "      <td>88.349619</td>\n",
       "      <td>0.001727</td>\n",
       "    </tr>\n",
       "    <tr>\n",
       "      <th>std</th>\n",
       "      <td>47488.145955</td>\n",
       "      <td>1.958696e+00</td>\n",
       "      <td>1.651309e+00</td>\n",
       "      <td>1.516255e+00</td>\n",
       "      <td>1.415869e+00</td>\n",
       "      <td>1.380247e+00</td>\n",
       "      <td>1.332271e+00</td>\n",
       "      <td>1.237094e+00</td>\n",
       "      <td>1.194353e+00</td>\n",
       "      <td>1.098632e+00</td>\n",
       "      <td>...</td>\n",
       "      <td>7.345240e-01</td>\n",
       "      <td>7.257016e-01</td>\n",
       "      <td>6.244603e-01</td>\n",
       "      <td>6.056471e-01</td>\n",
       "      <td>5.212781e-01</td>\n",
       "      <td>4.822270e-01</td>\n",
       "      <td>4.036325e-01</td>\n",
       "      <td>3.300833e-01</td>\n",
       "      <td>250.120109</td>\n",
       "      <td>0.041527</td>\n",
       "    </tr>\n",
       "    <tr>\n",
       "      <th>min</th>\n",
       "      <td>0.000000</td>\n",
       "      <td>-5.640751e+01</td>\n",
       "      <td>-7.271573e+01</td>\n",
       "      <td>-4.832559e+01</td>\n",
       "      <td>-5.683171e+00</td>\n",
       "      <td>-1.137433e+02</td>\n",
       "      <td>-2.616051e+01</td>\n",
       "      <td>-4.355724e+01</td>\n",
       "      <td>-7.321672e+01</td>\n",
       "      <td>-1.343407e+01</td>\n",
       "      <td>...</td>\n",
       "      <td>-3.483038e+01</td>\n",
       "      <td>-1.093314e+01</td>\n",
       "      <td>-4.480774e+01</td>\n",
       "      <td>-2.836627e+00</td>\n",
       "      <td>-1.029540e+01</td>\n",
       "      <td>-2.604551e+00</td>\n",
       "      <td>-2.256568e+01</td>\n",
       "      <td>-1.543008e+01</td>\n",
       "      <td>0.000000</td>\n",
       "      <td>0.000000</td>\n",
       "    </tr>\n",
       "    <tr>\n",
       "      <th>25%</th>\n",
       "      <td>54201.500000</td>\n",
       "      <td>-9.203734e-01</td>\n",
       "      <td>-5.985499e-01</td>\n",
       "      <td>-8.903648e-01</td>\n",
       "      <td>-8.486401e-01</td>\n",
       "      <td>-6.915971e-01</td>\n",
       "      <td>-7.682956e-01</td>\n",
       "      <td>-5.540759e-01</td>\n",
       "      <td>-2.086297e-01</td>\n",
       "      <td>-6.430976e-01</td>\n",
       "      <td>...</td>\n",
       "      <td>-2.283949e-01</td>\n",
       "      <td>-5.423504e-01</td>\n",
       "      <td>-1.618463e-01</td>\n",
       "      <td>-3.545861e-01</td>\n",
       "      <td>-3.171451e-01</td>\n",
       "      <td>-3.269839e-01</td>\n",
       "      <td>-7.083953e-02</td>\n",
       "      <td>-5.295979e-02</td>\n",
       "      <td>5.600000</td>\n",
       "      <td>0.000000</td>\n",
       "    </tr>\n",
       "    <tr>\n",
       "      <th>50%</th>\n",
       "      <td>84692.000000</td>\n",
       "      <td>1.810880e-02</td>\n",
       "      <td>6.548556e-02</td>\n",
       "      <td>1.798463e-01</td>\n",
       "      <td>-1.984653e-02</td>\n",
       "      <td>-5.433583e-02</td>\n",
       "      <td>-2.741871e-01</td>\n",
       "      <td>4.010308e-02</td>\n",
       "      <td>2.235804e-02</td>\n",
       "      <td>-5.142873e-02</td>\n",
       "      <td>...</td>\n",
       "      <td>-2.945017e-02</td>\n",
       "      <td>6.781943e-03</td>\n",
       "      <td>-1.119293e-02</td>\n",
       "      <td>4.097606e-02</td>\n",
       "      <td>1.659350e-02</td>\n",
       "      <td>-5.213911e-02</td>\n",
       "      <td>1.342146e-03</td>\n",
       "      <td>1.124383e-02</td>\n",
       "      <td>22.000000</td>\n",
       "      <td>0.000000</td>\n",
       "    </tr>\n",
       "    <tr>\n",
       "      <th>75%</th>\n",
       "      <td>139320.500000</td>\n",
       "      <td>1.315642e+00</td>\n",
       "      <td>8.037239e-01</td>\n",
       "      <td>1.027196e+00</td>\n",
       "      <td>7.433413e-01</td>\n",
       "      <td>6.119264e-01</td>\n",
       "      <td>3.985649e-01</td>\n",
       "      <td>5.704361e-01</td>\n",
       "      <td>3.273459e-01</td>\n",
       "      <td>5.971390e-01</td>\n",
       "      <td>...</td>\n",
       "      <td>1.863772e-01</td>\n",
       "      <td>5.285536e-01</td>\n",
       "      <td>1.476421e-01</td>\n",
       "      <td>4.395266e-01</td>\n",
       "      <td>3.507156e-01</td>\n",
       "      <td>2.409522e-01</td>\n",
       "      <td>9.104512e-02</td>\n",
       "      <td>7.827995e-02</td>\n",
       "      <td>77.165000</td>\n",
       "      <td>0.000000</td>\n",
       "    </tr>\n",
       "    <tr>\n",
       "      <th>max</th>\n",
       "      <td>172792.000000</td>\n",
       "      <td>2.454930e+00</td>\n",
       "      <td>2.205773e+01</td>\n",
       "      <td>9.382558e+00</td>\n",
       "      <td>1.687534e+01</td>\n",
       "      <td>3.480167e+01</td>\n",
       "      <td>7.330163e+01</td>\n",
       "      <td>1.205895e+02</td>\n",
       "      <td>2.000721e+01</td>\n",
       "      <td>1.559499e+01</td>\n",
       "      <td>...</td>\n",
       "      <td>2.720284e+01</td>\n",
       "      <td>1.050309e+01</td>\n",
       "      <td>2.252841e+01</td>\n",
       "      <td>4.584549e+00</td>\n",
       "      <td>7.519589e+00</td>\n",
       "      <td>3.517346e+00</td>\n",
       "      <td>3.161220e+01</td>\n",
       "      <td>3.384781e+01</td>\n",
       "      <td>25691.160000</td>\n",
       "      <td>1.000000</td>\n",
       "    </tr>\n",
       "  </tbody>\n",
       "</table>\n",
       "<p>8 rows × 31 columns</p>\n",
       "</div>"
      ],
      "text/plain": [
       "                Time            V1            V2            V3            V4  \\\n",
       "count  284807.000000  2.848070e+05  2.848070e+05  2.848070e+05  2.848070e+05   \n",
       "mean    94813.859575  3.918649e-15  5.682686e-16 -8.761736e-15  2.811118e-15   \n",
       "std     47488.145955  1.958696e+00  1.651309e+00  1.516255e+00  1.415869e+00   \n",
       "min         0.000000 -5.640751e+01 -7.271573e+01 -4.832559e+01 -5.683171e+00   \n",
       "25%     54201.500000 -9.203734e-01 -5.985499e-01 -8.903648e-01 -8.486401e-01   \n",
       "50%     84692.000000  1.810880e-02  6.548556e-02  1.798463e-01 -1.984653e-02   \n",
       "75%    139320.500000  1.315642e+00  8.037239e-01  1.027196e+00  7.433413e-01   \n",
       "max    172792.000000  2.454930e+00  2.205773e+01  9.382558e+00  1.687534e+01   \n",
       "\n",
       "                 V5            V6            V7            V8            V9  \\\n",
       "count  2.848070e+05  2.848070e+05  2.848070e+05  2.848070e+05  2.848070e+05   \n",
       "mean  -1.552103e-15  2.040130e-15 -1.698953e-15 -1.893285e-16 -3.147640e-15   \n",
       "std    1.380247e+00  1.332271e+00  1.237094e+00  1.194353e+00  1.098632e+00   \n",
       "min   -1.137433e+02 -2.616051e+01 -4.355724e+01 -7.321672e+01 -1.343407e+01   \n",
       "25%   -6.915971e-01 -7.682956e-01 -5.540759e-01 -2.086297e-01 -6.430976e-01   \n",
       "50%   -5.433583e-02 -2.741871e-01  4.010308e-02  2.235804e-02 -5.142873e-02   \n",
       "75%    6.119264e-01  3.985649e-01  5.704361e-01  3.273459e-01  5.971390e-01   \n",
       "max    3.480167e+01  7.330163e+01  1.205895e+02  2.000721e+01  1.559499e+01   \n",
       "\n",
       "       ...           V21           V22           V23           V24  \\\n",
       "count  ...  2.848070e+05  2.848070e+05  2.848070e+05  2.848070e+05   \n",
       "mean   ...  1.473120e-16  8.042109e-16  5.282512e-16  4.456271e-15   \n",
       "std    ...  7.345240e-01  7.257016e-01  6.244603e-01  6.056471e-01   \n",
       "min    ... -3.483038e+01 -1.093314e+01 -4.480774e+01 -2.836627e+00   \n",
       "25%    ... -2.283949e-01 -5.423504e-01 -1.618463e-01 -3.545861e-01   \n",
       "50%    ... -2.945017e-02  6.781943e-03 -1.119293e-02  4.097606e-02   \n",
       "75%    ...  1.863772e-01  5.285536e-01  1.476421e-01  4.395266e-01   \n",
       "max    ...  2.720284e+01  1.050309e+01  2.252841e+01  4.584549e+00   \n",
       "\n",
       "                V25           V26           V27           V28         Amount  \\\n",
       "count  2.848070e+05  2.848070e+05  2.848070e+05  2.848070e+05  284807.000000   \n",
       "mean   1.426896e-15  1.701640e-15 -3.662252e-16 -1.217809e-16      88.349619   \n",
       "std    5.212781e-01  4.822270e-01  4.036325e-01  3.300833e-01     250.120109   \n",
       "min   -1.029540e+01 -2.604551e+00 -2.256568e+01 -1.543008e+01       0.000000   \n",
       "25%   -3.171451e-01 -3.269839e-01 -7.083953e-02 -5.295979e-02       5.600000   \n",
       "50%    1.659350e-02 -5.213911e-02  1.342146e-03  1.124383e-02      22.000000   \n",
       "75%    3.507156e-01  2.409522e-01  9.104512e-02  7.827995e-02      77.165000   \n",
       "max    7.519589e+00  3.517346e+00  3.161220e+01  3.384781e+01   25691.160000   \n",
       "\n",
       "               Class  \n",
       "count  284807.000000  \n",
       "mean        0.001727  \n",
       "std         0.041527  \n",
       "min         0.000000  \n",
       "25%         0.000000  \n",
       "50%         0.000000  \n",
       "75%         0.000000  \n",
       "max         1.000000  \n",
       "\n",
       "[8 rows x 31 columns]"
      ]
     },
     "execution_count": 78,
     "metadata": {},
     "output_type": "execute_result"
    }
   ],
   "source": [
    "df.describe()"
   ]
  },
  {
   "cell_type": "code",
   "execution_count": 79,
   "metadata": {
    "colab": {
     "base_uri": "https://localhost:8080/"
    },
    "id": "hHpQpaqKD8x0",
    "outputId": "2c37970e-db72-4311-8719-796035255879"
   },
   "outputs": [
    {
     "name": "stdout",
     "output_type": "stream",
     "text": [
      "No Frauds 99.83 % of the dataset\n",
      "Frauds 0.17 % of the dataset\n"
     ]
    }
   ],
   "source": [
    "# The classes are heavily skewed we need to solve this issue later.\n",
    "print('No Frauds', round(df['Class'].value_counts()[0]/len(df) * 100,2), '% of the dataset')\n",
    "print('Frauds', round(df['Class'].value_counts()[1]/len(df) * 100,2), '% of the dataset')"
   ]
  },
  {
   "cell_type": "markdown",
   "metadata": {
    "id": "c0AiqKYI-jev"
   },
   "source": [
    "### Checking the distribution of data"
   ]
  },
  {
   "cell_type": "code",
   "execution_count": 80,
   "metadata": {
    "colab": {
     "base_uri": "https://localhost:8080/",
     "height": 560
    },
    "id": "XxzhR_GF5j95",
    "outputId": "1daa2010-44e1-4123-ff55-8bb0aea56e07"
   },
   "outputs": [
    {
     "data": {
      "text/plain": [
       "<AxesSubplot:xlabel='Class', ylabel='count'>"
      ]
     },
     "execution_count": 80,
     "metadata": {},
     "output_type": "execute_result"
    },
    {
     "data": {
      "image/png": "[encoded data removed]",
      "text/plain": [
       "<Figure size 1000x600 with 1 Axes>"
      ]
     },
     "metadata": {
      "needs_background": "light"
     },
     "output_type": "display_data"
    }
   ],
   "source": [
    "plt.figure(dpi=100, figsize=(10,6))\n",
    "sns.countplot(data=df, x='Class')"
   ]
  },
  {
   "cell_type": "code",
   "execution_count": 81,
   "metadata": {},
   "outputs": [
    {
     "name": "stdout",
     "output_type": "stream",
     "text": [
      "Class\n",
      "0    99.827251\n",
      "1     0.172749\n",
      "Name: Class, dtype: float64\n"
     ]
    },
    {
     "data": {
      "text/plain": [
       "<AxesSubplot:ylabel='Class'>"
      ]
     },
     "execution_count": 81,
     "metadata": {},
     "output_type": "execute_result"
    },
    {
     "data": {
      "image/png": "[encoded data removed]",
      "text/plain": [
       "<Figure size 432x288 with 1 Axes>"
      ]
     },
     "metadata": {},
     "output_type": "display_data"
    }
   ],
   "source": [
    "# Checking the class distribution of the target variable in percentage\n",
    "print((df.groupby('Class')['Class'].count() / df['Class'].count()) * 100)\n",
    "(df.groupby('Class')['Class'].count() / df['Class'].count() * 100).plot.pie()\n"
   ]
  },
  {
   "cell_type": "code",
   "execution_count": 82,
   "metadata": {},
   "outputs": [
    {
     "data": {
      "text/html": [
       "        <script type=\"text/javascript\">\n",
       "        window.PlotlyConfig = {MathJaxConfig: 'local'};\n",
       "        if (window.MathJax) {MathJax.Hub.Config({SVG: {font: \"STIX-Web\"}});}\n",
       "        if (typeof require !== 'undefined') {\n",
       "        require.undef(\"plotly\");\n",
       "        requirejs.config({\n",
       "            paths: {\n",
       "                'plotly': ['https://cdn.plot.ly/plotly-2.9.0.min']\n",
       "            }\n",
       "        });\n",
       "        require(['plotly'], function(Plotly) {\n",
       "            window._Plotly = Plotly;\n",
       "        });\n",
       "        }\n",
       "        </script>\n",
       "        "
      ]
     },
     "metadata": {},
     "output_type": "display_data"
    },
    {
     "data": {
      "application/vnd.plotly.v1+json": {
       "config": {
        "linkText": "Export to plot.ly",
        "plotlyServerURL": "https://plot.ly",
        "showLink": false
       },
       "data": [
        {
         "legendgroup": "Not Fraud",
         "marker": {
          "color": "rgb(31, 119, 180)"
         },
         "mode": "lines",
         "name": "Not Fraud",
         "showlegend": true,
         "type": "scatter",
         "x": [
          0,
          345.584,
          691.168,
          1036.752,
          1382.336,
          1727.92,
          2073.504,
          2419.088,
          2764.672,
          3110.256,
          3455.84,
          3801.424,
          4147.008,
          4492.592,
          4838.176,
          5183.76,
          5529.344,
          5874.928,
          6220.512,
          6566.096,
          6911.68,
          7257.264,
          7602.848,
          7948.432,
          8294.016,
          8639.6,
          8985.184,
          9330.768,
          9676.352,
          10021.936,
          10367.52,
          10713.104,
          11058.688,
          11404.272,
          11749.856,
          12095.44,
          12441.024,
          12786.608,
          13132.192,
          13477.776,
          13823.36,
          14168.944,
          14514.528,
          14860.112,
          15205.696,
          15551.28,
          15896.864,
          16242.448,
          16588.032,
          16933.616,
          17279.2,
          17624.784,
          17970.368,
          18315.952,
          18661.536,
          19007.12,
          19352.704,
          19698.288,
          20043.872,
          20389.456,
          20735.04,
          21080.624,
          21426.208,
          21771.792,
          22117.376,
          22462.96,
          22808.544,
          23154.128,
          23499.712,
          23845.296,
          24190.88,
          24536.464,
          24882.048,
          25227.632,
          25573.216,
          25918.8,
          26264.384,
          26609.968,
          26955.552,
          27301.136,
          27646.72,
          27992.304,
          28337.888,
          28683.472,
          29029.056,
          29374.64,
          29720.224,
          30065.808,
          30411.392,
          30756.976,
          31102.56,
          31448.144,
          31793.728,
          32139.312,
          32484.896,
          32830.48,
          33176.064,
          33521.648,
          33867.232,
          34212.816,
          34558.4,
          34903.984,
          35249.568,
          35595.152,
          35940.736,
          36286.32,
          36631.904,
          36977.488,
          37323.072,
          37668.656,
          38014.24,
          38359.824,
          38705.408,
          39050.992,
          39396.576,
          39742.16,
          40087.744,
          40433.328,
          40778.912,
          41124.496,
          41470.08,
          41815.664,
          42161.248,
          42506.832,
          42852.416,
          43198,
          43543.584,
          43889.168,
          44234.752,
          44580.336,
          44925.92,
          45271.504,
          45617.088,
          45962.672,
          46308.256,
          46653.84,
          46999.424,
          47345.008,
          47690.592,
          48036.176,
          48381.76,
          48727.344,
          49072.928,
          49418.512,
          49764.096,
          50109.68,
          50455.264,
          50800.848,
          51146.432,
          51492.016,
          51837.6,
          52183.184,
          52528.768,
          52874.352,
          53219.936,
          53565.52,
          53911.104,
          54256.688,
          54602.272,
          54947.856,
          55293.44,
          55639.024,
          55984.608,
          56330.192,
          56675.776,
          57021.36,
          57366.944,
          57712.528,
          58058.112,
          58403.696,
          58749.28,
          59094.864,
          59440.448,
          59786.032,
          60131.616,
          60477.2,
          60822.784,
          61168.368,
          61513.952,
          61859.536,
          62205.12,
          62550.704,
          62896.288,
          63241.872,
          63587.456,
          63933.04,
          64278.624,
          64624.208,
          64969.792,
          65315.376,
          65660.96,
          66006.544,
          66352.128,
          66697.712,
          67043.296,
          67388.88,
          67734.464,
          68080.048,
          68425.632,
          68771.216,
          69116.8,
          69462.384,
          69807.968,
          70153.552,
          70499.136,
          70844.72,
          71190.304,
          71535.888,
          71881.472,
          72227.056,
          72572.64,
          72918.224,
          73263.808,
          73609.392,
          73954.976,
          74300.56,
          74646.144,
          74991.728,
          75337.312,
          75682.896,
          76028.48,
          76374.064,
          76719.648,
          77065.232,
          77410.816,
          77756.4,
          78101.984,
          78447.568,
          78793.152,
          79138.736,
          79484.32,
          79829.904,
          80175.488,
          80521.072,
          80866.656,
          81212.24,
          81557.824,
          81903.408,
          82248.992,
          82594.576,
          82940.16,
          83285.744,
          83631.328,
          83976.912,
          84322.496,
          84668.08,
          85013.664,
          85359.248,
          85704.832,
          86050.416,
          86396,
          86741.584,
          87087.168,
          87432.752,
          87778.336,
          88123.92,
          88469.504,
          88815.088,
          89160.672,
          89506.256,
          89851.84,
          90197.424,
          90543.008,
          90888.592,
          91234.176,
          91579.76,
          91925.344,
          92270.928,
          92616.512,
          92962.096,
          93307.68,
          93653.264,
          93998.848,
          94344.432,
          94690.016,
          95035.6,
          95381.184,
          95726.768,
          96072.352,
          96417.936,
          96763.52,
          97109.104,
          97454.688,
          97800.272,
          98145.856,
          98491.44,
          98837.024,
          99182.608,
          99528.192,
          99873.776,
          100219.36,
          100564.944,
          100910.528,
          101256.112,
          101601.696,
          101947.28,
          102292.864,
          102638.448,
          102984.032,
          103329.616,
          103675.2,
          104020.784,
          104366.368,
          104711.952,
          105057.536,
          105403.12,
          105748.704,
          106094.288,
          106439.872,
          106785.456,
          107131.04,
          107476.624,
          107822.208,
          108167.792,
          108513.376,
          108858.96,
          109204.544,
          109550.128,
          109895.712,
          110241.296,
          110586.88,
          110932.464,
          111278.048,
          111623.632,
          111969.216,
          112314.8,
          112660.384,
          113005.968,
          113351.552,
          113697.136,
          114042.72,
          114388.304,
          114733.888,
          115079.472,
          115425.056,
          115770.64,
          116116.224,
          116461.808,
          116807.392,
          117152.976,
          117498.56,
          117844.144,
          118189.728,
          118535.312,
          118880.896,
          119226.48,
          119572.064,
          119917.648,
          120263.232,
          120608.816,
          120954.4,
          121299.984,
          121645.568,
          121991.152,
          122336.736,
          122682.32,
          123027.904,
          123373.488,
          123719.072,
          124064.656,
          124410.24,
          124755.824,
          125101.408,
          125446.992,
          125792.576,
          126138.16,
          126483.744,
          126829.328,
          127174.912,
          127520.496,
          127866.08,
          128211.664,
          128557.248,
          128902.832,
          129248.416,
          129594,
          129939.584,
          130285.168,
          130630.752,
          130976.336,
          131321.92,
          131667.504,
          132013.088,
          132358.672,
          132704.256,
          133049.84,
          133395.424,
          133741.008,
          134086.592,
          134432.176,
          134777.76,
          135123.344,
          135468.928,
          135814.512,
          136160.096,
          136505.68,
          136851.264,
          137196.848,
          137542.432,
          137888.016,
          138233.6,
          138579.184,
          138924.768,
          139270.352,
          139615.936,
          139961.52,
          140307.104,
          140652.688,
          140998.272,
          141343.856,
          141689.44,
          142035.024,
          142380.608,
          142726.192,
          143071.776,
          143417.36,
          143762.944,
          144108.528,
          144454.112,
          144799.696,
          145145.28,
          145490.864,
          145836.448,
          146182.032,
          146527.616,
          146873.2,
          147218.784,
          147564.368,
          147909.952,
          148255.536,
          148601.12,
          148946.704,
          149292.288,
          149637.872,
          149983.456,
          150329.04,
          150674.624,
          151020.208,
          151365.792,
          151711.376,
          152056.96,
          152402.544,
          152748.128,
          153093.712,
          153439.296,
          153784.88,
          154130.464,
          154476.048,
          154821.632,
          155167.216,
          155512.8,
          155858.384,
          156203.968,
          156549.552,
          156895.136,
          157240.72,
          157586.304,
          157931.888,
          158277.472,
          158623.056,
          158968.64,
          159314.224,
          159659.808,
          160005.392,
          160350.976,
          160696.56,
          161042.144,
          161387.728,
          161733.312,
          162078.896,
          162424.48,
          162770.064,
          163115.648,
          163461.232,
          163806.816,
          164152.4,
          164497.984,
          164843.568,
          165189.152,
          165534.736,
          165880.32,
          166225.904,
          166571.488,
          166917.072,
          167262.656,
          167608.24,
          167953.824,
          168299.408,
          168644.992,
          168990.576,
          169336.16,
          169681.744,
          170027.328,
          170372.912,
          170718.496,
          171064.08,
          171409.664,
          171755.248,
          172100.832,
          172446.416
         ],
         "xaxis": "x",
         "y": [
          1.697347456086226e-06,
          1.7892406860838062e-06,
          1.875106662289505e-06,
          1.9539240211315817e-06,
          2.024814787484194e-06,
          2.0870700001728196e-06,
          2.140169352315841e-06,
          2.1837939471416954e-06,
          2.2178316034665912e-06,
          2.242374511761339e-06,
          2.2577094196194064e-06,
          2.2643008918188014e-06,
          2.262768523405099e-06,
          2.253859265166271e-06,
          2.2384162340774597e-06,
          2.217345515980265e-06,
          2.19158251832814e-06,
          2.162059397021128e-06,
          2.129674968038674e-06,
          2.0952683311934044e-06,
          2.05959719303171e-06,
          2.023321594571912e-06,
          1.9869934446533327e-06,
          1.9510519490665077e-06,
          1.915824726570105e-06,
          1.8815341310018962e-06,
          1.8483080671292573e-06,
          1.816194406840058e-06,
          1.7851779885078935e-06,
          1.7551991191213409e-06,
          1.7261724957825178e-06,
          1.6980055169883938e-06,
          1.6706150584078139e-06,
          1.6439419340972001e-06,
          1.6179624420037478e-06,
          1.5926965909610441e-06,
          1.5682128135695857e-06,
          1.5446291740589583e-06,
          1.5221112719306263e-06,
          1.500867211665929e-06,
          1.481140148483666e-06,
          1.4631990243977305e-06,
          1.447328174052436e-06,
          1.4338165045343555e-06,
          1.422946938147587e-06,
          1.41498675454292e-06,
          1.4101793829092124e-06,
          1.408738081981337e-06,
          1.4108418124353675e-06,
          1.4166334607267712e-06,
          1.4262204239961602e-06,
          1.4396774207779606e-06,
          1.4570512600447994e-06,
          1.4783671889174081e-06,
          1.5036363533035317e-06,
          1.5328638503405995e-06,
          1.5660568294637841e-06,
          1.6032321108015968e-06,
          1.6444228338374863e-06,
          1.689683722236137e-06,
          1.739094646910136e-06,
          1.792762281809424e-06,
          1.8508197675565135e-06,
          1.913424418521531e-06,
          1.980753621024303e-06,
          2.0529991667167222e-06,
          2.130360339872763e-06,
          2.2130361262110283e-06,
          2.3012169320790766e-06,
          2.3950761967093983e-06,
          2.494762249423482e-06,
          2.6003907126324243e-06,
          2.712037686308532e-06,
          2.8297338772311614e-06,
          2.9534597639182706e-06,
          3.083141822512351e-06,
          3.218649785632445e-06,
          3.3597948693886424e-06,
          3.5063288854050637e-06,
          3.657944154693155e-06,
          3.8142741563072327e-06,
          3.974894871817512e-06,
          4.139326821281707e-06,
          4.307037821357342e-06,
          4.477446525210012e-06,
          4.649926821293156e-06,
          4.8238131696183875e-06,
          4.998406937320514e-06,
          5.17298375982073e-06,
          5.346801901645484e-06,
          5.5191115259867515e-06,
          5.689164710128659e-06,
          5.856225971804274e-06,
          6.019583006720395e-06,
          6.178557286896823e-06,
          6.332514139090871e-06,
          6.480871916741141e-06,
          6.6231098997298576e-06,
          6.758774603685426e-06,
          6.887484251983715e-06,
          7.008931254393314e-06,
          7.122882640061903e-06,
          7.229178501787338e-06,
          7.327728615221863e-06,
          7.418507493160355e-06,
          7.501548214399438e-06,
          7.576935423367104e-06,
          7.64479792710563e-06,
          7.705301318490012e-06,
          7.758641029150601e-06,
          7.805036164694744e-06,
          7.844724402420204e-06,
          7.877958143023881e-06,
          7.90500200908823e-06,
          7.926131680880564e-06,
          7.941633960959935e-06,
          7.95180786947959e-06,
          7.956966497383272e-06,
          7.957439289376488e-06,
          7.953574395832491e-06,
          7.945740724359432e-06,
          7.934329337960002e-06,
          7.919753886306897e-06,
          7.902449817070932e-06,
          7.88287219158645e-06,
          7.861492018651875e-06,
          7.838791116317142e-06,
          7.815255608175426e-06,
          7.791368252068976e-06,
          7.767599879605554e-06,
          7.744400289671188e-06,
          7.722188984437173e-06,
          7.701346159669054e-06,
          7.682204361436707e-06,
          7.665041198951465e-06,
          7.650073460067832e-06,
          7.637452914970819e-06,
          7.6272640186896715e-06,
          7.619523638961728e-06,
          7.614182847393351e-06,
          7.611130723686315e-06,
          7.61020003922174e-06,
          7.611174611300593e-06,
          7.613798055773269e-06,
          7.617783615693654e-06,
          7.622824708287954e-06,
          7.6286058123309735e-06,
          7.634813312831111e-06,
          7.641145929061619e-06,
          7.647324374415869e-06,
          7.653099931106341e-06,
          7.658261667941967e-06,
          7.66264208379356e-06,
          7.666121021265792e-06,
          7.668627762522016e-06,
          7.67014129016032e-06,
          7.670688767914207e-06,
          7.670342366006724e-06,
          7.669214621200136e-06,
          7.667452578692809e-06,
          7.665231008939398e-06,
          7.662745024280962e-06,
          7.660202435730386e-06,
          7.657816187892279e-06,
          7.655797189368887e-06,
          7.654347818073842e-06,
          7.653656327679467e-06,
          7.653892316465036e-06,
          7.65520334751925e-06,
          7.657712734803749e-06,
          7.66151843861622e-06,
          7.666692951868367e-06,
          7.673284010222378e-06,
          7.681315928223042e-06,
          7.690791352390222e-06,
          7.701693231398637e-06,
          7.713986831543374e-06,
          7.727621669694344e-06,
          7.74253329100723e-06,
          7.758644879036126e-06,
          7.775868744871469e-06,
          7.79410779301154e-06,
          7.813257098720034e-06,
          7.833205749804443e-06,
          7.853839101993095e-06,
          7.87504157028948e-06,
          7.896700030201668e-06,
          7.918707836091311e-06,
          7.940969384640015e-06,
          7.963405066766165e-06,
          7.98595636928918e-06,
          8.008590816494447e-06,
          8.031306389214008e-06,
          8.054135031363686e-06,
          8.077144855419425e-06,
          8.100440690962875e-06,
          8.12416268335992e-06,
          8.14848273946242e-06,
          8.173598728157825e-06,
          8.199726468138793e-06,
          8.227089664610315e-06,
          8.255908081986769e-06,
          8.286384352227611e-06,
          8.318689911131436e-06,
          8.352950622010562e-06,
          8.389232684289148e-06,
          8.427529432517223e-06,
          8.467749609997749e-06,
          8.5097076534679e-06,
          8.553116455128343e-06,
          8.59758298070585e-06,
          8.642607022227293e-06,
          8.687583256706541e-06,
          8.731806671225067e-06,
          8.774481304367468e-06,
          8.814732146393526e-06,
          8.85161993776527e-06,
          8.884158509418365e-06,
          8.911334219899886e-06,
          8.932126965959681e-06,
          8.945532176540064e-06,
          8.950583148096042e-06,
          8.946373044910821e-06,
          8.932075875017874e-06,
          8.90696576368084e-06,
          8.870433884729148e-06,
          8.82200247683397e-06,
          8.761335466860958e-06,
          8.688245343573295e-06,
          8.602696067955016e-06,
          8.504801964908307e-06,
          8.394822707027359e-06,
          8.273154665238242e-06,
          8.140319053533444e-06,
          7.996947426325069e-06,
          7.843765188647893e-06,
          7.681573845069686e-06,
          7.511232738581268e-06,
          7.33364101471729e-06,
          7.149720490327954e-06,
          6.960400015284128e-06,
          6.766601795741942e-06,
          6.5692300080250655e-06,
          6.369161882344768e-06,
          6.167241285296679e-06,
          5.964274688715285e-06,
          5.761029288153017e-06,
          5.558232933420786e-06,
          5.3565754606671604e-06,
          5.156710972657441e-06,
          4.9592606013688776e-06,
          4.764815303057658e-06,
          4.573938277348996e-06,
          4.387166664290932e-06,
          4.205012251683968e-06,
          4.027961014003517e-06,
          3.856471398599546e-06,
          3.6909713696184235e-06,
          3.531854310764002e-06,
          3.3794739707040146e-06,
          3.2341387063642493e-06,
          3.0961053368941803e-06,
          2.965572962654928e-06,
          2.8426771276871043e-06,
          2.7274847098051155e-06,
          2.619989909357818e-06,
          2.5201116760150914e-06,
          2.4276928635698165e-06,
          2.342501337296398e-06,
          2.264233179246593e-06,
          2.192518047148749e-06,
          2.1269266461765227e-06,
          2.0669801742745345e-06,
          2.012161505894253e-06,
          1.9619277910244224e-06,
          1.9157240712834857e-06,
          1.8729974570884045e-06,
          1.8332113732540546e-06,
          1.795859367380199e-06,
          1.7604779872841181e-06,
          1.7266582702356216e-06,
          1.694055445992838e-06,
          1.6623965343016349e-06,
          1.6314856110536923e-06,
          1.6012066201757071e-06,
          1.5715237145407144e-06,
          1.5424792126083196e-06,
          1.5141893523611344e-06,
          1.4868381053923456e-06,
          1.460669377795123e-06,
          1.4359779681991332e-06,
          1.4130996757281782e-06,
          1.3924009520549702e-06,
          1.3742684736943766e-06,
          1.3590989758662608e-06,
          1.3472896412160876e-06,
          1.3392292794638088e-06,
          1.3352904719533157e-06,
          1.3358227923195591e-06,
          1.3411471549519646e-06,
          1.3515512899463579e-06,
          1.36728629939042e-06,
          1.3885642169032805e-06,
          1.4155564712147415e-06,
          1.4483931452166276e-06,
          1.4871629234741589e-06,
          1.5319136320143352e-06,
          1.582653292030212e-06,
          1.6393516311859596e-06,
          1.7019420194297468e-06,
          1.7703238174880971e-06,
          1.8443651425656402e-06,
          1.9239060646457236e-06,
          2.0087622462564445e-06,
          2.0987290275195512e-06,
          2.193585936646047e-06,
          2.293101574710358e-06,
          2.3970387845923e-06,
          2.5051599704428945e-06,
          2.6172323897750845e-06,
          2.7330331997486778e-06,
          2.8523540070366517e-06,
          2.975004651334325e-06,
          3.1008159500099968e-06,
          3.229641148489612e-06,
          3.361355859316422e-06,
          3.4958563323563805e-06,
          3.6330559775247643e-06,
          3.77288015605973e-06,
          3.915259361504394e-06,
          4.0601210205601614e-06,
          4.207380249287442e-06,
          4.356929993860336e-06,
          4.5086310595292885e-06,
          4.6623025798610195e-06,
          4.817713495387056e-06,
          4.974575593215821e-06,
          5.1325386060646575e-06,
          5.291187782149384e-06,
          5.450044220727475e-06,
          5.608568128319683e-06,
          5.7661649962831695e-06,
          5.922194541198147e-06,
          6.075982095987879e-06,
          6.226832001933776e-06,
          6.374042439169836e-06,
          6.516921053370932e-06,
          6.654800694581855e-06,
          6.787054583109831e-06,
          6.913110256888776e-06,
          7.032461731690979e-06,
          7.144679414247741e-06,
          7.249417441023877e-06,
          7.3464182626032205e-06,
          7.435514445358029e-06,
          7.516627808025064e-06,
          7.589766141684623e-06,
          7.65501786938152e-06,
          7.712545080304947e-06,
          7.76257541936528e-06,
          7.80539332511169e-06,
          7.841331088565964e-06,
          7.870760156336691e-06,
          7.894083028920017e-06,
          7.911726016105932e-06,
          7.924133013618898e-06,
          7.931760366075158e-06,
          7.935072788425494e-06,
          7.934540237282675e-06,
          7.930635559896009e-06,
          7.923832705051019e-06,
          7.914605258270496e-06,
          7.903425063041482e-06,
          7.890760708466109e-06,
          7.877075698645939e-06,
          7.862826166202862e-06,
          7.848458047158574e-06,
          7.834403692290486e-06,
          7.82107794680491e-06,
          7.808873781945643e-06,
          7.798157606035696e-06,
          7.789264416363833e-06,
          7.782492976151726e-06,
          7.778101212259416e-06,
          7.776302029754063e-06,
          7.777259729962859e-06,
          7.781087200522535e-06,
          7.787844020759934e-06,
          7.797535595084253e-06,
          7.810113392411539e-06,
          7.825476332418608e-06,
          7.843473320742815e-06,
          7.86390689633336e-06,
          7.88653791592843e-06,
          7.911091164212854e-06,
          7.937261744566681e-06,
          7.964722075703528e-06,
          7.993129295076801e-06,
          8.022132851958381e-06,
          8.051382062851659e-06,
          8.080533400309723e-06,
          8.10925729415988e-06,
          8.137244241794065e-06,
          8.164210051465266e-06,
          8.189900078482423e-06,
          8.214092357438593e-06,
          8.236599582026864e-06,
          8.25726993493551e-06,
          8.275986820935606e-06,
          8.292667603341435e-06,
          8.30726148460006e-06,
          8.319746703096488e-06,
          8.330127238270177e-06,
          8.338429223485027e-06,
          8.344697260356944e-06,
          8.348990810121105e-06,
          8.351380808722834e-06,
          8.351946615214957e-06,
          8.350773361117179e-06,
          8.347949725304532e-06,
          8.343566118802322e-06,
          8.337713230093595e-06,
          8.330480857437749e-06,
          8.321956942328969e-06,
          8.312226718654158e-06,
          8.301371904984082e-06,
          8.289469891130866e-06,
          8.276592901670644e-06,
          8.262807154751018e-06,
          8.24817206964307e-06,
          8.232739606528501e-06,
          8.216553842656714e-06,
          8.199650896786162e-06,
          8.18205930653018e-06,
          8.163800940243854e-06,
          8.14489248744238e-06,
          8.125347522248057e-06,
          8.10517907716839e-06,
          8.084402605008577e-06,
          8.063039150737193e-06,
          8.041118508591435e-06,
          8.018682107831938e-06,
          7.995785357477929e-06,
          7.972499188554666e-06,
          7.94891056241772e-06,
          7.925121764271022e-06,
          7.90124836881024e-06,
          7.877415845168724e-06,
          7.853754855151372e-06,
          7.830395385603206e-06,
          7.807459936140126e-06,
          7.785056051576906e-06,
          7.763268539232141e-06,
          7.742151741544883e-06,
          7.721722242233108e-06,
          7.701952369437015e-06,
          7.682764823383588e-06,
          7.664028701862044e-06,
          7.645557128088684e-06,
          7.627106606879589e-06,
          7.608378151350866e-06,
          7.589020138440517e-06,
          7.568632772026171e-06,
          7.546773961324201e-06,
          7.5229663630704866e-06,
          7.496705291375235e-06,
          7.467467171099338e-06,
          7.434718200257147e-06,
          7.397922894775452e-06,
          7.356552214556368e-06,
          7.310091012100782e-06,
          7.258044602058914e-06,
          7.199944319248215e-06,
          7.1353520104481055e-06,
          7.063863487342653e-06,
          6.985111049446799e-06,
          6.898765261309e-06,
          6.804536232139018e-06,
          6.702174692783638e-06,
          6.591473189773026e-06,
          6.472267715052258e-06,
          6.3444400605795025e-06,
          6.207921128630468e-06,
          6.062695343022794e-06,
          5.908806197528006e-06,
          5.746362851759736e-06,
          5.575547550174996e-06,
          5.396623506475834e-06,
          5.2099427745622565e-06,
          5.015953529263215e-06,
          4.815206115540979e-06,
          4.608357202072428e-06,
          4.396171399757077e-06,
          4.179519780059331e-06,
          3.959374850598455e-06,
          3.7368017104920474e-06,
          3.512945306302105e-06,
          3.289013928517034e-06,
          3.0662593135147676e-06,
          2.845953930965831e-06
         ],
         "yaxis": "y"
        },
        {
         "legendgroup": "Fraud",
         "marker": {
          "color": "rgb(255, 127, 14)"
         },
         "mode": "lines",
         "name": "Fraud",
         "showlegend": true,
         "type": "scatter",
         "x": [
          406,
          745.884,
          1085.768,
          1425.652,
          1765.536,
          2105.42,
          2445.304,
          2785.188,
          3125.072,
          3464.956,
          3804.84,
          4144.724,
          4484.608,
          4824.492,
          5164.376,
          5504.26,
          5844.144,
          6184.028,
          6523.912,
          6863.796,
          7203.68,
          7543.564,
          7883.448,
          8223.332,
          8563.216,
          8903.1,
          9242.984,
          9582.868,
          9922.752,
          10262.636,
          10602.52,
          10942.404,
          11282.288,
          11622.172,
          11962.056,
          12301.94,
          12641.824,
          12981.708,
          13321.592,
          13661.476,
          14001.36,
          14341.244,
          14681.128,
          15021.012,
          15360.896,
          15700.78,
          16040.664,
          16380.548,
          16720.432,
          17060.316,
          17400.2,
          17740.084,
          18079.968,
          18419.852,
          18759.736,
          19099.62,
          19439.504,
          19779.388,
          20119.272,
          20459.156,
          20799.04,
          21138.924,
          21478.808,
          21818.692,
          22158.576,
          22498.46,
          22838.344,
          23178.228,
          23518.112,
          23857.996,
          24197.88,
          24537.764,
          24877.648,
          25217.532,
          25557.416,
          25897.3,
          26237.184,
          26577.068,
          26916.952,
          27256.836,
          27596.72,
          27936.604,
          28276.488,
          28616.372,
          28956.256,
          29296.14,
          29636.024,
          29975.908,
          30315.792,
          30655.676,
          30995.56,
          31335.444,
          31675.328,
          32015.212,
          32355.096,
          32694.98,
          33034.864,
          33374.748,
          33714.632,
          34054.516,
          34394.4,
          34734.284,
          35074.168,
          35414.052,
          35753.936,
          36093.82,
          36433.704,
          36773.588,
          37113.472,
          37453.356,
          37793.24,
          38133.124,
          38473.008,
          38812.892,
          39152.776,
          39492.66,
          39832.544,
          40172.428,
          40512.312,
          40852.196,
          41192.08,
          41531.964,
          41871.848,
          42211.732,
          42551.616,
          42891.5,
          43231.384,
          43571.268,
          43911.152,
          44251.036,
          44590.92,
          44930.804,
          45270.688,
          45610.572,
          45950.456,
          46290.34,
          46630.224,
          46970.108,
          47309.992,
          47649.876,
          47989.76,
          48329.644,
          48669.528,
          49009.412,
          49349.296,
          49689.18,
          50029.064,
          50368.948,
          50708.832,
          51048.716,
          51388.6,
          51728.484,
          52068.368,
          52408.252,
          52748.136,
          53088.02,
          53427.904,
          53767.788,
          54107.672,
          54447.556,
          54787.44,
          55127.324,
          55467.208,
          55807.092,
          56146.976,
          56486.86,
          56826.744,
          57166.628,
          57506.512,
          57846.396,
          58186.28,
          58526.164,
          58866.048,
          59205.932,
          59545.816,
          59885.7,
          60225.584,
          60565.468,
          60905.352,
          61245.236,
          61585.12,
          61925.004,
          62264.888,
          62604.772,
          62944.656,
          63284.54,
          63624.424,
          63964.308,
          64304.192,
          64644.076,
          64983.96,
          65323.844,
          65663.728,
          66003.612,
          66343.496,
          66683.38,
          67023.264,
          67363.148,
          67703.032,
          68042.916,
          68382.8,
          68722.684,
          69062.568,
          69402.452,
          69742.336,
          70082.22,
          70422.104,
          70761.988,
          71101.872,
          71441.756,
          71781.64,
          72121.524,
          72461.408,
          72801.292,
          73141.176,
          73481.06,
          73820.944,
          74160.828,
          74500.712,
          74840.596,
          75180.48,
          75520.364,
          75860.248,
          76200.132,
          76540.016,
          76879.9,
          77219.784,
          77559.668,
          77899.552,
          78239.436,
          78579.32,
          78919.204,
          79259.088,
          79598.972,
          79938.856,
          80278.74,
          80618.624,
          80958.508,
          81298.392,
          81638.276,
          81978.16,
          82318.044,
          82657.928,
          82997.812,
          83337.696,
          83677.58,
          84017.464,
          84357.348,
          84697.232,
          85037.116,
          85377,
          85716.884,
          86056.768,
          86396.652,
          86736.536,
          87076.42,
          87416.304,
          87756.188,
          88096.072,
          88435.956,
          88775.84,
          89115.724,
          89455.608,
          89795.492,
          90135.376,
          90475.26,
          90815.144,
          91155.028,
          91494.912,
          91834.796,
          92174.68,
          92514.564,
          92854.448,
          93194.332,
          93534.216,
          93874.1,
          94213.984,
          94553.868,
          94893.752,
          95233.636,
          95573.52,
          95913.404,
          96253.288,
          96593.172,
          96933.056,
          97272.94,
          97612.824,
          97952.708,
          98292.592,
          98632.476,
          98972.36,
          99312.244,
          99652.128,
          99992.012,
          100331.896,
          100671.78,
          101011.664,
          101351.548,
          101691.432,
          102031.316,
          102371.2,
          102711.084,
          103050.968,
          103390.852,
          103730.736,
          104070.62,
          104410.504,
          104750.388,
          105090.272,
          105430.156,
          105770.04,
          106109.924,
          106449.808,
          106789.692,
          107129.576,
          107469.46,
          107809.344,
          108149.228,
          108489.112,
          108828.996,
          109168.88,
          109508.764,
          109848.648,
          110188.532,
          110528.416,
          110868.3,
          111208.184,
          111548.068,
          111887.952,
          112227.836,
          112567.72,
          112907.604,
          113247.488,
          113587.372,
          113927.256,
          114267.14,
          114607.024,
          114946.908,
          115286.792,
          115626.676,
          115966.56,
          116306.444,
          116646.328,
          116986.212,
          117326.096,
          117665.98,
          118005.864,
          118345.748,
          118685.632,
          119025.516,
          119365.4,
          119705.284,
          120045.168,
          120385.052,
          120724.936,
          121064.82,
          121404.704,
          121744.588,
          122084.472,
          122424.356,
          122764.24,
          123104.124,
          123444.008,
          123783.892,
          124123.776,
          124463.66,
          124803.544,
          125143.428,
          125483.312,
          125823.196,
          126163.08,
          126502.964,
          126842.848,
          127182.732,
          127522.616,
          127862.5,
          128202.384,
          128542.268,
          128882.152,
          129222.036,
          129561.92,
          129901.804,
          130241.688,
          130581.572,
          130921.456,
          131261.34,
          131601.224,
          131941.108,
          132280.992,
          132620.876,
          132960.76,
          133300.644,
          133640.528,
          133980.412,
          134320.296,
          134660.18,
          135000.064,
          135339.948,
          135679.832,
          136019.716,
          136359.6,
          136699.484,
          137039.368,
          137379.252,
          137719.136,
          138059.02,
          138398.904,
          138738.788,
          139078.672,
          139418.556,
          139758.44,
          140098.324,
          140438.208,
          140778.092,
          141117.976,
          141457.86,
          141797.744,
          142137.628,
          142477.512,
          142817.396,
          143157.28,
          143497.164,
          143837.048,
          144176.932,
          144516.816,
          144856.7,
          145196.584,
          145536.468,
          145876.352,
          146216.236,
          146556.12,
          146896.004,
          147235.888,
          147575.772,
          147915.656,
          148255.54,
          148595.424,
          148935.308,
          149275.192,
          149615.076,
          149954.96,
          150294.844,
          150634.728,
          150974.612,
          151314.496,
          151654.38,
          151994.264,
          152334.148,
          152674.032,
          153013.916,
          153353.8,
          153693.684,
          154033.568,
          154373.452,
          154713.336,
          155053.22,
          155393.104,
          155732.988,
          156072.872,
          156412.756,
          156752.64,
          157092.524,
          157432.408,
          157772.292,
          158112.176,
          158452.06,
          158791.944,
          159131.828,
          159471.712,
          159811.596,
          160151.48,
          160491.364,
          160831.248,
          161171.132,
          161511.016,
          161850.9,
          162190.784,
          162530.668,
          162870.552,
          163210.436,
          163550.32,
          163890.204,
          164230.088,
          164569.972,
          164909.856,
          165249.74,
          165589.624,
          165929.508,
          166269.392,
          166609.276,
          166949.16,
          167289.044,
          167628.928,
          167968.812,
          168308.696,
          168648.58,
          168988.464,
          169328.348,
          169668.232,
          170008.116
         ],
         "xaxis": "x",
         "y": [
          2.5725270199184186e-06,
          2.6310058058129387e-06,
          2.6897686304363113e-06,
          2.748786647363209e-06,
          2.8080309928186174e-06,
          2.867472852442724e-06,
          2.9270835279276285e-06,
          2.9868345032672523e-06,
          3.0466975103604765e-06,
          3.106644593707739e-06,
          3.1666481739421243e-06,
          3.226681109938766e-06,
          3.286716759249754e-06,
          3.3467290366169334e-06,
          3.4066924703207853e-06,
          3.4665822561312507e-06,
          3.5263743086346612e-06,
          3.586045309720728e-06,
          3.645572754024372e-06,
          3.704934991128807e-06,
          3.764111264349628e-06,
          3.823081745932931e-06,
          3.8818275685156236e-06,
          3.940330852711665e-06,
          3.998574730703818e-06,
          4.056543365738183e-06,
          4.114221967435876e-06,
          4.171596802854251e-06,
          4.22865520324932e-06,
          4.2853855665086814e-06,
          4.341777355244726e-06,
          4.397821090555966e-06,
          4.453508341484275e-06,
          4.508831710215101e-06,
          4.563784813086301e-06,
          4.618362257490829e-06,
          4.672559614776593e-06,
          4.726373389264857e-06,
          4.779800983526774e-06,
          4.832840660073917e-06,
          4.885491499635645e-06,
          4.937753356211278e-06,
          4.989626809100186e-06,
          5.041113112126349e-06,
          5.092214140287206e-06,
          5.142932334068027e-06,
          5.193270641674183e-06,
          5.2432324594427434e-06,
          5.292821570703958e-06,
          5.342042083369238e-06,
          5.390898366529313e-06,
          5.439394986349832e-06,
          5.487536641555415e-06,
          5.53532809879497e-06,
          5.5827741281816e-06,
          5.629879439299518e-06,
          5.676648617968544e-06,
          5.7230860640530265e-06,
          5.769195930597303e-06,
          5.814982064563845e-06,
          5.860447949442463e-06,
          5.905596649991412e-06,
          5.9504307593597875e-06,
          5.9949523488313795e-06,
          6.039162920417333e-06,
          6.083063362511553e-06,
          6.126653908809835e-06,
          6.169934100677941e-06,
          6.212902753138355e-06,
          6.255557924628919e-06,
          6.297896890669667e-06,
          6.339916121555686e-06,
          6.381611264176304e-06,
          6.422977128041518e-06,
          6.464007675577934e-06,
          6.504696016736774e-06,
          6.545034407937353e-06,
          6.58501425534952e-06,
          6.6246261224990165e-06,
          6.663859742160641e-06,
          6.702704032484233e-06,
          6.7411471172800726e-06,
          6.779176350371274e-06,
          6.816778343903149e-06,
          6.85393900048132e-06,
          6.890643548994117e-06,
          6.926876583958109e-06,
          6.962622108210547e-06,
          6.997863578757841e-06,
          7.032583955575589e-06,
          7.066765753143316e-06,
          7.100391094485444e-06,
          7.133441767479521e-06,
          7.165899283183914e-06,
          7.197744935928864e-06,
          7.228959864908297e-06,
          7.2595251170041e-06,
          7.289421710570782e-06,
          7.318630699905537e-06,
          7.34713324012691e-06,
          7.3749106521859724e-06,
          7.401944487734288e-06,
          7.428216593576158e-06,
          7.453709175436183e-06,
          7.478404860778613e-06,
          7.5022867604211935e-06,
          7.525338528694e-06,
          7.547544421902763e-06,
          7.568889354865974e-06,
          7.589358955305964e-06,
          7.608939615886946e-06,
          7.627618543704963e-06,
          7.645383807049724e-06,
          7.662224379271767e-06,
          7.678130179605082e-06,
          7.693092110809927e-06,
          7.707102093518341e-06,
          7.720153097180765e-06,
          7.73223916753028e-06,
          7.74335545049777e-06,
          7.753498212529612e-06,
          7.762664857276409e-06,
          7.770853938639618e-06,
          7.778065170179878e-06,
          7.784299430908184e-06,
          7.789558767497564e-06,
          7.793846392970039e-06,
          7.797166681927951e-06,
          7.799525162415758e-06,
          7.800928504511102e-06,
          7.801384505758749e-06,
          7.800902073572754e-06,
          7.79949120474543e-06,
          7.79716296221043e-06,
          7.793929449219127e-06,
          7.7898037810964e-06,
          7.784800054750648e-06,
          7.778933316118147e-06,
          7.772219525727596e-06,
          7.764675522574616e-06,
          7.756318986497791e-06,
          7.747168399250415e-06,
          7.737243004461252e-06,
          7.726562766677174e-06,
          7.715148329678113e-06,
          7.703020974251558e-06,
          7.690202575608856e-06,
          7.676715560620782e-06,
          7.662582865042436e-06,
          7.647827890890533e-06,
          7.632474464127642e-06,
          7.61654679279824e-06,
          7.600069425751879e-06,
          7.583067212077928e-06,
          7.565565261364993e-06,
          7.547588904886183e-06,
          7.529163657799741e-06,
          7.5103151824412315e-06,
          7.491069252771464e-06,
          7.471451720031028e-06,
          7.451488479639303e-06,
          7.431205439363627e-06,
          7.410628488770476e-06,
          7.3897834699591784e-06,
          7.368696149565698e-06,
          7.347392192012734e-06,
          7.325897133970946e-06,
          7.304236359985557e-06,
          7.282435079212542e-06,
          7.260518303199248e-06,
          7.238510824635932e-06,
          7.21643719699678e-06,
          7.194321714982593e-06,
          7.172188395671026e-06,
          7.150060960275749e-06,
          7.127962816411894e-06,
          7.105917040762377e-06,
          7.083946362037864e-06,
          7.062073144122659e-06,
          7.0403193692987845e-06,
          7.018706621442342e-06,
          6.997256069088543e-06,
          6.97598844826533e-06,
          6.954924045000071e-06,
          6.934082677409289e-06,
          6.9134836772881055e-06,
          6.8931458711228284e-06,
          6.873087560459115e-06,
          6.853326501566601e-06,
          6.8338798843506185e-06,
          6.8147643104725706e-06,
          6.795995770650812e-06,
          6.777589621125901e-06,
          6.759560559286023e-06,
          6.7419225984606654e-06,
          6.724689041902918e-06,
          6.707872455994472e-06,
          6.691484642719272e-06,
          6.6755366114657315e-06,
          6.660038550229452e-06,
          6.644999796301856e-06,
          6.630428806542278e-06,
          6.6163331273431365e-06,
          6.6027193644101595e-06,
          6.589593152489993e-06,
          6.576959125189143e-06,
          6.564820885037666e-06,
          6.553180973960314e-06,
          6.542040844326773e-06,
          6.531400830759609e-06,
          6.521260122885778e-06,
          6.511616739222865e-06,
          6.502467502396012e-06,
          6.493808015884789e-06,
          6.485632642502066e-06,
          6.477934484807597e-06,
          6.470705367659421e-06,
          6.463935823104735e-06,
          6.457615077809518e-06,
          6.451731043222338e-06,
          6.446270308662629e-06,
          6.441218137517905e-06,
          6.436558466726337e-06,
          6.43227390971253e-06,
          6.428345762934643e-06,
          6.424754016189529e-06,
          6.421477366810481e-06,
          6.418493237878816e-06,
          6.415777800556126e-06,
          6.413306000628759e-06,
          6.411051589339758e-06,
          6.4089871585665144e-06,
          6.407084180384329e-06,
          6.405313051037887e-06,
          6.4036431393233005e-06,
          6.402042839363785e-06,
          6.400479627742148e-06,
          6.398920124932859e-06,
          6.397330160956058e-06,
          6.395674845154956e-06,
          6.39391863997806e-06,
          6.39202543862633e-06,
          6.389958646405969e-06,
          6.387681265607016e-06,
          6.385155983708637e-06,
          6.382345264692885e-06,
          6.379211443230841e-06,
          6.375716821486896e-06,
          6.371823768270628e-06,
          6.367494820249904e-06,
          6.362692784924034e-06,
          6.357380845042474e-06,
          6.35152266414181e-06,
          6.345082492863202e-06,
          6.338025275702306e-06,
          6.3303167578356885e-06,
          6.321923591660976e-06,
          6.312813442682563e-06,
          6.302955094371124e-06,
          6.292318551623298e-06,
          6.2808751424471336e-06,
          6.268597617500529e-06,
          6.255460247112576e-06,
          6.2414389154223915e-06,
          6.226511211276388e-06,
          6.210656515532497e-06,
          6.193856084429971e-06,
          6.176093128693818e-06,
          6.157352888056185e-06,
          6.137622700890802e-06,
          6.1168920686722895e-06,
          6.09515271498915e-06,
          6.072398638857374e-06,
          6.048626162101344e-06,
          6.023833970588854e-06,
          5.998023149129176e-06,
          5.9711972098654e-06,
          5.943362114015652e-06,
          5.914526286842006e-06,
          5.884700625750639e-06,
          5.853898501451925e-06,
          5.822135752134672e-06,
          5.789430670634891e-06,
          5.7558039846049595e-06,
          5.721278829715634e-06,
          5.685880715948575e-06,
          5.649637487063373e-06,
          5.612579273347978e-06,
          5.57473843778623e-06,
          5.536149515800898e-06,
          5.496849148753551e-06,
          5.4568760114060885e-06,
          5.416270733570009e-06,
          5.375075816190753e-06,
          5.3333355421342156e-06,
          5.291095881960869e-06,
          5.248404394990799e-06,
          5.205310125978372e-06,
          5.161863497730502e-06,
          5.11811620001525e-06,
          5.074121075119355e-06,
          5.029932000423423e-06,
          4.985603768372087e-06,
          4.941191964223304e-06,
          4.896752841966395e-06,
          4.852343198802163e-06,
          4.80802024858019e-06,
          4.763841494589364e-06,
          4.719864602095872e-06,
          4.676147271020594e-06,
          4.632747109143137e-06,
          4.589721506214108e-06,
          4.54712750934956e-06,
          4.505021700072855e-06,
          4.463460073358999e-06,
          4.4224979190248335e-06,
          4.382189705795714e-06,
          4.342588968365246e-06,
          4.303748197749749e-06,
          4.265718735222607e-06,
          4.2285506700970366e-06,
          4.192292741607468e-06,
          4.156992245121313e-06,
          4.122694942893465e-06,
          4.089444979555857e-06,
          4.057284802514109e-06,
          4.0262550874025305e-06,
          3.996394668727529e-06,
          3.967740475808403e-06,
          3.940327474103151e-06,
          3.914188611985556e-06,
          3.889354773018637e-06,
          3.865854733748631e-06,
          3.843715127022968e-06,
          3.822960410815291e-06,
          3.803612842520981e-06,
          3.785692458667051e-06,
          3.769217059961994e-06,
          3.754202201592923e-06,
          3.740661188660427e-06,
          3.728605076625153e-06,
          3.718042676624745e-06,
          3.708980565505328e-06,
          3.701423100398431e-06,
          3.695372437661674e-06,
          3.690828555990535e-06,
          3.687789283498205e-06,
          3.686250328551705e-06,
          3.686205314144638e-06,
          3.6876458155803848e-06,
          3.6905614012342003e-06,
          3.6949396761586572e-06,
          3.7007663282937523e-06,
          3.7080251770415623e-06,
          3.716698223964658e-06,
          3.7267657053682896e-06,
          3.738206146528158e-06,
          3.750996417328554e-06,
          3.765111789079822e-06,
          3.7805259922891007e-06,
          3.79721127516457e-06,
          3.815138462640425e-06,
          3.834277015717924e-06,
          3.854595090926631e-06,
          3.876059599719658e-06,
          3.898636267627168e-06,
          3.9222896930032995e-06,
          3.946983405213358e-06,
          3.9726799221203845e-06,
          3.999340806742459e-06,
          4.026926722965422e-06,
          4.055397490208564e-06,
          4.0847121369544435e-06,
          4.114828953067467e-06,
          4.145705540839358e-06,
          4.1772988647133245e-06,
          4.209565299651934e-06,
          4.24246067812716e-06,
          4.275940335723666e-06,
          4.3099591553593355e-06,
          4.344471610138979e-06,
          4.37943180486875e-06,
          4.414793516270265e-06,
          4.4505102319434324e-06,
          4.486535188137168e-06,
          4.522821406396072e-06,
          4.559321729159453e-06,
          4.595988854396513e-06,
          4.632775369368175e-06,
          4.669633783611572e-06,
          4.706516561248101e-06,
          4.743376152719513e-06,
          4.780165026059656e-06,
          4.816835697810894e-06,
          4.853340763695297e-06,
          4.889632929150574e-06,
          4.925665039839297e-06,
          4.96139011223806e-06,
          4.996761364410149e-06,
          5.031732247060995e-06,
          5.066256474971184e-06,
          5.100288058895631e-06,
          5.133781338011263e-06,
          5.166691012987884e-06,
          5.198972179749111e-06,
          5.230580363981222e-06,
          5.2614715564386395e-06,
          5.291602249084776e-06,
          5.320929472096579e-06,
          5.349410831750429e-06,
          5.377004549195869e-06,
          5.403669500112425e-06,
          5.429365255233112e-06,
          5.454052121706752e-06,
          5.4776911852595815e-06,
          5.50024435310493e-06,
          5.52167439753864e-06,
          5.54194500014637e-06,
          5.56102079653823e-06,
          5.57886742151579e-06,
          5.5954515545659165e-06,
          5.610740965567116e-06,
          5.624704560584351e-06,
          5.637312427620307e-06,
          5.648535882183501e-06,
          5.658347512526509e-06,
          5.6667212244016785e-06,
          5.673632285176339e-06,
          5.679057367145257e-06,
          5.682974589874615e-06,
          5.685363561409189e-06,
          5.686205418173047e-06,
          5.685482863393368e-06,
          5.683180203877498e-06,
          5.679283384974735e-06,
          5.67378002355672e-06,
          5.666659438853749e-06,
          5.657912680988523e-06,
          5.6475325570542406e-06,
          5.63551365459e-06,
          5.621852362313588e-06,
          5.6065468879795106e-06,
          5.589597273238927e-06,
          5.571005405387349e-06,
          5.550775025896204e-06,
          5.52891173563508e-06,
          5.505422996702587e-06,
          5.480318130795819e-06,
          5.453608314060394e-06,
          5.425306568375872e-06,
          5.39542774904404e-06,
          5.363988528860968e-06,
          5.331007378566766e-06,
          5.296504543680577e-06,
          5.260502017741649e-06,
          5.223023511990749e-06,
          5.184094421539269e-06,
          5.143741788086644e-06,
          5.101994259259249e-06,
          5.058882044656463e-06,
          5.014436868701738e-06,
          4.9686919204079945e-06,
          4.921681800177756e-06,
          4.8734424637691154e-06,
          4.824011163568485e-06,
          4.773426387320355e-06,
          4.721727794472898e-06,
          4.668956150306303e-06,
          4.615153258017566e-06,
          4.5603618889420855e-06,
          4.504625711097862e-06,
          4.447989216242832e-06,
          4.390497645639763e-06,
          4.3321969147263505e-06,
          4.273133536890291e-06,
          4.213354546550479e-06,
          4.15290742174628e-06,
          4.091840006436423e-06,
          4.030200432708103e-06,
          3.9680370430951275e-06,
          3.905398313201445e-06,
          3.842332774823004e-06,
          3.778888939757001e-06,
          3.7151152244830654e-06,
          3.651059875895513e-06,
          3.5867708982600224e-06,
          3.5222959815618254e-06,
          3.457682431405479e-06,
          3.3929771006189404e-06,
          3.328226322707073e-06,
          3.263475847291374e-06,
          3.1987707776643135e-06,
          3.1341555105780307e-06,
          3.069673678378031e-06,
          3.005368093583345e-06,
          2.9412806960054633e-06,
          2.87745250248868e-06,
          2.8139235593453085e-06,
          2.750732897549392e-06,
          2.6879184907434168e-06
         ],
         "yaxis": "y"
        }
       ],
       "layout": {
        "barmode": "overlay",
        "hovermode": "closest",
        "legend": {
         "traceorder": "reversed"
        },
        "template": {
         "data": {
          "bar": [
           {
            "error_x": {
             "color": "#2a3f5f"
            },
            "error_y": {
             "color": "#2a3f5f"
            },
            "marker": {
             "line": {
              "color": "#E5ECF6",
              "width": 0.5
             },
             "pattern": {
              "fillmode": "overlay",
              "size": 10,
              "solidity": 0.2
             }
            },
            "type": "bar"
           }
          ],
          "barpolar": [
           {
            "marker": {
             "line": {
              "color": "#E5ECF6",
              "width": 0.5
             },
             "pattern": {
              "fillmode": "overlay",
              "size": 10,
              "solidity": 0.2
             }
            },
            "type": "barpolar"
           }
          ],
          "carpet": [
           {
            "aaxis": {
             "endlinecolor": "#2a3f5f",
             "gridcolor": "white",
             "linecolor": "white",
             "minorgridcolor": "white",
             "startlinecolor": "#2a3f5f"
            },
            "baxis": {
             "endlinecolor": "#2a3f5f",
             "gridcolor": "white",
             "linecolor": "white",
             "minorgridcolor": "white",
             "startlinecolor": "#2a3f5f"
            },
            "type": "carpet"
           }
          ],
          "choropleth": [
           {
            "colorbar": {
             "outlinewidth": 0,
             "ticks": ""
            },
            "type": "choropleth"
           }
          ],
          "contour": [
           {
            "colorbar": {
             "outlinewidth": 0,
             "ticks": ""
            },
            "colorscale": [
             [
              0,
              "#0d0887"
             ],
             [
              0.1111111111111111,
              "#46039f"
             ],
             [
              0.2222222222222222,
              "#7201a8"
             ],
             [
              0.3333333333333333,
              "#9c179e"
             ],
             [
              0.4444444444444444,
              "#bd3786"
             ],
             [
              0.5555555555555556,
              "#d8576b"
             ],
             [
              0.6666666666666666,
              "#ed7953"
             ],
             [
              0.7777777777777778,
              "#fb9f3a"
             ],
             [
              0.8888888888888888,
              "#fdca26"
             ],
             [
              1,
              "#f0f921"
             ]
            ],
            "type": "contour"
           }
          ],
          "contourcarpet": [
           {
            "colorbar": {
             "outlinewidth": 0,
             "ticks": ""
            },
            "type": "contourcarpet"
           }
          ],
          "heatmap": [
           {
            "colorbar": {
             "outlinewidth": 0,
             "ticks": ""
            },
            "colorscale": [
             [
              0,
              "#0d0887"
             ],
             [
              0.1111111111111111,
              "#46039f"
             ],
             [
              0.2222222222222222,
              "#7201a8"
             ],
             [
              0.3333333333333333,
              "#9c179e"
             ],
             [
              0.4444444444444444,
              "#bd3786"
             ],
             [
              0.5555555555555556,
              "#d8576b"
             ],
             [
              0.6666666666666666,
              "#ed7953"
             ],
             [
              0.7777777777777778,
              "#fb9f3a"
             ],
             [
              0.8888888888888888,
              "#fdca26"
             ],
             [
              1,
              "#f0f921"
             ]
            ],
            "type": "heatmap"
           }
          ],
          "heatmapgl": [
           {
            "colorbar": {
             "outlinewidth": 0,
             "ticks": ""
            },
            "colorscale": [
             [
              0,
              "#0d0887"
             ],
             [
              0.1111111111111111,
              "#46039f"
             ],
             [
              0.2222222222222222,
              "#7201a8"
             ],
             [
              0.3333333333333333,
              "#9c179e"
             ],
             [
              0.4444444444444444,
              "#bd3786"
             ],
             [
              0.5555555555555556,
              "#d8576b"
             ],
             [
              0.6666666666666666,
              "#ed7953"
             ],
             [
              0.7777777777777778,
              "#fb9f3a"
             ],
             [
              0.8888888888888888,
              "#fdca26"
             ],
             [
              1,
              "#f0f921"
             ]
            ],
            "type": "heatmapgl"
           }
          ],
          "histogram": [
           {
            "marker": {
             "pattern": {
              "fillmode": "overlay",
              "size": 10,
              "solidity": 0.2
             }
            },
            "type": "histogram"
           }
          ],
          "histogram2d": [
           {
            "colorbar": {
             "outlinewidth": 0,
             "ticks": ""
            },
            "colorscale": [
             [
              0,
              "#0d0887"
             ],
             [
              0.1111111111111111,
              "#46039f"
             ],
             [
              0.2222222222222222,
              "#7201a8"
             ],
             [
              0.3333333333333333,
              "#9c179e"
             ],
             [
              0.4444444444444444,
              "#bd3786"
             ],
             [
              0.5555555555555556,
              "#d8576b"
             ],
             [
              0.6666666666666666,
              "#ed7953"
             ],
             [
              0.7777777777777778,
              "#fb9f3a"
             ],
             [
              0.8888888888888888,
              "#fdca26"
             ],
             [
              1,
              "#f0f921"
             ]
            ],
            "type": "histogram2d"
           }
          ],
          "histogram2dcontour": [
           {
            "colorbar": {
             "outlinewidth": 0,
             "ticks": ""
            },
            "colorscale": [
             [
              0,
              "#0d0887"
             ],
             [
              0.1111111111111111,
              "#46039f"
             ],
             [
              0.2222222222222222,
              "#7201a8"
             ],
             [
              0.3333333333333333,
              "#9c179e"
             ],
             [
              0.4444444444444444,
              "#bd3786"
             ],
             [
              0.5555555555555556,
              "#d8576b"
             ],
             [
              0.6666666666666666,
              "#ed7953"
             ],
             [
              0.7777777777777778,
              "#fb9f3a"
             ],
             [
              0.8888888888888888,
              "#fdca26"
             ],
             [
              1,
              "#f0f921"
             ]
            ],
            "type": "histogram2dcontour"
           }
          ],
          "mesh3d": [
           {
            "colorbar": {
             "outlinewidth": 0,
             "ticks": ""
            },
            "type": "mesh3d"
           }
          ],
          "parcoords": [
           {
            "line": {
             "colorbar": {
              "outlinewidth": 0,
              "ticks": ""
             }
            },
            "type": "parcoords"
           }
          ],
          "pie": [
           {
            "automargin": true,
            "type": "pie"
           }
          ],
          "scatter": [
           {
            "marker": {
             "colorbar": {
              "outlinewidth": 0,
              "ticks": ""
             }
            },
            "type": "scatter"
           }
          ],
          "scatter3d": [
           {
            "line": {
             "colorbar": {
              "outlinewidth": 0,
              "ticks": ""
             }
            },
            "marker": {
             "colorbar": {
              "outlinewidth": 0,
              "ticks": ""
             }
            },
            "type": "scatter3d"
           }
          ],
          "scattercarpet": [
           {
            "marker": {
             "colorbar": {
              "outlinewidth": 0,
              "ticks": ""
             }
            },
            "type": "scattercarpet"
           }
          ],
          "scattergeo": [
           {
            "marker": {
             "colorbar": {
              "outlinewidth": 0,
              "ticks": ""
             }
            },
            "type": "scattergeo"
           }
          ],
          "scattergl": [
           {
            "marker": {
             "colorbar": {
              "outlinewidth": 0,
              "ticks": ""
             }
            },
            "type": "scattergl"
           }
          ],
          "scattermapbox": [
           {
            "marker": {
             "colorbar": {
              "outlinewidth": 0,
              "ticks": ""
             }
            },
            "type": "scattermapbox"
           }
          ],
          "scatterpolar": [
           {
            "marker": {
             "colorbar": {
              "outlinewidth": 0,
              "ticks": ""
             }
            },
            "type": "scatterpolar"
           }
          ],
          "scatterpolargl": [
           {
            "marker": {
             "colorbar": {
              "outlinewidth": 0,
              "ticks": ""
             }
            },
            "type": "scatterpolargl"
           }
          ],
          "scatterternary": [
           {
            "marker": {
             "colorbar": {
              "outlinewidth": 0,
              "ticks": ""
             }
            },
            "type": "scatterternary"
           }
          ],
          "surface": [
           {
            "colorbar": {
             "outlinewidth": 0,
             "ticks": ""
            },
            "colorscale": [
             [
              0,
              "#0d0887"
             ],
             [
              0.1111111111111111,
              "#46039f"
             ],
             [
              0.2222222222222222,
              "#7201a8"
             ],
             [
              0.3333333333333333,
              "#9c179e"
             ],
             [
              0.4444444444444444,
              "#bd3786"
             ],
             [
              0.5555555555555556,
              "#d8576b"
             ],
             [
              0.6666666666666666,
              "#ed7953"
             ],
             [
              0.7777777777777778,
              "#fb9f3a"
             ],
             [
              0.8888888888888888,
              "#fdca26"
             ],
             [
              1,
              "#f0f921"
             ]
            ],
            "type": "surface"
           }
          ],
          "table": [
           {
            "cells": {
             "fill": {
              "color": "#EBF0F8"
             },
             "line": {
              "color": "white"
             }
            },
            "header": {
             "fill": {
              "color": "#C8D4E3"
             },
             "line": {
              "color": "white"
             }
            },
            "type": "table"
           }
          ]
         },
         "layout": {
          "annotationdefaults": {
           "arrowcolor": "#2a3f5f",
           "arrowhead": 0,
           "arrowwidth": 1
          },
          "autotypenumbers": "strict",
          "coloraxis": {
           "colorbar": {
            "outlinewidth": 0,
            "ticks": ""
           }
          },
          "colorscale": {
           "diverging": [
            [
             0,
             "#8e0152"
            ],
            [
             0.1,
             "#c51b7d"
            ],
            [
             0.2,
             "#de77ae"
            ],
            [
             0.3,
             "#f1b6da"
            ],
            [
             0.4,
             "#fde0ef"
            ],
            [
             0.5,
             "#f7f7f7"
            ],
            [
             0.6,
             "#e6f5d0"
            ],
            [
             0.7,
             "#b8e186"
            ],
            [
             0.8,
             "#7fbc41"
            ],
            [
             0.9,
             "#4d9221"
            ],
            [
             1,
             "#276419"
            ]
           ],
           "sequential": [
            [
             0,
             "#0d0887"
            ],
            [
             0.1111111111111111,
             "#46039f"
            ],
            [
             0.2222222222222222,
             "#7201a8"
            ],
            [
             0.3333333333333333,
             "#9c179e"
            ],
            [
             0.4444444444444444,
             "#bd3786"
            ],
            [
             0.5555555555555556,
             "#d8576b"
            ],
            [
             0.6666666666666666,
             "#ed7953"
            ],
            [
             0.7777777777777778,
             "#fb9f3a"
            ],
            [
             0.8888888888888888,
             "#fdca26"
            ],
            [
             1,
             "#f0f921"
            ]
           ],
           "sequentialminus": [
            [
             0,
             "#0d0887"
            ],
            [
             0.1111111111111111,
             "#46039f"
            ],
            [
             0.2222222222222222,
             "#7201a8"
            ],
            [
             0.3333333333333333,
             "#9c179e"
            ],
            [
             0.4444444444444444,
             "#bd3786"
            ],
            [
             0.5555555555555556,
             "#d8576b"
            ],
            [
             0.6666666666666666,
             "#ed7953"
            ],
            [
             0.7777777777777778,
             "#fb9f3a"
            ],
            [
             0.8888888888888888,
             "#fdca26"
            ],
            [
             1,
             "#f0f921"
            ]
           ]
          },
          "colorway": [
           "#636efa",
           "#EF553B",
           "#00cc96",
           "#ab63fa",
           "#FFA15A",
           "#19d3f3",
           "#FF6692",
           "#B6E880",
           "#FF97FF",
           "#FECB52"
          ],
          "font": {
           "color": "#2a3f5f"
          },
          "geo": {
           "bgcolor": "white",
           "lakecolor": "white",
           "landcolor": "#E5ECF6",
           "showlakes": true,
           "showland": true,
           "subunitcolor": "white"
          },
          "hoverlabel": {
           "align": "left"
          },
          "hovermode": "closest",
          "mapbox": {
           "style": "light"
          },
          "paper_bgcolor": "white",
          "plot_bgcolor": "#E5ECF6",
          "polar": {
           "angularaxis": {
            "gridcolor": "white",
            "linecolor": "white",
            "ticks": ""
           },
           "bgcolor": "#E5ECF6",
           "radialaxis": {
            "gridcolor": "white",
            "linecolor": "white",
            "ticks": ""
           }
          },
          "scene": {
           "xaxis": {
            "backgroundcolor": "#E5ECF6",
            "gridcolor": "white",
            "gridwidth": 2,
            "linecolor": "white",
            "showbackground": true,
            "ticks": "",
            "zerolinecolor": "white"
           },
           "yaxis": {
            "backgroundcolor": "#E5ECF6",
            "gridcolor": "white",
            "gridwidth": 2,
            "linecolor": "white",
            "showbackground": true,
            "ticks": "",
            "zerolinecolor": "white"
           },
           "zaxis": {
            "backgroundcolor": "#E5ECF6",
            "gridcolor": "white",
            "gridwidth": 2,
            "linecolor": "white",
            "showbackground": true,
            "ticks": "",
            "zerolinecolor": "white"
           }
          },
          "shapedefaults": {
           "line": {
            "color": "#2a3f5f"
           }
          },
          "ternary": {
           "aaxis": {
            "gridcolor": "white",
            "linecolor": "white",
            "ticks": ""
           },
           "baxis": {
            "gridcolor": "white",
            "linecolor": "white",
            "ticks": ""
           },
           "bgcolor": "#E5ECF6",
           "caxis": {
            "gridcolor": "white",
            "linecolor": "white",
            "ticks": ""
           }
          },
          "title": {
           "x": 0.05
          },
          "xaxis": {
           "automargin": true,
           "gridcolor": "white",
           "linecolor": "white",
           "ticks": "",
           "title": {
            "standoff": 15
           },
           "zerolinecolor": "white",
           "zerolinewidth": 2
          },
          "yaxis": {
           "automargin": true,
           "gridcolor": "white",
           "linecolor": "white",
           "ticks": "",
           "title": {
            "standoff": 15
           },
           "zerolinecolor": "white",
           "zerolinewidth": 2
          }
         }
        },
        "title": {
         "text": "Credit Card Transactions Time Density Plot"
        },
        "xaxis": {
         "anchor": "y2",
         "domain": [
          0,
          1
         ],
         "title": {
          "text": "Time [s]"
         },
         "zeroline": false
        },
        "yaxis": {
         "anchor": "free",
         "domain": [
          0,
          1
         ],
         "position": 0
        }
       }
      },
      "text/html": [
       "<div>                            <div id=\"73a359a0-47fd-410f-b826-9be6767f55c5\" class=\"plotly-graph-div\" style=\"height:525px; width:100%;\"></div>            <script type=\"text/javascript\">                require([\"plotly\"], function(Plotly) {                    window.PLOTLYENV=window.PLOTLYENV || {};                                    if (document.getElementById(\"73a359a0-47fd-410f-b826-9be6767f55c5\")) {                    Plotly.newPlot(                        \"73a359a0-47fd-410f-b826-9be6767f55c5\",                        [{\"legendgroup\":\"Not Fraud\",\"marker\":{\"color\":\"rgb(31, 119, 180)\"},\"mode\":\"lines\",\"name\":\"Not Fraud\",\"showlegend\":true,\"x\":[0.0,345.584,691.168,1036.752,1382.336,1727.92,2073.504,2419.088,2764.672,3110.256,3455.84,3801.424,4147.008,4492.592,4838.176,5183.76,5529.344,5874.928,6220.512,6566.096,6911.68,7257.264,7602.848,7948.432,8294.016,8639.6,8985.184,9330.768,9676.352,10021.936,10367.52,10713.104,11058.688,11404.272,11749.856,12095.44,12441.024,12786.608,13132.192,13477.776,13823.36,14168.944,14514.528,14860.112,15205.696,15551.28,15896.864,16242.448,16588.032,16933.616,17279.2,17624.784,17970.368,18315.952,18661.536,19007.12,19352.704,19698.288,20043.872,20389.456,20735.04,21080.624,21426.208,21771.792,22117.376,22462.96,22808.544,23154.128,23499.712,23845.296,24190.88,24536.464,24882.048,25227.632,25573.216,25918.8,26264.384,26609.968,26955.552,27301.136,27646.72,27992.304,28337.888,28683.472,29029.056,29374.64,29720.224,30065.808,30411.392,30756.976,31102.56,31448.144,31793.728,32139.312,32484.896,32830.48,33176.064,33521.648,33867.232,34212.816,34558.4,34903.984,35249.568,35595.152,35940.736,36286.32,36631.904,36977.488,37323.072,37668.656,38014.24,38359.824,38705.408,39050.992,39396.576,39742.16,40087.744,40433.328,40778.912,41124.496,41470.08,41815.664,42161.248,42506.832,42852.416,43198.0,43543.584,43889.168,44234.752,44580.336,44925.92,45271.504,45617.088,45962.672,46308.256,46653.84,46999.424,47345.008,47690.592,48036.176,48381.76,48727.344,49072.928,49418.512,49764.096,50109.68,50455.264,50800.848,51146.432,51492.016,51837.6,52183.184,52528.768,52874.352,53219.936,53565.52,53911.104,54256.688,54602.272,54947.856,55293.44,55639.024,55984.608,56330.192,56675.776,57021.36,57366.944,57712.528,58058.112,58403.696,58749.28,59094.864,59440.448,59786.032,60131.616,60477.2,60822.784,61168.368,61513.952,61859.536,62205.12,62550.704,62896.288,63241.872,63587.456,63933.04,64278.624,64624.208,64969.792,65315.376,65660.96,66006.544,66352.128,66697.712,67043.296,67388.88,67734.464,68080.048,68425.632,68771.216,69116.8,69462.384,69807.968,70153.552,70499.136,70844.72,71190.304,71535.888,71881.472,72227.056,72572.64,72918.224,73263.808,73609.392,73954.976,74300.56,74646.144,74991.728,75337.312,75682.896,76028.48,76374.064,76719.648,77065.232,77410.816,77756.4,78101.984,78447.568,78793.152,79138.736,79484.32,79829.904,80175.488,80521.072,80866.656,81212.24,81557.824,81903.408,82248.992,82594.576,82940.16,83285.744,83631.328,83976.912,84322.496,84668.08,85013.664,85359.248,85704.832,86050.416,86396.0,86741.584,87087.168,87432.752,87778.336,88123.92,88469.504,88815.088,89160.672,89506.256,89851.84,90197.424,90543.008,90888.592,91234.176,91579.76,91925.344,92270.928,92616.512,92962.096,93307.68,93653.264,93998.848,94344.432,94690.016,95035.6,95381.184,95726.768,96072.352,96417.936,96763.52,97109.104,97454.688,97800.272,98145.856,98491.44,98837.024,99182.608,99528.192,99873.776,100219.36,100564.944,100910.528,101256.112,101601.696,101947.28,102292.864,102638.448,102984.032,103329.616,103675.2,104020.784,104366.368,104711.952,105057.536,105403.12,105748.704,106094.288,106439.872,106785.456,107131.04,107476.624,107822.208,108167.792,108513.376,108858.96,109204.544,109550.128,109895.712,110241.296,110586.88,110932.464,111278.048,111623.632,111969.216,112314.8,112660.384,113005.968,113351.552,113697.136,114042.72,114388.304,114733.888,115079.472,115425.056,115770.64,116116.224,116461.808,116807.392,117152.976,117498.56,117844.144,118189.728,118535.312,118880.896,119226.48,119572.064,119917.648,120263.232,120608.816,120954.4,121299.984,121645.568,121991.152,122336.736,122682.32,123027.904,123373.488,123719.072,124064.656,124410.24,124755.824,125101.408,125446.992,125792.576,126138.16,126483.744,126829.328,127174.912,127520.496,127866.08,128211.664,128557.248,128902.832,129248.416,129594.0,129939.584,130285.168,130630.752,130976.336,131321.92,131667.504,132013.088,132358.672,132704.256,133049.84,133395.424,133741.008,134086.592,134432.176,134777.76,135123.344,135468.928,135814.512,136160.096,136505.68,136851.264,137196.848,137542.432,137888.016,138233.6,138579.184,138924.768,139270.352,139615.936,139961.52,140307.104,140652.688,140998.272,141343.856,141689.44,142035.024,142380.608,142726.192,143071.776,143417.36,143762.944,144108.528,144454.112,144799.696,145145.28,145490.864,145836.448,146182.032,146527.616,146873.2,147218.784,147564.368,147909.952,148255.536,148601.12,148946.704,149292.288,149637.872,149983.456,150329.04,150674.624,151020.208,151365.792,151711.376,152056.96,152402.544,152748.128,153093.712,153439.296,153784.88,154130.464,154476.048,154821.632,155167.216,155512.8,155858.384,156203.968,156549.552,156895.136,157240.72,157586.304,157931.888,158277.472,158623.056,158968.64,159314.224,159659.808,160005.392,160350.976,160696.56,161042.144,161387.728,161733.312,162078.896,162424.48,162770.064,163115.648,163461.232,163806.816,164152.4,164497.984,164843.568,165189.152,165534.736,165880.32,166225.904,166571.488,166917.072,167262.656,167608.24,167953.824,168299.408,168644.992,168990.576,169336.16,169681.744,170027.328,170372.912,170718.496,171064.08,171409.664,171755.248,172100.832,172446.416],\"xaxis\":\"x\",\"y\":[1.697347456086226e-06,1.7892406860838062e-06,1.875106662289505e-06,1.9539240211315817e-06,2.024814787484194e-06,2.0870700001728196e-06,2.140169352315841e-06,2.1837939471416954e-06,2.2178316034665912e-06,2.242374511761339e-06,2.2577094196194064e-06,2.2643008918188014e-06,2.262768523405099e-06,2.253859265166271e-06,2.2384162340774597e-06,2.217345515980265e-06,2.19158251832814e-06,2.162059397021128e-06,2.129674968038674e-06,2.0952683311934044e-06,2.05959719303171e-06,2.023321594571912e-06,1.9869934446533327e-06,1.9510519490665077e-06,1.915824726570105e-06,1.8815341310018962e-06,1.8483080671292573e-06,1.816194406840058e-06,1.7851779885078935e-06,1.7551991191213409e-06,1.7261724957825178e-06,1.6980055169883938e-06,1.6706150584078139e-06,1.6439419340972001e-06,1.6179624420037478e-06,1.5926965909610441e-06,1.5682128135695857e-06,1.5446291740589583e-06,1.5221112719306263e-06,1.500867211665929e-06,1.481140148483666e-06,1.4631990243977305e-06,1.447328174052436e-06,1.4338165045343555e-06,1.422946938147587e-06,1.41498675454292e-06,1.4101793829092124e-06,1.408738081981337e-06,1.4108418124353675e-06,1.4166334607267712e-06,1.4262204239961602e-06,1.4396774207779606e-06,1.4570512600447994e-06,1.4783671889174081e-06,1.5036363533035317e-06,1.5328638503405995e-06,1.5660568294637841e-06,1.6032321108015968e-06,1.6444228338374863e-06,1.689683722236137e-06,1.739094646910136e-06,1.792762281809424e-06,1.8508197675565135e-06,1.913424418521531e-06,1.980753621024303e-06,2.0529991667167222e-06,2.130360339872763e-06,2.2130361262110283e-06,2.3012169320790766e-06,2.3950761967093983e-06,2.494762249423482e-06,2.6003907126324243e-06,2.712037686308532e-06,2.8297338772311614e-06,2.9534597639182706e-06,3.083141822512351e-06,3.218649785632445e-06,3.3597948693886424e-06,3.5063288854050637e-06,3.657944154693155e-06,3.8142741563072327e-06,3.974894871817512e-06,4.139326821281707e-06,4.307037821357342e-06,4.477446525210012e-06,4.649926821293156e-06,4.8238131696183875e-06,4.998406937320514e-06,5.17298375982073e-06,5.346801901645484e-06,5.5191115259867515e-06,5.689164710128659e-06,5.856225971804274e-06,6.019583006720395e-06,6.178557286896823e-06,6.332514139090871e-06,6.480871916741141e-06,6.6231098997298576e-06,6.758774603685426e-06,6.887484251983715e-06,7.008931254393314e-06,7.122882640061903e-06,7.229178501787338e-06,7.327728615221863e-06,7.418507493160355e-06,7.501548214399438e-06,7.576935423367104e-06,7.64479792710563e-06,7.705301318490012e-06,7.758641029150601e-06,7.805036164694744e-06,7.844724402420204e-06,7.877958143023881e-06,7.90500200908823e-06,7.926131680880564e-06,7.941633960959935e-06,7.95180786947959e-06,7.956966497383272e-06,7.957439289376488e-06,7.953574395832491e-06,7.945740724359432e-06,7.934329337960002e-06,7.919753886306897e-06,7.902449817070932e-06,7.88287219158645e-06,7.861492018651875e-06,7.838791116317142e-06,7.815255608175426e-06,7.791368252068976e-06,7.767599879605554e-06,7.744400289671188e-06,7.722188984437173e-06,7.701346159669054e-06,7.682204361436707e-06,7.665041198951465e-06,7.650073460067832e-06,7.637452914970819e-06,7.6272640186896715e-06,7.619523638961728e-06,7.614182847393351e-06,7.611130723686315e-06,7.61020003922174e-06,7.611174611300593e-06,7.613798055773269e-06,7.617783615693654e-06,7.622824708287954e-06,7.6286058123309735e-06,7.634813312831111e-06,7.641145929061619e-06,7.647324374415869e-06,7.653099931106341e-06,7.658261667941967e-06,7.66264208379356e-06,7.666121021265792e-06,7.668627762522016e-06,7.67014129016032e-06,7.670688767914207e-06,7.670342366006724e-06,7.669214621200136e-06,7.667452578692809e-06,7.665231008939398e-06,7.662745024280962e-06,7.660202435730386e-06,7.657816187892279e-06,7.655797189368887e-06,7.654347818073842e-06,7.653656327679467e-06,7.653892316465036e-06,7.65520334751925e-06,7.657712734803749e-06,7.66151843861622e-06,7.666692951868367e-06,7.673284010222378e-06,7.681315928223042e-06,7.690791352390222e-06,7.701693231398637e-06,7.713986831543374e-06,7.727621669694344e-06,7.74253329100723e-06,7.758644879036126e-06,7.775868744871469e-06,7.79410779301154e-06,7.813257098720034e-06,7.833205749804443e-06,7.853839101993095e-06,7.87504157028948e-06,7.896700030201668e-06,7.918707836091311e-06,7.940969384640015e-06,7.963405066766165e-06,7.98595636928918e-06,8.008590816494447e-06,8.031306389214008e-06,8.054135031363686e-06,8.077144855419425e-06,8.100440690962875e-06,8.12416268335992e-06,8.14848273946242e-06,8.173598728157825e-06,8.199726468138793e-06,8.227089664610315e-06,8.255908081986769e-06,8.286384352227611e-06,8.318689911131436e-06,8.352950622010562e-06,8.389232684289148e-06,8.427529432517223e-06,8.467749609997749e-06,8.5097076534679e-06,8.553116455128343e-06,8.59758298070585e-06,8.642607022227293e-06,8.687583256706541e-06,8.731806671225067e-06,8.774481304367468e-06,8.814732146393526e-06,8.85161993776527e-06,8.884158509418365e-06,8.911334219899886e-06,8.932126965959681e-06,8.945532176540064e-06,8.950583148096042e-06,8.946373044910821e-06,8.932075875017874e-06,8.90696576368084e-06,8.870433884729148e-06,8.82200247683397e-06,8.761335466860958e-06,8.688245343573295e-06,8.602696067955016e-06,8.504801964908307e-06,8.394822707027359e-06,8.273154665238242e-06,8.140319053533444e-06,7.996947426325069e-06,7.843765188647893e-06,7.681573845069686e-06,7.511232738581268e-06,7.33364101471729e-06,7.149720490327954e-06,6.960400015284128e-06,6.766601795741942e-06,6.5692300080250655e-06,6.369161882344768e-06,6.167241285296679e-06,5.964274688715285e-06,5.761029288153017e-06,5.558232933420786e-06,5.3565754606671604e-06,5.156710972657441e-06,4.9592606013688776e-06,4.764815303057658e-06,4.573938277348996e-06,4.387166664290932e-06,4.205012251683968e-06,4.027961014003517e-06,3.856471398599546e-06,3.6909713696184235e-06,3.531854310764002e-06,3.3794739707040146e-06,3.2341387063642493e-06,3.0961053368941803e-06,2.965572962654928e-06,2.8426771276871043e-06,2.7274847098051155e-06,2.619989909357818e-06,2.5201116760150914e-06,2.4276928635698165e-06,2.342501337296398e-06,2.264233179246593e-06,2.192518047148749e-06,2.1269266461765227e-06,2.0669801742745345e-06,2.012161505894253e-06,1.9619277910244224e-06,1.9157240712834857e-06,1.8729974570884045e-06,1.8332113732540546e-06,1.795859367380199e-06,1.7604779872841181e-06,1.7266582702356216e-06,1.694055445992838e-06,1.6623965343016349e-06,1.6314856110536923e-06,1.6012066201757071e-06,1.5715237145407144e-06,1.5424792126083196e-06,1.5141893523611344e-06,1.4868381053923456e-06,1.460669377795123e-06,1.4359779681991332e-06,1.4130996757281782e-06,1.3924009520549702e-06,1.3742684736943766e-06,1.3590989758662608e-06,1.3472896412160876e-06,1.3392292794638088e-06,1.3352904719533157e-06,1.3358227923195591e-06,1.3411471549519646e-06,1.3515512899463579e-06,1.36728629939042e-06,1.3885642169032805e-06,1.4155564712147415e-06,1.4483931452166276e-06,1.4871629234741589e-06,1.5319136320143352e-06,1.582653292030212e-06,1.6393516311859596e-06,1.7019420194297468e-06,1.7703238174880971e-06,1.8443651425656402e-06,1.9239060646457236e-06,2.0087622462564445e-06,2.0987290275195512e-06,2.193585936646047e-06,2.293101574710358e-06,2.3970387845923e-06,2.5051599704428945e-06,2.6172323897750845e-06,2.7330331997486778e-06,2.8523540070366517e-06,2.975004651334325e-06,3.1008159500099968e-06,3.229641148489612e-06,3.361355859316422e-06,3.4958563323563805e-06,3.6330559775247643e-06,3.77288015605973e-06,3.915259361504394e-06,4.0601210205601614e-06,4.207380249287442e-06,4.356929993860336e-06,4.5086310595292885e-06,4.6623025798610195e-06,4.817713495387056e-06,4.974575593215821e-06,5.1325386060646575e-06,5.291187782149384e-06,5.450044220727475e-06,5.608568128319683e-06,5.7661649962831695e-06,5.922194541198147e-06,6.075982095987879e-06,6.226832001933776e-06,6.374042439169836e-06,6.516921053370932e-06,6.654800694581855e-06,6.787054583109831e-06,6.913110256888776e-06,7.032461731690979e-06,7.144679414247741e-06,7.249417441023877e-06,7.3464182626032205e-06,7.435514445358029e-06,7.516627808025064e-06,7.589766141684623e-06,7.65501786938152e-06,7.712545080304947e-06,7.76257541936528e-06,7.80539332511169e-06,7.841331088565964e-06,7.870760156336691e-06,7.894083028920017e-06,7.911726016105932e-06,7.924133013618898e-06,7.931760366075158e-06,7.935072788425494e-06,7.934540237282675e-06,7.930635559896009e-06,7.923832705051019e-06,7.914605258270496e-06,7.903425063041482e-06,7.890760708466109e-06,7.877075698645939e-06,7.862826166202862e-06,7.848458047158574e-06,7.834403692290486e-06,7.82107794680491e-06,7.808873781945643e-06,7.798157606035696e-06,7.789264416363833e-06,7.782492976151726e-06,7.778101212259416e-06,7.776302029754063e-06,7.777259729962859e-06,7.781087200522535e-06,7.787844020759934e-06,7.797535595084253e-06,7.810113392411539e-06,7.825476332418608e-06,7.843473320742815e-06,7.86390689633336e-06,7.88653791592843e-06,7.911091164212854e-06,7.937261744566681e-06,7.964722075703528e-06,7.993129295076801e-06,8.022132851958381e-06,8.051382062851659e-06,8.080533400309723e-06,8.10925729415988e-06,8.137244241794065e-06,8.164210051465266e-06,8.189900078482423e-06,8.214092357438593e-06,8.236599582026864e-06,8.25726993493551e-06,8.275986820935606e-06,8.292667603341435e-06,8.30726148460006e-06,8.319746703096488e-06,8.330127238270177e-06,8.338429223485027e-06,8.344697260356944e-06,8.348990810121105e-06,8.351380808722834e-06,8.351946615214957e-06,8.350773361117179e-06,8.347949725304532e-06,8.343566118802322e-06,8.337713230093595e-06,8.330480857437749e-06,8.321956942328969e-06,8.312226718654158e-06,8.301371904984082e-06,8.289469891130866e-06,8.276592901670644e-06,8.262807154751018e-06,8.24817206964307e-06,8.232739606528501e-06,8.216553842656714e-06,8.199650896786162e-06,8.18205930653018e-06,8.163800940243854e-06,8.14489248744238e-06,8.125347522248057e-06,8.10517907716839e-06,8.084402605008577e-06,8.063039150737193e-06,8.041118508591435e-06,8.018682107831938e-06,7.995785357477929e-06,7.972499188554666e-06,7.94891056241772e-06,7.925121764271022e-06,7.90124836881024e-06,7.877415845168724e-06,7.853754855151372e-06,7.830395385603206e-06,7.807459936140126e-06,7.785056051576906e-06,7.763268539232141e-06,7.742151741544883e-06,7.721722242233108e-06,7.701952369437015e-06,7.682764823383588e-06,7.664028701862044e-06,7.645557128088684e-06,7.627106606879589e-06,7.608378151350866e-06,7.589020138440517e-06,7.568632772026171e-06,7.546773961324201e-06,7.5229663630704866e-06,7.496705291375235e-06,7.467467171099338e-06,7.434718200257147e-06,7.397922894775452e-06,7.356552214556368e-06,7.310091012100782e-06,7.258044602058914e-06,7.199944319248215e-06,7.1353520104481055e-06,7.063863487342653e-06,6.985111049446799e-06,6.898765261309e-06,6.804536232139018e-06,6.702174692783638e-06,6.591473189773026e-06,6.472267715052258e-06,6.3444400605795025e-06,6.207921128630468e-06,6.062695343022794e-06,5.908806197528006e-06,5.746362851759736e-06,5.575547550174996e-06,5.396623506475834e-06,5.2099427745622565e-06,5.015953529263215e-06,4.815206115540979e-06,4.608357202072428e-06,4.396171399757077e-06,4.179519780059331e-06,3.959374850598455e-06,3.7368017104920474e-06,3.512945306302105e-06,3.289013928517034e-06,3.0662593135147676e-06,2.845953930965831e-06],\"yaxis\":\"y\",\"type\":\"scatter\"},{\"legendgroup\":\"Fraud\",\"marker\":{\"color\":\"rgb(255, 127, 14)\"},\"mode\":\"lines\",\"name\":\"Fraud\",\"showlegend\":true,\"x\":[406.0,745.884,1085.768,1425.652,1765.536,2105.42,2445.304,2785.188,3125.072,3464.956,3804.84,4144.724,4484.608,4824.492,5164.376,5504.26,5844.144,6184.028,6523.912,6863.796,7203.68,7543.564,7883.448,8223.332,8563.216,8903.1,9242.984,9582.868,9922.752,10262.636,10602.52,10942.404,11282.288,11622.172,11962.056,12301.94,12641.824,12981.708,13321.592,13661.476,14001.36,14341.244,14681.128,15021.012,15360.896,15700.78,16040.664,16380.548,16720.432,17060.316,17400.2,17740.084,18079.968,18419.852,18759.736,19099.62,19439.504,19779.388,20119.272,20459.156,20799.04,21138.924,21478.808,21818.692,22158.576,22498.46,22838.344,23178.228,23518.112,23857.996,24197.88,24537.764,24877.648,25217.532,25557.416,25897.3,26237.184,26577.068,26916.952,27256.836,27596.72,27936.604,28276.488,28616.372,28956.256,29296.14,29636.024,29975.908,30315.792,30655.676,30995.56,31335.444,31675.328,32015.212,32355.096,32694.98,33034.864,33374.748,33714.632,34054.516,34394.4,34734.284,35074.168,35414.052,35753.936,36093.82,36433.704,36773.588,37113.472,37453.356,37793.24,38133.124,38473.008,38812.892,39152.776,39492.66,39832.544,40172.428,40512.312,40852.196,41192.08,41531.964,41871.848,42211.732,42551.616,42891.5,43231.384,43571.268,43911.152,44251.036,44590.92,44930.804,45270.688,45610.572,45950.456,46290.34,46630.224,46970.108,47309.992,47649.876,47989.76,48329.644,48669.528,49009.412,49349.296,49689.18,50029.064,50368.948,50708.832,51048.716,51388.6,51728.484,52068.368,52408.252,52748.136,53088.02,53427.904,53767.788,54107.672,54447.556,54787.44,55127.324,55467.208,55807.092,56146.976,56486.86,56826.744,57166.628,57506.512,57846.396,58186.28,58526.164,58866.048,59205.932,59545.816,59885.7,60225.584,60565.468,60905.352,61245.236,61585.12,61925.004,62264.888,62604.772,62944.656,63284.54,63624.424,63964.308,64304.192,64644.076,64983.96,65323.844,65663.728,66003.612,66343.496,66683.38,67023.264,67363.148,67703.032,68042.916,68382.8,68722.684,69062.568,69402.452,69742.336,70082.22,70422.104,70761.988,71101.872,71441.756,71781.64,72121.524,72461.408,72801.292,73141.176,73481.06,73820.944,74160.828,74500.712,74840.596,75180.48,75520.364,75860.248,76200.132,76540.016,76879.9,77219.784,77559.668,77899.552,78239.436,78579.32,78919.204,79259.088,79598.972,79938.856,80278.74,80618.624,80958.508,81298.392,81638.276,81978.16,82318.044,82657.928,82997.812,83337.696,83677.58,84017.464,84357.348,84697.232,85037.116,85377.0,85716.884,86056.768,86396.652,86736.536,87076.42,87416.304,87756.188,88096.072,88435.956,88775.84,89115.724,89455.608,89795.492,90135.376,90475.26,90815.144,91155.028,91494.912,91834.796,92174.68,92514.564,92854.448,93194.332,93534.216,93874.1,94213.984,94553.868,94893.752,95233.636,95573.52,95913.404,96253.288,96593.172,96933.056,97272.94,97612.824,97952.708,98292.592,98632.476,98972.36,99312.244,99652.128,99992.012,100331.896,100671.78,101011.664,101351.548,101691.432,102031.316,102371.2,102711.084,103050.968,103390.852,103730.736,104070.62,104410.504,104750.388,105090.272,105430.156,105770.04,106109.924,106449.808,106789.692,107129.576,107469.46,107809.344,108149.228,108489.112,108828.996,109168.88,109508.764,109848.648,110188.532,110528.416,110868.3,111208.184,111548.068,111887.952,112227.836,112567.72,112907.604,113247.488,113587.372,113927.256,114267.14,114607.024,114946.908,115286.792,115626.676,115966.56,116306.444,116646.328,116986.212,117326.096,117665.98,118005.864,118345.748,118685.632,119025.516,119365.4,119705.284,120045.168,120385.052,120724.936,121064.82,121404.704,121744.588,122084.472,122424.356,122764.24,123104.124,123444.008,123783.892,124123.776,124463.66,124803.544,125143.428,125483.312,125823.196,126163.08,126502.964,126842.848,127182.732,127522.616,127862.5,128202.384,128542.268,128882.152,129222.036,129561.92,129901.804,130241.688,130581.572,130921.456,131261.34,131601.224,131941.108,132280.992,132620.876,132960.76,133300.644,133640.528,133980.412,134320.296,134660.18,135000.064,135339.948,135679.832,136019.716,136359.6,136699.484,137039.368,137379.252,137719.136,138059.02,138398.904,138738.788,139078.672,139418.556,139758.44,140098.324,140438.208,140778.092,141117.976,141457.86,141797.744,142137.628,142477.512,142817.396,143157.28,143497.164,143837.048,144176.932,144516.816,144856.7,145196.584,145536.468,145876.352,146216.236,146556.12,146896.004,147235.888,147575.772,147915.656,148255.54,148595.424,148935.308,149275.192,149615.076,149954.96,150294.844,150634.728,150974.612,151314.496,151654.38,151994.264,152334.148,152674.032,153013.916,153353.8,153693.684,154033.568,154373.452,154713.336,155053.22,155393.104,155732.988,156072.872,156412.756,156752.64,157092.524,157432.408,157772.292,158112.176,158452.06,158791.944,159131.828,159471.712,159811.596,160151.48,160491.364,160831.248,161171.132,161511.016,161850.9,162190.784,162530.668,162870.552,163210.436,163550.32,163890.204,164230.088,164569.972,164909.856,165249.74,165589.624,165929.508,166269.392,166609.276,166949.16,167289.044,167628.928,167968.812,168308.696,168648.58,168988.464,169328.348,169668.232,170008.116],\"xaxis\":\"x\",\"y\":[2.5725270199184186e-06,2.6310058058129387e-06,2.6897686304363113e-06,2.748786647363209e-06,2.8080309928186174e-06,2.867472852442724e-06,2.9270835279276285e-06,2.9868345032672523e-06,3.0466975103604765e-06,3.106644593707739e-06,3.1666481739421243e-06,3.226681109938766e-06,3.286716759249754e-06,3.3467290366169334e-06,3.4066924703207853e-06,3.4665822561312507e-06,3.5263743086346612e-06,3.586045309720728e-06,3.645572754024372e-06,3.704934991128807e-06,3.764111264349628e-06,3.823081745932931e-06,3.8818275685156236e-06,3.940330852711665e-06,3.998574730703818e-06,4.056543365738183e-06,4.114221967435876e-06,4.171596802854251e-06,4.22865520324932e-06,4.2853855665086814e-06,4.341777355244726e-06,4.397821090555966e-06,4.453508341484275e-06,4.508831710215101e-06,4.563784813086301e-06,4.618362257490829e-06,4.672559614776593e-06,4.726373389264857e-06,4.779800983526774e-06,4.832840660073917e-06,4.885491499635645e-06,4.937753356211278e-06,4.989626809100186e-06,5.041113112126349e-06,5.092214140287206e-06,5.142932334068027e-06,5.193270641674183e-06,5.2432324594427434e-06,5.292821570703958e-06,5.342042083369238e-06,5.390898366529313e-06,5.439394986349832e-06,5.487536641555415e-06,5.53532809879497e-06,5.5827741281816e-06,5.629879439299518e-06,5.676648617968544e-06,5.7230860640530265e-06,5.769195930597303e-06,5.814982064563845e-06,5.860447949442463e-06,5.905596649991412e-06,5.9504307593597875e-06,5.9949523488313795e-06,6.039162920417333e-06,6.083063362511553e-06,6.126653908809835e-06,6.169934100677941e-06,6.212902753138355e-06,6.255557924628919e-06,6.297896890669667e-06,6.339916121555686e-06,6.381611264176304e-06,6.422977128041518e-06,6.464007675577934e-06,6.504696016736774e-06,6.545034407937353e-06,6.58501425534952e-06,6.6246261224990165e-06,6.663859742160641e-06,6.702704032484233e-06,6.7411471172800726e-06,6.779176350371274e-06,6.816778343903149e-06,6.85393900048132e-06,6.890643548994117e-06,6.926876583958109e-06,6.962622108210547e-06,6.997863578757841e-06,7.032583955575589e-06,7.066765753143316e-06,7.100391094485444e-06,7.133441767479521e-06,7.165899283183914e-06,7.197744935928864e-06,7.228959864908297e-06,7.2595251170041e-06,7.289421710570782e-06,7.318630699905537e-06,7.34713324012691e-06,7.3749106521859724e-06,7.401944487734288e-06,7.428216593576158e-06,7.453709175436183e-06,7.478404860778613e-06,7.5022867604211935e-06,7.525338528694e-06,7.547544421902763e-06,7.568889354865974e-06,7.589358955305964e-06,7.608939615886946e-06,7.627618543704963e-06,7.645383807049724e-06,7.662224379271767e-06,7.678130179605082e-06,7.693092110809927e-06,7.707102093518341e-06,7.720153097180765e-06,7.73223916753028e-06,7.74335545049777e-06,7.753498212529612e-06,7.762664857276409e-06,7.770853938639618e-06,7.778065170179878e-06,7.784299430908184e-06,7.789558767497564e-06,7.793846392970039e-06,7.797166681927951e-06,7.799525162415758e-06,7.800928504511102e-06,7.801384505758749e-06,7.800902073572754e-06,7.79949120474543e-06,7.79716296221043e-06,7.793929449219127e-06,7.7898037810964e-06,7.784800054750648e-06,7.778933316118147e-06,7.772219525727596e-06,7.764675522574616e-06,7.756318986497791e-06,7.747168399250415e-06,7.737243004461252e-06,7.726562766677174e-06,7.715148329678113e-06,7.703020974251558e-06,7.690202575608856e-06,7.676715560620782e-06,7.662582865042436e-06,7.647827890890533e-06,7.632474464127642e-06,7.61654679279824e-06,7.600069425751879e-06,7.583067212077928e-06,7.565565261364993e-06,7.547588904886183e-06,7.529163657799741e-06,7.5103151824412315e-06,7.491069252771464e-06,7.471451720031028e-06,7.451488479639303e-06,7.431205439363627e-06,7.410628488770476e-06,7.3897834699591784e-06,7.368696149565698e-06,7.347392192012734e-06,7.325897133970946e-06,7.304236359985557e-06,7.282435079212542e-06,7.260518303199248e-06,7.238510824635932e-06,7.21643719699678e-06,7.194321714982593e-06,7.172188395671026e-06,7.150060960275749e-06,7.127962816411894e-06,7.105917040762377e-06,7.083946362037864e-06,7.062073144122659e-06,7.0403193692987845e-06,7.018706621442342e-06,6.997256069088543e-06,6.97598844826533e-06,6.954924045000071e-06,6.934082677409289e-06,6.9134836772881055e-06,6.8931458711228284e-06,6.873087560459115e-06,6.853326501566601e-06,6.8338798843506185e-06,6.8147643104725706e-06,6.795995770650812e-06,6.777589621125901e-06,6.759560559286023e-06,6.7419225984606654e-06,6.724689041902918e-06,6.707872455994472e-06,6.691484642719272e-06,6.6755366114657315e-06,6.660038550229452e-06,6.644999796301856e-06,6.630428806542278e-06,6.6163331273431365e-06,6.6027193644101595e-06,6.589593152489993e-06,6.576959125189143e-06,6.564820885037666e-06,6.553180973960314e-06,6.542040844326773e-06,6.531400830759609e-06,6.521260122885778e-06,6.511616739222865e-06,6.502467502396012e-06,6.493808015884789e-06,6.485632642502066e-06,6.477934484807597e-06,6.470705367659421e-06,6.463935823104735e-06,6.457615077809518e-06,6.451731043222338e-06,6.446270308662629e-06,6.441218137517905e-06,6.436558466726337e-06,6.43227390971253e-06,6.428345762934643e-06,6.424754016189529e-06,6.421477366810481e-06,6.418493237878816e-06,6.415777800556126e-06,6.413306000628759e-06,6.411051589339758e-06,6.4089871585665144e-06,6.407084180384329e-06,6.405313051037887e-06,6.4036431393233005e-06,6.402042839363785e-06,6.400479627742148e-06,6.398920124932859e-06,6.397330160956058e-06,6.395674845154956e-06,6.39391863997806e-06,6.39202543862633e-06,6.389958646405969e-06,6.387681265607016e-06,6.385155983708637e-06,6.382345264692885e-06,6.379211443230841e-06,6.375716821486896e-06,6.371823768270628e-06,6.367494820249904e-06,6.362692784924034e-06,6.357380845042474e-06,6.35152266414181e-06,6.345082492863202e-06,6.338025275702306e-06,6.3303167578356885e-06,6.321923591660976e-06,6.312813442682563e-06,6.302955094371124e-06,6.292318551623298e-06,6.2808751424471336e-06,6.268597617500529e-06,6.255460247112576e-06,6.2414389154223915e-06,6.226511211276388e-06,6.210656515532497e-06,6.193856084429971e-06,6.176093128693818e-06,6.157352888056185e-06,6.137622700890802e-06,6.1168920686722895e-06,6.09515271498915e-06,6.072398638857374e-06,6.048626162101344e-06,6.023833970588854e-06,5.998023149129176e-06,5.9711972098654e-06,5.943362114015652e-06,5.914526286842006e-06,5.884700625750639e-06,5.853898501451925e-06,5.822135752134672e-06,5.789430670634891e-06,5.7558039846049595e-06,5.721278829715634e-06,5.685880715948575e-06,5.649637487063373e-06,5.612579273347978e-06,5.57473843778623e-06,5.536149515800898e-06,5.496849148753551e-06,5.4568760114060885e-06,5.416270733570009e-06,5.375075816190753e-06,5.3333355421342156e-06,5.291095881960869e-06,5.248404394990799e-06,5.205310125978372e-06,5.161863497730502e-06,5.11811620001525e-06,5.074121075119355e-06,5.029932000423423e-06,4.985603768372087e-06,4.941191964223304e-06,4.896752841966395e-06,4.852343198802163e-06,4.80802024858019e-06,4.763841494589364e-06,4.719864602095872e-06,4.676147271020594e-06,4.632747109143137e-06,4.589721506214108e-06,4.54712750934956e-06,4.505021700072855e-06,4.463460073358999e-06,4.4224979190248335e-06,4.382189705795714e-06,4.342588968365246e-06,4.303748197749749e-06,4.265718735222607e-06,4.2285506700970366e-06,4.192292741607468e-06,4.156992245121313e-06,4.122694942893465e-06,4.089444979555857e-06,4.057284802514109e-06,4.0262550874025305e-06,3.996394668727529e-06,3.967740475808403e-06,3.940327474103151e-06,3.914188611985556e-06,3.889354773018637e-06,3.865854733748631e-06,3.843715127022968e-06,3.822960410815291e-06,3.803612842520981e-06,3.785692458667051e-06,3.769217059961994e-06,3.754202201592923e-06,3.740661188660427e-06,3.728605076625153e-06,3.718042676624745e-06,3.708980565505328e-06,3.701423100398431e-06,3.695372437661674e-06,3.690828555990535e-06,3.687789283498205e-06,3.686250328551705e-06,3.686205314144638e-06,3.6876458155803848e-06,3.6905614012342003e-06,3.6949396761586572e-06,3.7007663282937523e-06,3.7080251770415623e-06,3.716698223964658e-06,3.7267657053682896e-06,3.738206146528158e-06,3.750996417328554e-06,3.765111789079822e-06,3.7805259922891007e-06,3.79721127516457e-06,3.815138462640425e-06,3.834277015717924e-06,3.854595090926631e-06,3.876059599719658e-06,3.898636267627168e-06,3.9222896930032995e-06,3.946983405213358e-06,3.9726799221203845e-06,3.999340806742459e-06,4.026926722965422e-06,4.055397490208564e-06,4.0847121369544435e-06,4.114828953067467e-06,4.145705540839358e-06,4.1772988647133245e-06,4.209565299651934e-06,4.24246067812716e-06,4.275940335723666e-06,4.3099591553593355e-06,4.344471610138979e-06,4.37943180486875e-06,4.414793516270265e-06,4.4505102319434324e-06,4.486535188137168e-06,4.522821406396072e-06,4.559321729159453e-06,4.595988854396513e-06,4.632775369368175e-06,4.669633783611572e-06,4.706516561248101e-06,4.743376152719513e-06,4.780165026059656e-06,4.816835697810894e-06,4.853340763695297e-06,4.889632929150574e-06,4.925665039839297e-06,4.96139011223806e-06,4.996761364410149e-06,5.031732247060995e-06,5.066256474971184e-06,5.100288058895631e-06,5.133781338011263e-06,5.166691012987884e-06,5.198972179749111e-06,5.230580363981222e-06,5.2614715564386395e-06,5.291602249084776e-06,5.320929472096579e-06,5.349410831750429e-06,5.377004549195869e-06,5.403669500112425e-06,5.429365255233112e-06,5.454052121706752e-06,5.4776911852595815e-06,5.50024435310493e-06,5.52167439753864e-06,5.54194500014637e-06,5.56102079653823e-06,5.57886742151579e-06,5.5954515545659165e-06,5.610740965567116e-06,5.624704560584351e-06,5.637312427620307e-06,5.648535882183501e-06,5.658347512526509e-06,5.6667212244016785e-06,5.673632285176339e-06,5.679057367145257e-06,5.682974589874615e-06,5.685363561409189e-06,5.686205418173047e-06,5.685482863393368e-06,5.683180203877498e-06,5.679283384974735e-06,5.67378002355672e-06,5.666659438853749e-06,5.657912680988523e-06,5.6475325570542406e-06,5.63551365459e-06,5.621852362313588e-06,5.6065468879795106e-06,5.589597273238927e-06,5.571005405387349e-06,5.550775025896204e-06,5.52891173563508e-06,5.505422996702587e-06,5.480318130795819e-06,5.453608314060394e-06,5.425306568375872e-06,5.39542774904404e-06,5.363988528860968e-06,5.331007378566766e-06,5.296504543680577e-06,5.260502017741649e-06,5.223023511990749e-06,5.184094421539269e-06,5.143741788086644e-06,5.101994259259249e-06,5.058882044656463e-06,5.014436868701738e-06,4.9686919204079945e-06,4.921681800177756e-06,4.8734424637691154e-06,4.824011163568485e-06,4.773426387320355e-06,4.721727794472898e-06,4.668956150306303e-06,4.615153258017566e-06,4.5603618889420855e-06,4.504625711097862e-06,4.447989216242832e-06,4.390497645639763e-06,4.3321969147263505e-06,4.273133536890291e-06,4.213354546550479e-06,4.15290742174628e-06,4.091840006436423e-06,4.030200432708103e-06,3.9680370430951275e-06,3.905398313201445e-06,3.842332774823004e-06,3.778888939757001e-06,3.7151152244830654e-06,3.651059875895513e-06,3.5867708982600224e-06,3.5222959815618254e-06,3.457682431405479e-06,3.3929771006189404e-06,3.328226322707073e-06,3.263475847291374e-06,3.1987707776643135e-06,3.1341555105780307e-06,3.069673678378031e-06,3.005368093583345e-06,2.9412806960054633e-06,2.87745250248868e-06,2.8139235593453085e-06,2.750732897549392e-06,2.6879184907434168e-06],\"yaxis\":\"y\",\"type\":\"scatter\"}],                        {\"barmode\":\"overlay\",\"hovermode\":\"closest\",\"legend\":{\"traceorder\":\"reversed\"},\"template\":{\"data\":{\"barpolar\":[{\"marker\":{\"line\":{\"color\":\"#E5ECF6\",\"width\":0.5},\"pattern\":{\"fillmode\":\"overlay\",\"size\":10,\"solidity\":0.2}},\"type\":\"barpolar\"}],\"bar\":[{\"error_x\":{\"color\":\"#2a3f5f\"},\"error_y\":{\"color\":\"#2a3f5f\"},\"marker\":{\"line\":{\"color\":\"#E5ECF6\",\"width\":0.5},\"pattern\":{\"fillmode\":\"overlay\",\"size\":10,\"solidity\":0.2}},\"type\":\"bar\"}],\"carpet\":[{\"aaxis\":{\"endlinecolor\":\"#2a3f5f\",\"gridcolor\":\"white\",\"linecolor\":\"white\",\"minorgridcolor\":\"white\",\"startlinecolor\":\"#2a3f5f\"},\"baxis\":{\"endlinecolor\":\"#2a3f5f\",\"gridcolor\":\"white\",\"linecolor\":\"white\",\"minorgridcolor\":\"white\",\"startlinecolor\":\"#2a3f5f\"},\"type\":\"carpet\"}],\"choropleth\":[{\"colorbar\":{\"outlinewidth\":0,\"ticks\":\"\"},\"type\":\"choropleth\"}],\"contourcarpet\":[{\"colorbar\":{\"outlinewidth\":0,\"ticks\":\"\"},\"type\":\"contourcarpet\"}],\"contour\":[{\"colorbar\":{\"outlinewidth\":0,\"ticks\":\"\"},\"colorscale\":[[0.0,\"#0d0887\"],[0.1111111111111111,\"#46039f\"],[0.2222222222222222,\"#7201a8\"],[0.3333333333333333,\"#9c179e\"],[0.4444444444444444,\"#bd3786\"],[0.5555555555555556,\"#d8576b\"],[0.6666666666666666,\"#ed7953\"],[0.7777777777777778,\"#fb9f3a\"],[0.8888888888888888,\"#fdca26\"],[1.0,\"#f0f921\"]],\"type\":\"contour\"}],\"heatmapgl\":[{\"colorbar\":{\"outlinewidth\":0,\"ticks\":\"\"},\"colorscale\":[[0.0,\"#0d0887\"],[0.1111111111111111,\"#46039f\"],[0.2222222222222222,\"#7201a8\"],[0.3333333333333333,\"#9c179e\"],[0.4444444444444444,\"#bd3786\"],[0.5555555555555556,\"#d8576b\"],[0.6666666666666666,\"#ed7953\"],[0.7777777777777778,\"#fb9f3a\"],[0.8888888888888888,\"#fdca26\"],[1.0,\"#f0f921\"]],\"type\":\"heatmapgl\"}],\"heatmap\":[{\"colorbar\":{\"outlinewidth\":0,\"ticks\":\"\"},\"colorscale\":[[0.0,\"#0d0887\"],[0.1111111111111111,\"#46039f\"],[0.2222222222222222,\"#7201a8\"],[0.3333333333333333,\"#9c179e\"],[0.4444444444444444,\"#bd3786\"],[0.5555555555555556,\"#d8576b\"],[0.6666666666666666,\"#ed7953\"],[0.7777777777777778,\"#fb9f3a\"],[0.8888888888888888,\"#fdca26\"],[1.0,\"#f0f921\"]],\"type\":\"heatmap\"}],\"histogram2dcontour\":[{\"colorbar\":{\"outlinewidth\":0,\"ticks\":\"\"},\"colorscale\":[[0.0,\"#0d0887\"],[0.1111111111111111,\"#46039f\"],[0.2222222222222222,\"#7201a8\"],[0.3333333333333333,\"#9c179e\"],[0.4444444444444444,\"#bd3786\"],[0.5555555555555556,\"#d8576b\"],[0.6666666666666666,\"#ed7953\"],[0.7777777777777778,\"#fb9f3a\"],[0.8888888888888888,\"#fdca26\"],[1.0,\"#f0f921\"]],\"type\":\"histogram2dcontour\"}],\"histogram2d\":[{\"colorbar\":{\"outlinewidth\":0,\"ticks\":\"\"},\"colorscale\":[[0.0,\"#0d0887\"],[0.1111111111111111,\"#46039f\"],[0.2222222222222222,\"#7201a8\"],[0.3333333333333333,\"#9c179e\"],[0.4444444444444444,\"#bd3786\"],[0.5555555555555556,\"#d8576b\"],[0.6666666666666666,\"#ed7953\"],[0.7777777777777778,\"#fb9f3a\"],[0.8888888888888888,\"#fdca26\"],[1.0,\"#f0f921\"]],\"type\":\"histogram2d\"}],\"histogram\":[{\"marker\":{\"pattern\":{\"fillmode\":\"overlay\",\"size\":10,\"solidity\":0.2}},\"type\":\"histogram\"}],\"mesh3d\":[{\"colorbar\":{\"outlinewidth\":0,\"ticks\":\"\"},\"type\":\"mesh3d\"}],\"parcoords\":[{\"line\":{\"colorbar\":{\"outlinewidth\":0,\"ticks\":\"\"}},\"type\":\"parcoords\"}],\"pie\":[{\"automargin\":true,\"type\":\"pie\"}],\"scatter3d\":[{\"line\":{\"colorbar\":{\"outlinewidth\":0,\"ticks\":\"\"}},\"marker\":{\"colorbar\":{\"outlinewidth\":0,\"ticks\":\"\"}},\"type\":\"scatter3d\"}],\"scattercarpet\":[{\"marker\":{\"colorbar\":{\"outlinewidth\":0,\"ticks\":\"\"}},\"type\":\"scattercarpet\"}],\"scattergeo\":[{\"marker\":{\"colorbar\":{\"outlinewidth\":0,\"ticks\":\"\"}},\"type\":\"scattergeo\"}],\"scattergl\":[{\"marker\":{\"colorbar\":{\"outlinewidth\":0,\"ticks\":\"\"}},\"type\":\"scattergl\"}],\"scattermapbox\":[{\"marker\":{\"colorbar\":{\"outlinewidth\":0,\"ticks\":\"\"}},\"type\":\"scattermapbox\"}],\"scatterpolargl\":[{\"marker\":{\"colorbar\":{\"outlinewidth\":0,\"ticks\":\"\"}},\"type\":\"scatterpolargl\"}],\"scatterpolar\":[{\"marker\":{\"colorbar\":{\"outlinewidth\":0,\"ticks\":\"\"}},\"type\":\"scatterpolar\"}],\"scatter\":[{\"marker\":{\"colorbar\":{\"outlinewidth\":0,\"ticks\":\"\"}},\"type\":\"scatter\"}],\"scatterternary\":[{\"marker\":{\"colorbar\":{\"outlinewidth\":0,\"ticks\":\"\"}},\"type\":\"scatterternary\"}],\"surface\":[{\"colorbar\":{\"outlinewidth\":0,\"ticks\":\"\"},\"colorscale\":[[0.0,\"#0d0887\"],[0.1111111111111111,\"#46039f\"],[0.2222222222222222,\"#7201a8\"],[0.3333333333333333,\"#9c179e\"],[0.4444444444444444,\"#bd3786\"],[0.5555555555555556,\"#d8576b\"],[0.6666666666666666,\"#ed7953\"],[0.7777777777777778,\"#fb9f3a\"],[0.8888888888888888,\"#fdca26\"],[1.0,\"#f0f921\"]],\"type\":\"surface\"}],\"table\":[{\"cells\":{\"fill\":{\"color\":\"#EBF0F8\"},\"line\":{\"color\":\"white\"}},\"header\":{\"fill\":{\"color\":\"#C8D4E3\"},\"line\":{\"color\":\"white\"}},\"type\":\"table\"}]},\"layout\":{\"annotationdefaults\":{\"arrowcolor\":\"#2a3f5f\",\"arrowhead\":0,\"arrowwidth\":1},\"autotypenumbers\":\"strict\",\"coloraxis\":{\"colorbar\":{\"outlinewidth\":0,\"ticks\":\"\"}},\"colorscale\":{\"diverging\":[[0,\"#8e0152\"],[0.1,\"#c51b7d\"],[0.2,\"#de77ae\"],[0.3,\"#f1b6da\"],[0.4,\"#fde0ef\"],[0.5,\"#f7f7f7\"],[0.6,\"#e6f5d0\"],[0.7,\"#b8e186\"],[0.8,\"#7fbc41\"],[0.9,\"#4d9221\"],[1,\"#276419\"]],\"sequential\":[[0.0,\"#0d0887\"],[0.1111111111111111,\"#46039f\"],[0.2222222222222222,\"#7201a8\"],[0.3333333333333333,\"#9c179e\"],[0.4444444444444444,\"#bd3786\"],[0.5555555555555556,\"#d8576b\"],[0.6666666666666666,\"#ed7953\"],[0.7777777777777778,\"#fb9f3a\"],[0.8888888888888888,\"#fdca26\"],[1.0,\"#f0f921\"]],\"sequentialminus\":[[0.0,\"#0d0887\"],[0.1111111111111111,\"#46039f\"],[0.2222222222222222,\"#7201a8\"],[0.3333333333333333,\"#9c179e\"],[0.4444444444444444,\"#bd3786\"],[0.5555555555555556,\"#d8576b\"],[0.6666666666666666,\"#ed7953\"],[0.7777777777777778,\"#fb9f3a\"],[0.8888888888888888,\"#fdca26\"],[1.0,\"#f0f921\"]]},\"colorway\":[\"#636efa\",\"#EF553B\",\"#00cc96\",\"#ab63fa\",\"#FFA15A\",\"#19d3f3\",\"#FF6692\",\"#B6E880\",\"#FF97FF\",\"#FECB52\"],\"font\":{\"color\":\"#2a3f5f\"},\"geo\":{\"bgcolor\":\"white\",\"lakecolor\":\"white\",\"landcolor\":\"#E5ECF6\",\"showlakes\":true,\"showland\":true,\"subunitcolor\":\"white\"},\"hoverlabel\":{\"align\":\"left\"},\"hovermode\":\"closest\",\"mapbox\":{\"style\":\"light\"},\"paper_bgcolor\":\"white\",\"plot_bgcolor\":\"#E5ECF6\",\"polar\":{\"angularaxis\":{\"gridcolor\":\"white\",\"linecolor\":\"white\",\"ticks\":\"\"},\"bgcolor\":\"#E5ECF6\",\"radialaxis\":{\"gridcolor\":\"white\",\"linecolor\":\"white\",\"ticks\":\"\"}},\"scene\":{\"xaxis\":{\"backgroundcolor\":\"#E5ECF6\",\"gridcolor\":\"white\",\"gridwidth\":2,\"linecolor\":\"white\",\"showbackground\":true,\"ticks\":\"\",\"zerolinecolor\":\"white\"},\"yaxis\":{\"backgroundcolor\":\"#E5ECF6\",\"gridcolor\":\"white\",\"gridwidth\":2,\"linecolor\":\"white\",\"showbackground\":true,\"ticks\":\"\",\"zerolinecolor\":\"white\"},\"zaxis\":{\"backgroundcolor\":\"#E5ECF6\",\"gridcolor\":\"white\",\"gridwidth\":2,\"linecolor\":\"white\",\"showbackground\":true,\"ticks\":\"\",\"zerolinecolor\":\"white\"}},\"shapedefaults\":{\"line\":{\"color\":\"#2a3f5f\"}},\"ternary\":{\"aaxis\":{\"gridcolor\":\"white\",\"linecolor\":\"white\",\"ticks\":\"\"},\"baxis\":{\"gridcolor\":\"white\",\"linecolor\":\"white\",\"ticks\":\"\"},\"bgcolor\":\"#E5ECF6\",\"caxis\":{\"gridcolor\":\"white\",\"linecolor\":\"white\",\"ticks\":\"\"}},\"title\":{\"x\":0.05},\"xaxis\":{\"automargin\":true,\"gridcolor\":\"white\",\"linecolor\":\"white\",\"ticks\":\"\",\"title\":{\"standoff\":15},\"zerolinecolor\":\"white\",\"zerolinewidth\":2},\"yaxis\":{\"automargin\":true,\"gridcolor\":\"white\",\"linecolor\":\"white\",\"ticks\":\"\",\"title\":{\"standoff\":15},\"zerolinecolor\":\"white\",\"zerolinewidth\":2}}},\"title\":{\"text\":\"Credit Card Transactions Time Density Plot\"},\"xaxis\":{\"anchor\":\"y2\",\"domain\":[0.0,1.0],\"title\":{\"text\":\"Time [s]\"},\"zeroline\":false},\"yaxis\":{\"anchor\":\"free\",\"domain\":[0.0,1],\"position\":0.0}},                        {\"responsive\": true}                    ).then(function(){\n",
       "                            \n",
       "var gd = document.getElementById('73a359a0-47fd-410f-b826-9be6767f55c5');\n",
       "var x = new MutationObserver(function (mutations, observer) {{\n",
       "        var display = window.getComputedStyle(gd).display;\n",
       "        if (!display || display === 'none') {{\n",
       "            console.log([gd, 'removed!']);\n",
       "            Plotly.purge(gd);\n",
       "            observer.disconnect();\n",
       "        }}\n",
       "}});\n",
       "\n",
       "// Listen for the removal of the full notebook cells\n",
       "var notebookContainer = gd.closest('#notebook-container');\n",
       "if (notebookContainer) {{\n",
       "    x.observe(notebookContainer, {childList: true});\n",
       "}}\n",
       "\n",
       "// Listen for the clearing of the current output cell\n",
       "var outputEl = gd.closest('.output');\n",
       "if (outputEl) {{\n",
       "    x.observe(outputEl, {childList: true});\n",
       "}}\n",
       "\n",
       "                        })                };                });            </script>        </div>"
      ]
     },
     "metadata": {},
     "output_type": "display_data"
    }
   ],
   "source": [
    "import plotly.figure_factory as ff\n",
    "from plotly.offline import download_plotlyjs, init_notebook_mode, plot, iplot\n",
    "init_notebook_mode(connected=True)\n",
    "\n",
    "class_0 = df.loc[df['Class'] == 0][\"Time\"]\n",
    "class_1 = df.loc[df['Class'] == 1][\"Time\"]\n",
    "\n",
    "hist_data = [class_0, class_1]\n",
    "group_labels = ['Not Fraud', 'Fraud']\n",
    "\n",
    "fig = ff.create_distplot(hist_data, group_labels, show_hist=False, show_rug=False)\n",
    "fig['layout'].update(title='Credit Card Transactions Time Density Plot', xaxis=dict(title='Time [s]'))\n",
    "\n",
    "iplot(fig, filename='dist_only')"
   ]
  },
  {
   "cell_type": "markdown",
   "metadata": {},
   "source": [
    "#Fraudulent transactions have a distribution more even than valid transactions - \n",
    "#are equaly distributed in time, including the low real transaction times, during night in Europe timezone."
   ]
  },
  {
   "cell_type": "code",
   "execution_count": 83,
   "metadata": {},
   "outputs": [
    {
     "data": {
      "image/png": "[encoded data removed]",
      "text/plain": [
       "<Figure size 864x432 with 2 Axes>"
      ]
     },
     "metadata": {
      "needs_background": "light"
     },
     "output_type": "display_data"
    }
   ],
   "source": [
    "fig, (ax1, ax2) = plt.subplots(ncols=2, figsize=(12,6))\n",
    "s = sns.boxplot(ax = ax1, x=\"Class\", y=\"Amount\", hue=\"Class\",data=df, palette=\"PRGn\",showfliers=True)\n",
    "s = sns.boxplot(ax = ax2, x=\"Class\", y=\"Amount\", hue=\"Class\",data=df, palette=\"PRGn\",showfliers=False)\n",
    "plt.show();"
   ]
  },
  {
   "cell_type": "code",
   "execution_count": 94,
   "metadata": {},
   "outputs": [
    {
     "data": {
      "image/png": "[encoded data removed]",
      "text/plain": [
       "<Figure size 720x432 with 1 Axes>"
      ]
     },
     "metadata": {},
     "output_type": "display_data"
    }
   ],
   "source": [
    "plt.figure(figsize=(10, 6))\n",
    "plt.boxplot([df[df[\"Class\"]==1][\"Amount\"], df[df[\"Class\"]==0][\"Amount\"]], \n",
    "            labels=['Fraud', 'Not Fraud'])\n",
    "\n",
    "plt.title('Transaction Amounts: Fraud vs Not Fraud')\n",
    "plt.ylabel('Amount')\n",
    "plt.yscale('log')\n",
    "plt.show()"
   ]
  },
  {
   "cell_type": "markdown",
   "metadata": {},
   "source": [
    "The typical fraudulent transaction is around 9.25, with the biggest one being 2125.87. On the other hand, regular transactions usually have a median value of 22, but the largest one can go up to 25691. This difference suggests that fraudsters might stay away from extremely large transactions, possibly to avoid triggering security measures. Another possibility is that there are just more normal transactions overall."
   ]
  },
  {
   "cell_type": "code",
   "execution_count": 92,
   "metadata": {},
   "outputs": [
    {
     "data": {
      "image/png": "[encoded data removed]",
      "text/plain": [
       "<Figure size 864x432 with 2 Axes>"
      ]
     },
     "metadata": {},
     "output_type": "display_data"
    }
   ],
   "source": [
    "# Set the aesthetic style of the plots\n",
    "sns.set_style(\"whitegrid\")\n",
    "\n",
    "f, (ax1, ax2) = plt.subplots(2, 1, sharex=True, figsize=(12, 6))\n",
    "\n",
    "bins = 100\n",
    "\n",
    "# Plotting for Fraud transactions\n",
    "ax1.hist(df.Time[df.Class == 1], bins=bins, color='red', alpha=0.7)\n",
    "ax1.set_title('Fraud', fontsize=14)\n",
    "ax1.set_ylabel('Number of Transactions', fontsize=12)\n",
    "ax1.grid(True, linestyle='--', alpha=0.5)\n",
    "\n",
    "# Plotting for Normal transactions\n",
    "ax2.hist(df.Time[df.Class == 0], bins=bins, color='blue', alpha=0.7)\n",
    "ax2.set_title('Not Fraud', fontsize=14)\n",
    "ax2.set_xlabel('Time (in Seconds)', fontsize=12)\n",
    "ax2.set_ylabel('Number of Transactions', fontsize=12)\n",
    "ax2.grid(True, linestyle='--', alpha=0.5)\n",
    "\n",
    "# Remove top and right spines\n",
    "for ax in [ax1, ax2]:\n",
    "    ax.spines['top'].set_visible(False)\n",
    "    ax.spines['right'].set_visible(False)\n",
    "\n",
    "plt.tight_layout()\n",
    "plt.show()"
   ]
  },
  {
   "cell_type": "markdown",
   "metadata": {},
   "source": [
    "The red bars on the graph show fraudulent transactions. Imagine the x-axis as a timeline in seconds and the y-axis as the number of transactions. Fraudulent ones happen less often than normal transactions, which you can see because the red bars are shorter. Also, there are peaks at specific times, hinting that fraud might happen in bursts or at certain moments instead of being spread out evenly.Now, look at the blue bars for normal transactions – they have more bars, meaning there are more of them. The pattern is steady, like a repeating cycle. It seems like there are times when a lot of transactions happen, like in the mornings and evenings when people often use their credit cards."
   ]
  },
  {
   "cell_type": "markdown",
   "metadata": {
    "id": "z8dRXs-u-w2t"
   },
   "source": [
    "### Checking the effect of `Amount` and `Time` columns of the dataset on `Class`"
   ]
  },
  {
   "cell_type": "code",
   "execution_count": 39,
   "metadata": {
    "colab": {
     "base_uri": "https://localhost:8080/",
     "height": 560
    },
    "id": "j5FX82KL5o9F",
    "outputId": "0c5c3d29-0215-487f-820f-2da283d2f907"
   },
   "outputs": [
    {
     "data": {
      "text/plain": [
       "<AxesSubplot:xlabel='Amount', ylabel='Class'>"
      ]
     },
     "execution_count": 39,
     "metadata": {},
     "output_type": "execute_result"
    },
    {
     "data": {
      "image/png": "[encoded data removed]",
      "text/plain": [
       "<Figure size 1000x600 with 1 Axes>"
      ]
     },
     "metadata": {
      "needs_background": "light"
     },
     "output_type": "display_data"
    }
   ],
   "source": [
    "plt.figure(dpi=100, figsize=(10,6))\n",
    "sns.scatterplot(data=df, x='Amount', y='Class', hue='Class')"
   ]
  },
  {
   "cell_type": "code",
   "execution_count": 40,
   "metadata": {
    "colab": {
     "base_uri": "https://localhost:8080/",
     "height": 560
    },
    "id": "yJKIHMzG50nA",
    "outputId": "90f3e0a3-0001-49aa-9769-1b7e8159a8c2"
   },
   "outputs": [
    {
     "data": {
      "text/plain": [
       "<AxesSubplot:xlabel='Time', ylabel='Class'>"
      ]
     },
     "execution_count": 40,
     "metadata": {},
     "output_type": "execute_result"
    },
    {
     "data": {
      "image/png": "[encoded data removed]",
      "text/plain": [
       "<Figure size 1000x600 with 1 Axes>"
      ]
     },
     "metadata": {
      "needs_background": "light"
     },
     "output_type": "display_data"
    }
   ],
   "source": [
    "plt.figure(dpi=100, figsize=(10,6))\n",
    "sns.scatterplot(data=df, x='Time', y='Class', hue='Class', )"
   ]
  },
  {
   "cell_type": "markdown",
   "metadata": {
    "id": "uFb_F157_PyL"
   },
   "source": [
    "### Dropping the non impactful columns"
   ]
  },
  {
   "cell_type": "code",
   "execution_count": 41,
   "metadata": {
    "colab": {
     "base_uri": "https://localhost:8080/",
     "height": 256
    },
    "id": "v3FPP93I57lX",
    "outputId": "e5c77969-ac37-4da1-aa4b-e5b5a8eb6f52"
   },
   "outputs": [
    {
     "data": {
      "text/html": [
       "<div>\n",
       "<style scoped>\n",
       "    .dataframe tbody tr th:only-of-type {\n",
       "        vertical-align: middle;\n",
       "    }\n",
       "\n",
       "    .dataframe tbody tr th {\n",
       "        vertical-align: top;\n",
       "    }\n",
       "\n",
       "    .dataframe thead th {\n",
       "        text-align: right;\n",
       "    }\n",
       "</style>\n",
       "<table border=\"1\" class=\"dataframe\">\n",
       "  <thead>\n",
       "    <tr style=\"text-align: right;\">\n",
       "      <th></th>\n",
       "      <th>V1</th>\n",
       "      <th>V2</th>\n",
       "      <th>V3</th>\n",
       "      <th>V4</th>\n",
       "      <th>V5</th>\n",
       "      <th>V6</th>\n",
       "      <th>V7</th>\n",
       "      <th>V8</th>\n",
       "      <th>V9</th>\n",
       "      <th>V10</th>\n",
       "      <th>...</th>\n",
       "      <th>V21</th>\n",
       "      <th>V22</th>\n",
       "      <th>V23</th>\n",
       "      <th>V24</th>\n",
       "      <th>V25</th>\n",
       "      <th>V26</th>\n",
       "      <th>V27</th>\n",
       "      <th>V28</th>\n",
       "      <th>Amount</th>\n",
       "      <th>Class</th>\n",
       "    </tr>\n",
       "  </thead>\n",
       "  <tbody>\n",
       "    <tr>\n",
       "      <th>0</th>\n",
       "      <td>-1.359807</td>\n",
       "      <td>-0.072781</td>\n",
       "      <td>2.536347</td>\n",
       "      <td>1.378155</td>\n",
       "      <td>-0.338321</td>\n",
       "      <td>0.462388</td>\n",
       "      <td>0.239599</td>\n",
       "      <td>0.098698</td>\n",
       "      <td>0.363787</td>\n",
       "      <td>0.090794</td>\n",
       "      <td>...</td>\n",
       "      <td>-0.018307</td>\n",
       "      <td>0.277838</td>\n",
       "      <td>-0.110474</td>\n",
       "      <td>0.066928</td>\n",
       "      <td>0.128539</td>\n",
       "      <td>-0.189115</td>\n",
       "      <td>0.133558</td>\n",
       "      <td>-0.021053</td>\n",
       "      <td>149.62</td>\n",
       "      <td>0</td>\n",
       "    </tr>\n",
       "    <tr>\n",
       "      <th>1</th>\n",
       "      <td>1.191857</td>\n",
       "      <td>0.266151</td>\n",
       "      <td>0.166480</td>\n",
       "      <td>0.448154</td>\n",
       "      <td>0.060018</td>\n",
       "      <td>-0.082361</td>\n",
       "      <td>-0.078803</td>\n",
       "      <td>0.085102</td>\n",
       "      <td>-0.255425</td>\n",
       "      <td>-0.166974</td>\n",
       "      <td>...</td>\n",
       "      <td>-0.225775</td>\n",
       "      <td>-0.638672</td>\n",
       "      <td>0.101288</td>\n",
       "      <td>-0.339846</td>\n",
       "      <td>0.167170</td>\n",
       "      <td>0.125895</td>\n",
       "      <td>-0.008983</td>\n",
       "      <td>0.014724</td>\n",
       "      <td>2.69</td>\n",
       "      <td>0</td>\n",
       "    </tr>\n",
       "    <tr>\n",
       "      <th>2</th>\n",
       "      <td>-1.358354</td>\n",
       "      <td>-1.340163</td>\n",
       "      <td>1.773209</td>\n",
       "      <td>0.379780</td>\n",
       "      <td>-0.503198</td>\n",
       "      <td>1.800499</td>\n",
       "      <td>0.791461</td>\n",
       "      <td>0.247676</td>\n",
       "      <td>-1.514654</td>\n",
       "      <td>0.207643</td>\n",
       "      <td>...</td>\n",
       "      <td>0.247998</td>\n",
       "      <td>0.771679</td>\n",
       "      <td>0.909412</td>\n",
       "      <td>-0.689281</td>\n",
       "      <td>-0.327642</td>\n",
       "      <td>-0.139097</td>\n",
       "      <td>-0.055353</td>\n",
       "      <td>-0.059752</td>\n",
       "      <td>378.66</td>\n",
       "      <td>0</td>\n",
       "    </tr>\n",
       "    <tr>\n",
       "      <th>3</th>\n",
       "      <td>-0.966272</td>\n",
       "      <td>-0.185226</td>\n",
       "      <td>1.792993</td>\n",
       "      <td>-0.863291</td>\n",
       "      <td>-0.010309</td>\n",
       "      <td>1.247203</td>\n",
       "      <td>0.237609</td>\n",
       "      <td>0.377436</td>\n",
       "      <td>-1.387024</td>\n",
       "      <td>-0.054952</td>\n",
       "      <td>...</td>\n",
       "      <td>-0.108300</td>\n",
       "      <td>0.005274</td>\n",
       "      <td>-0.190321</td>\n",
       "      <td>-1.175575</td>\n",
       "      <td>0.647376</td>\n",
       "      <td>-0.221929</td>\n",
       "      <td>0.062723</td>\n",
       "      <td>0.061458</td>\n",
       "      <td>123.50</td>\n",
       "      <td>0</td>\n",
       "    </tr>\n",
       "    <tr>\n",
       "      <th>4</th>\n",
       "      <td>-1.158233</td>\n",
       "      <td>0.877737</td>\n",
       "      <td>1.548718</td>\n",
       "      <td>0.403034</td>\n",
       "      <td>-0.407193</td>\n",
       "      <td>0.095921</td>\n",
       "      <td>0.592941</td>\n",
       "      <td>-0.270533</td>\n",
       "      <td>0.817739</td>\n",
       "      <td>0.753074</td>\n",
       "      <td>...</td>\n",
       "      <td>-0.009431</td>\n",
       "      <td>0.798278</td>\n",
       "      <td>-0.137458</td>\n",
       "      <td>0.141267</td>\n",
       "      <td>-0.206010</td>\n",
       "      <td>0.502292</td>\n",
       "      <td>0.219422</td>\n",
       "      <td>0.215153</td>\n",
       "      <td>69.99</td>\n",
       "      <td>0</td>\n",
       "    </tr>\n",
       "  </tbody>\n",
       "</table>\n",
       "<p>5 rows × 30 columns</p>\n",
       "</div>"
      ],
      "text/plain": [
       "         V1        V2        V3        V4        V5        V6        V7  \\\n",
       "0 -1.359807 -0.072781  2.536347  1.378155 -0.338321  0.462388  0.239599   \n",
       "1  1.191857  0.266151  0.166480  0.448154  0.060018 -0.082361 -0.078803   \n",
       "2 -1.358354 -1.340163  1.773209  0.379780 -0.503198  1.800499  0.791461   \n",
       "3 -0.966272 -0.185226  1.792993 -0.863291 -0.010309  1.247203  0.237609   \n",
       "4 -1.158233  0.877737  1.548718  0.403034 -0.407193  0.095921  0.592941   \n",
       "\n",
       "         V8        V9       V10  ...       V21       V22       V23       V24  \\\n",
       "0  0.098698  0.363787  0.090794  ... -0.018307  0.277838 -0.110474  0.066928   \n",
       "1  0.085102 -0.255425 -0.166974  ... -0.225775 -0.638672  0.101288 -0.339846   \n",
       "2  0.247676 -1.514654  0.207643  ...  0.247998  0.771679  0.909412 -0.689281   \n",
       "3  0.377436 -1.387024 -0.054952  ... -0.108300  0.005274 -0.190321 -1.175575   \n",
       "4 -0.270533  0.817739  0.753074  ... -0.009431  0.798278 -0.137458  0.141267   \n",
       "\n",
       "        V25       V26       V27       V28  Amount  Class  \n",
       "0  0.128539 -0.189115  0.133558 -0.021053  149.62      0  \n",
       "1  0.167170  0.125895 -0.008983  0.014724    2.69      0  \n",
       "2 -0.327642 -0.139097 -0.055353 -0.059752  378.66      0  \n",
       "3  0.647376 -0.221929  0.062723  0.061458  123.50      0  \n",
       "4 -0.206010  0.502292  0.219422  0.215153   69.99      0  \n",
       "\n",
       "[5 rows x 30 columns]"
      ]
     },
     "execution_count": 41,
     "metadata": {},
     "output_type": "execute_result"
    }
   ],
   "source": [
    "df = df.drop(['Time'], axis=1)\n",
    "df.head()"
   ]
  },
  {
   "cell_type": "markdown",
   "metadata": {
    "id": "o3Scwgi11hzG"
   },
   "source": [
    "### Scaling `Amount` feature for better results"
   ]
  },
  {
   "cell_type": "code",
   "execution_count": 42,
   "metadata": {
    "colab": {
     "base_uri": "https://localhost:8080/",
     "height": 256
    },
    "id": "exbMZkaMuyJY",
    "outputId": "0ecc827d-4343-4d83-c7e5-0f12894f6d9a"
   },
   "outputs": [
    {
     "data": {
      "text/html": [
       "<div>\n",
       "<style scoped>\n",
       "    .dataframe tbody tr th:only-of-type {\n",
       "        vertical-align: middle;\n",
       "    }\n",
       "\n",
       "    .dataframe tbody tr th {\n",
       "        vertical-align: top;\n",
       "    }\n",
       "\n",
       "    .dataframe thead th {\n",
       "        text-align: right;\n",
       "    }\n",
       "</style>\n",
       "<table border=\"1\" class=\"dataframe\">\n",
       "  <thead>\n",
       "    <tr style=\"text-align: right;\">\n",
       "      <th></th>\n",
       "      <th>V1</th>\n",
       "      <th>V2</th>\n",
       "      <th>V3</th>\n",
       "      <th>V4</th>\n",
       "      <th>V5</th>\n",
       "      <th>V6</th>\n",
       "      <th>V7</th>\n",
       "      <th>V8</th>\n",
       "      <th>V9</th>\n",
       "      <th>V10</th>\n",
       "      <th>...</th>\n",
       "      <th>V21</th>\n",
       "      <th>V22</th>\n",
       "      <th>V23</th>\n",
       "      <th>V24</th>\n",
       "      <th>V25</th>\n",
       "      <th>V26</th>\n",
       "      <th>V27</th>\n",
       "      <th>V28</th>\n",
       "      <th>Amount</th>\n",
       "      <th>Class</th>\n",
       "    </tr>\n",
       "  </thead>\n",
       "  <tbody>\n",
       "    <tr>\n",
       "      <th>0</th>\n",
       "      <td>-1.359807</td>\n",
       "      <td>-0.072781</td>\n",
       "      <td>2.536347</td>\n",
       "      <td>1.378155</td>\n",
       "      <td>-0.338321</td>\n",
       "      <td>0.462388</td>\n",
       "      <td>0.239599</td>\n",
       "      <td>0.098698</td>\n",
       "      <td>0.363787</td>\n",
       "      <td>0.090794</td>\n",
       "      <td>...</td>\n",
       "      <td>-0.018307</td>\n",
       "      <td>0.277838</td>\n",
       "      <td>-0.110474</td>\n",
       "      <td>0.066928</td>\n",
       "      <td>0.128539</td>\n",
       "      <td>-0.189115</td>\n",
       "      <td>0.133558</td>\n",
       "      <td>-0.021053</td>\n",
       "      <td>0.244964</td>\n",
       "      <td>0</td>\n",
       "    </tr>\n",
       "    <tr>\n",
       "      <th>1</th>\n",
       "      <td>1.191857</td>\n",
       "      <td>0.266151</td>\n",
       "      <td>0.166480</td>\n",
       "      <td>0.448154</td>\n",
       "      <td>0.060018</td>\n",
       "      <td>-0.082361</td>\n",
       "      <td>-0.078803</td>\n",
       "      <td>0.085102</td>\n",
       "      <td>-0.255425</td>\n",
       "      <td>-0.166974</td>\n",
       "      <td>...</td>\n",
       "      <td>-0.225775</td>\n",
       "      <td>-0.638672</td>\n",
       "      <td>0.101288</td>\n",
       "      <td>-0.339846</td>\n",
       "      <td>0.167170</td>\n",
       "      <td>0.125895</td>\n",
       "      <td>-0.008983</td>\n",
       "      <td>0.014724</td>\n",
       "      <td>-0.342475</td>\n",
       "      <td>0</td>\n",
       "    </tr>\n",
       "    <tr>\n",
       "      <th>2</th>\n",
       "      <td>-1.358354</td>\n",
       "      <td>-1.340163</td>\n",
       "      <td>1.773209</td>\n",
       "      <td>0.379780</td>\n",
       "      <td>-0.503198</td>\n",
       "      <td>1.800499</td>\n",
       "      <td>0.791461</td>\n",
       "      <td>0.247676</td>\n",
       "      <td>-1.514654</td>\n",
       "      <td>0.207643</td>\n",
       "      <td>...</td>\n",
       "      <td>0.247998</td>\n",
       "      <td>0.771679</td>\n",
       "      <td>0.909412</td>\n",
       "      <td>-0.689281</td>\n",
       "      <td>-0.327642</td>\n",
       "      <td>-0.139097</td>\n",
       "      <td>-0.055353</td>\n",
       "      <td>-0.059752</td>\n",
       "      <td>1.160686</td>\n",
       "      <td>0</td>\n",
       "    </tr>\n",
       "    <tr>\n",
       "      <th>3</th>\n",
       "      <td>-0.966272</td>\n",
       "      <td>-0.185226</td>\n",
       "      <td>1.792993</td>\n",
       "      <td>-0.863291</td>\n",
       "      <td>-0.010309</td>\n",
       "      <td>1.247203</td>\n",
       "      <td>0.237609</td>\n",
       "      <td>0.377436</td>\n",
       "      <td>-1.387024</td>\n",
       "      <td>-0.054952</td>\n",
       "      <td>...</td>\n",
       "      <td>-0.108300</td>\n",
       "      <td>0.005274</td>\n",
       "      <td>-0.190321</td>\n",
       "      <td>-1.175575</td>\n",
       "      <td>0.647376</td>\n",
       "      <td>-0.221929</td>\n",
       "      <td>0.062723</td>\n",
       "      <td>0.061458</td>\n",
       "      <td>0.140534</td>\n",
       "      <td>0</td>\n",
       "    </tr>\n",
       "    <tr>\n",
       "      <th>4</th>\n",
       "      <td>-1.158233</td>\n",
       "      <td>0.877737</td>\n",
       "      <td>1.548718</td>\n",
       "      <td>0.403034</td>\n",
       "      <td>-0.407193</td>\n",
       "      <td>0.095921</td>\n",
       "      <td>0.592941</td>\n",
       "      <td>-0.270533</td>\n",
       "      <td>0.817739</td>\n",
       "      <td>0.753074</td>\n",
       "      <td>...</td>\n",
       "      <td>-0.009431</td>\n",
       "      <td>0.798278</td>\n",
       "      <td>-0.137458</td>\n",
       "      <td>0.141267</td>\n",
       "      <td>-0.206010</td>\n",
       "      <td>0.502292</td>\n",
       "      <td>0.219422</td>\n",
       "      <td>0.215153</td>\n",
       "      <td>-0.073403</td>\n",
       "      <td>0</td>\n",
       "    </tr>\n",
       "  </tbody>\n",
       "</table>\n",
       "<p>5 rows × 30 columns</p>\n",
       "</div>"
      ],
      "text/plain": [
       "         V1        V2        V3        V4        V5        V6        V7  \\\n",
       "0 -1.359807 -0.072781  2.536347  1.378155 -0.338321  0.462388  0.239599   \n",
       "1  1.191857  0.266151  0.166480  0.448154  0.060018 -0.082361 -0.078803   \n",
       "2 -1.358354 -1.340163  1.773209  0.379780 -0.503198  1.800499  0.791461   \n",
       "3 -0.966272 -0.185226  1.792993 -0.863291 -0.010309  1.247203  0.237609   \n",
       "4 -1.158233  0.877737  1.548718  0.403034 -0.407193  0.095921  0.592941   \n",
       "\n",
       "         V8        V9       V10  ...       V21       V22       V23       V24  \\\n",
       "0  0.098698  0.363787  0.090794  ... -0.018307  0.277838 -0.110474  0.066928   \n",
       "1  0.085102 -0.255425 -0.166974  ... -0.225775 -0.638672  0.101288 -0.339846   \n",
       "2  0.247676 -1.514654  0.207643  ...  0.247998  0.771679  0.909412 -0.689281   \n",
       "3  0.377436 -1.387024 -0.054952  ... -0.108300  0.005274 -0.190321 -1.175575   \n",
       "4 -0.270533  0.817739  0.753074  ... -0.009431  0.798278 -0.137458  0.141267   \n",
       "\n",
       "        V25       V26       V27       V28    Amount  Class  \n",
       "0  0.128539 -0.189115  0.133558 -0.021053  0.244964      0  \n",
       "1  0.167170  0.125895 -0.008983  0.014724 -0.342475      0  \n",
       "2 -0.327642 -0.139097 -0.055353 -0.059752  1.160686      0  \n",
       "3  0.647376 -0.221929  0.062723  0.061458  0.140534      0  \n",
       "4 -0.206010  0.502292  0.219422  0.215153 -0.073403      0  \n",
       "\n",
       "[5 rows x 30 columns]"
      ]
     },
     "execution_count": 42,
     "metadata": {},
     "output_type": "execute_result"
    }
   ],
   "source": [
    "sc = StandardScaler()\n",
    "amount = df['Amount'].values\n",
    "\n",
    "df['Amount'] = sc.fit_transform(amount.reshape(-1, 1))\n",
    "df.head()"
   ]
  },
  {
   "cell_type": "markdown",
   "metadata": {
    "id": "bi_bgoDvsUZJ"
   },
   "source": [
    "### Checking the Distribution of various features of our dataset"
   ]
  },
  {
   "cell_type": "code",
   "execution_count": 43,
   "metadata": {
    "colab": {
     "base_uri": "https://localhost:8080/",
     "height": 821
    },
    "id": "5UQACzA2E-ff",
    "outputId": "fa230658-eb07-41da-ede0-44ec1bd70c99"
   },
   "outputs": [
    {
     "data": {
      "image/png": "[encoded data removed]",
      "text/plain": [
       "<Figure size 1080x720 with 2 Axes>"
      ]
     },
     "metadata": {
      "needs_background": "light"
     },
     "output_type": "display_data"
    }
   ],
   "source": [
    "df_corr = df.corr() # Calculation of the correlation coefficients in pairs,\n",
    "plt.figure(figsize=(15,10))\n",
    "sns.heatmap(df_corr, cmap=\"YlGnBu\") # Displaying the Heatmap\n",
    "sns.set(font_scale=2,style='white')\n",
    "\n",
    "plt.title('Heatmap correlation')\n",
    "plt.show()"
   ]
  },
  {
   "cell_type": "code",
   "execution_count": 44,
   "metadata": {
    "colab": {
     "base_uri": "https://localhost:8080/",
     "height": 1000
    },
    "id": "aoGLwMzTsT1y",
    "outputId": "4624a779-a5aa-4767-a2b9-51d3ca030935"
   },
   "outputs": [
    {
     "data": {
      "text/plain": [
       "<Figure size 432x288 with 0 Axes>"
      ]
     },
     "metadata": {},
     "output_type": "display_data"
    },
    {
     "data": {
      "image/png": "[encoded data removed]",
      "text/plain": [
       "<Figure size 1152x2016 with 31 Axes>"
      ]
     },
     "metadata": {},
     "output_type": "display_data"
    }
   ],
   "source": [
    "columns = list(df.columns.values)\n",
    "columns.remove(\"Class\")\n",
    "n = 1\n",
    "t0 = df.loc[df['Class'] == 0]\n",
    "t1 = df.loc[df['Class'] == 1]\n",
    "\n",
    "plt.figure()\n",
    "fig, ax = plt.subplots(12,7,figsize=(16,28))\n",
    "\n",
    "for i in columns:\n",
    "    plt.subplot(6,5,n)\n",
    "    sns.kdeplot(t0[i],label=\"0\")\n",
    "    sns.kdeplot(t1[i],label=\"1\")\n",
    "    plt.xlabel(i, fontsize=10)\n",
    "    locs, labels = plt.xticks()\n",
    "    plt.tick_params(axis='both', which='major', labelsize=12)\n",
    "    n =n + 1\n",
    "plt.show();"
   ]
  },
  {
   "cell_type": "markdown",
   "metadata": {
    "id": "SATSxsE__nkE"
   },
   "source": [
    "## Preparing the dataset for training"
   ]
  },
  {
   "cell_type": "code",
   "execution_count": 45,
   "metadata": {
    "id": "uZeEl6sY6UNK"
   },
   "outputs": [],
   "source": [
    "X = df.iloc[:, :-1]\n",
    "y = df.iloc[:, -1]"
   ]
  },
  {
   "cell_type": "markdown",
   "metadata": {
    "id": "RnJ_hqZV_zAc"
   },
   "source": [
    "### Splitting the dataset into training and validation sets"
   ]
  },
  {
   "cell_type": "code",
   "execution_count": 46,
   "metadata": {
    "colab": {
     "base_uri": "https://localhost:8080/"
    },
    "id": "jKduqzto6Y6O",
    "outputId": "c96533c2-9301-477d-ceb7-c89aa82ee701"
   },
   "outputs": [
    {
     "data": {
      "text/plain": [
       "170884"
      ]
     },
     "execution_count": 46,
     "metadata": {},
     "output_type": "execute_result"
    }
   ],
   "source": [
    "X_train, X_test, y_train, y_test = train_test_split(X, y, random_state=7, test_size=0.4)\n",
    "len(X_train)"
   ]
  },
  {
   "cell_type": "markdown",
   "metadata": {
    "id": "w43q-o4g_7kb"
   },
   "source": [
    "### Creating synthetic data using `SMOTE` (Since the dataset is imbalanced)"
   ]
  },
  {
   "cell_type": "code",
   "execution_count": 47,
   "metadata": {
    "colab": {
     "base_uri": "https://localhost:8080/"
    },
    "id": "X6KapT346IhA",
    "outputId": "5b685001-9531-4ad0-cffe-a72b6d0ff179"
   },
   "outputs": [
    {
     "name": "stdout",
     "output_type": "stream",
     "text": [
      "Before performing smote :  Counter({0: 170580, 1: 304})\n",
      "After performing smote :  Counter({0: 170580, 1: 170580})\n"
     ]
    }
   ],
   "source": [
    "smote = SMOTE()\n",
    "X_train_smote, y_train_smote = smote.fit_resample(X_train.astype('float'), y_train)\n",
    "print(\"Before performing smote : \", Counter(y_train))\n",
    "print(\"After performing smote : \", Counter(y_train_smote))"
   ]
  },
  {
   "cell_type": "code",
   "execution_count": 48,
   "metadata": {
    "id": "nC4Ty1MLEhOE"
   },
   "outputs": [],
   "source": [
    "from sklearn.preprocessing import StandardScaler\n",
    "# Create a StandardScaler object\n",
    "scaler = StandardScaler() #check if it already save the mean, and std\n",
    "\n",
    "# Fit and transform the scaler on the training data\n",
    "X_train_smote = scaler.fit_transform(X_train_smote)\n",
    "\n",
    "# Use the same mean and std to transform the testing data\n",
    "X_test = scaler.transform(X_test)"
   ]
  },
  {
   "cell_type": "code",
   "execution_count": 49,
   "metadata": {
    "colab": {
     "base_uri": "https://localhost:8080/"
    },
    "id": "-U6JNwPxFP7c",
    "outputId": "5d23d99f-71f0-4093-be14-fb7bc1fd31c1"
   },
   "outputs": [
    {
     "name": "stdout",
     "output_type": "stream",
     "text": [
      "X_train -  (170884, 29)\n",
      "y_train -  (170884,)\n",
      "X_train_smote -  (341160, 29)\n",
      "y_train_smote -  (341160,)\n",
      "X_test -  (113923, 29)\n",
      "y_test -  (113923,)\n"
     ]
    }
   ],
   "source": [
    "print(\"X_train - \",X_train.shape)\n",
    "print(\"y_train - \",y_train.shape)\n",
    "print(\"X_train_smote - \",X_train_smote.shape)\n",
    "print(\"y_train_smote - \",y_train_smote.shape)\n",
    "print(\"X_test - \",X_test.shape)\n",
    "print(\"y_test - \",y_test.shape)"
   ]
  },
  {
   "cell_type": "markdown",
   "metadata": {
    "id": "Nl5XRHQTASFL"
   },
   "source": [
    "## Testing various models on the dataset"
   ]
  },
  {
   "cell_type": "markdown",
   "metadata": {
    "id": "BnDBYZnwAZYZ"
   },
   "source": [
    "### 1.1. Logistic Regression without synthetic data"
   ]
  },
  {
   "cell_type": "code",
   "execution_count": 50,
   "metadata": {
    "colab": {
     "base_uri": "https://localhost:8080/"
    },
    "id": "VE-OkdK56AL5",
    "outputId": "599a8a54-6610-478d-d331-b05cae0c27aa"
   },
   "outputs": [
    {
     "name": "stderr",
     "output_type": "stream",
     "text": [
      "C:\\Users\\prish\\anaconda3\\lib\\site-packages\\sklearn\\base.py:450: UserWarning: X does not have valid feature names, but LogisticRegression was fitted with feature names\n",
      "  warnings.warn(\n"
     ]
    },
    {
     "data": {
      "text/plain": [
       "0.9983936518525671"
      ]
     },
     "execution_count": 50,
     "metadata": {},
     "output_type": "execute_result"
    }
   ],
   "source": [
    "model_ws_1 = LogisticRegression(solver='lbfgs', max_iter=1000)\n",
    "model_ws_1.fit(X_train, y_train)\n",
    "y_pred_ws_1 = model_ws_1.predict(X_test)\n",
    "acc_ws_1 = accuracy_score(y_test, y_pred_ws_1)\n",
    "acc_ws_1"
   ]
  },
  {
   "cell_type": "markdown",
   "metadata": {
    "id": "6Au-jKn4HKVd"
   },
   "source": [
    "Logistic Regression CV without synthetic data"
   ]
  },
  {
   "cell_type": "code",
   "execution_count": 51,
   "metadata": {
    "colab": {
     "base_uri": "https://localhost:8080/"
    },
    "id": "dPG429tjGRuE",
    "outputId": "d0fa2f95-c19d-4ba1-c75d-0adcf14f2377"
   },
   "outputs": [
    {
     "name": "stderr",
     "output_type": "stream",
     "text": [
      "C:\\Users\\prish\\anaconda3\\lib\\site-packages\\sklearn\\base.py:450: UserWarning: X does not have valid feature names, but LogisticRegressionCV was fitted with feature names\n",
      "  warnings.warn(\n"
     ]
    },
    {
     "data": {
      "text/plain": [
       "0.9983936518525671"
      ]
     },
     "execution_count": 51,
     "metadata": {},
     "output_type": "execute_result"
    }
   ],
   "source": [
    "from sklearn.linear_model import LogisticRegressionCV\n",
    "from sklearn.metrics import classification_report, mean_squared_error\n",
    "from sklearn.model_selection import train_test_split, KFold\n",
    "model_ws_1b = LogisticRegressionCV(Cs=30, cv=10, penalty=\"l1\", n_jobs=8, max_iter=1000, solver=\"liblinear\")\n",
    "fit = model_ws_1b.fit(X_train, y_train)\n",
    "\n",
    "y_pred_ws_1b = model_ws_1b.predict(X_test)\n",
    "acc_ws_1b = accuracy_score(y_test, y_pred_ws_1)\n",
    "acc_ws_1b"
   ]
  },
  {
   "cell_type": "markdown",
   "metadata": {
    "id": "-v9yTFGmFQ5D"
   },
   "source": [
    "#### `Accuracy`, `f1Score`, `precision` and `recall` of the model"
   ]
  },
  {
   "cell_type": "code",
   "execution_count": 52,
   "metadata": {
    "id": "-OXl0WmxHQVr"
   },
   "outputs": [
    {
     "name": "stdout",
     "output_type": "stream",
     "text": [
      "\n",
      " Accuracy: \n",
      "\n",
      " CFM: \n",
      " [[113731      4]\n",
      " [   180      8]]\n",
      "\n",
      " Classification report: \n",
      "               precision    recall  f1-score   support\n",
      "\n",
      "           0       1.00      1.00      1.00    113735\n",
      "           1       0.67      0.04      0.08       188\n",
      "\n",
      "    accuracy                           1.00    113923\n",
      "   macro avg       0.83      0.52      0.54    113923\n",
      "weighted avg       1.00      1.00      1.00    113923\n",
      "\n"
     ]
    }
   ],
   "source": [
    "from sklearn.metrics import classification_report, accuracy_score, confusion_matrix\n",
    "# Prepare data (X, Y), build a model, and predict into Yh\n",
    "res11 = accuracy_score(y_test, y_pred_ws_1b)\n",
    "\n",
    "print(\"\\n\", \"Accuracy: \".format(format(res11,'.3f')))\n",
    "print(\"\\n\", \"CFM: \\n\", confusion_matrix(y_test, y_pred_ws_1b))\n",
    "print(\"\\n\", \"Classification report: \\n\", classification_report(y_test, y_pred_ws_1b))"
   ]
  },
  {
   "cell_type": "markdown",
   "metadata": {
    "id": "nsck3S3dDdHA"
   },
   "source": [
    "### 1.2 Logistic Regression with synthetic data"
   ]
  },
  {
   "cell_type": "code",
   "execution_count": 53,
   "metadata": {
    "id": "305ow9H26lbQ"
   },
   "outputs": [
    {
     "data": {
      "text/plain": [
       "0.9726218586238073"
      ]
     },
     "execution_count": 53,
     "metadata": {},
     "output_type": "execute_result"
    }
   ],
   "source": [
    "model_s_1 = LogisticRegression(solver='lbfgs', max_iter=1000)\n",
    "model_s_1.fit(X_train_smote, y_train_smote)\n",
    "y_pred_s_1 = model_s_1.predict(X_test)\n",
    "acc_s_1 = accuracy_score(y_test, y_pred_s_1)\n",
    "acc_s_1"
   ]
  },
  {
   "cell_type": "markdown",
   "metadata": {
    "id": "57Yx8r4dEQcF"
   },
   "source": [
    "#### `Accuracy`, `f1Score`, `precision` and `recall` of the model"
   ]
  },
  {
   "cell_type": "code",
   "execution_count": 54,
   "metadata": {
    "id": "bMTRUTef7rF8"
   },
   "outputs": [
    {
     "name": "stdout",
     "output_type": "stream",
     "text": [
      "\n",
      " Accuracy: \n",
      "\n",
      " CFM: \n",
      " [[110634   3101]\n",
      " [    18    170]]\n",
      "\n",
      " Classification report: \n",
      "               precision    recall  f1-score   support\n",
      "\n",
      "           0       1.00      0.97      0.99    113735\n",
      "           1       0.05      0.90      0.10       188\n",
      "\n",
      "    accuracy                           0.97    113923\n",
      "   macro avg       0.53      0.94      0.54    113923\n",
      "weighted avg       1.00      0.97      0.98    113923\n",
      "\n"
     ]
    }
   ],
   "source": [
    "res12 = accuracy_score(y_test, y_pred_s_1)\n",
    "\n",
    "print(\"\\n\", \"Accuracy: \".format(format(res12,'.3f')))\n",
    "print(\"\\n\", \"CFM: \\n\", confusion_matrix(y_test, y_pred_s_1))\n",
    "print(\"\\n\", \"Classification report: \\n\", classification_report(y_test, y_pred_s_1))"
   ]
  },
  {
   "cell_type": "markdown",
   "metadata": {
    "id": "u4hLxezeFXVs"
   },
   "source": [
    "### 2.1. Decision Tree Classifier without synthetic data"
   ]
  },
  {
   "cell_type": "code",
   "execution_count": 55,
   "metadata": {
    "id": "ly45XlZN7whr"
   },
   "outputs": [
    {
     "name": "stderr",
     "output_type": "stream",
     "text": [
      "C:\\Users\\prish\\anaconda3\\lib\\site-packages\\sklearn\\base.py:450: UserWarning: X does not have valid feature names, but DecisionTreeClassifier was fitted with feature names\n",
      "  warnings.warn(\n"
     ]
    },
    {
     "data": {
      "text/plain": [
       "0.9983673182763797"
      ]
     },
     "execution_count": 55,
     "metadata": {},
     "output_type": "execute_result"
    }
   ],
   "source": [
    "model_ws_2 = DecisionTreeClassifier(criterion='entropy', max_depth=5)\n",
    "model_ws_2.fit(X_train, y_train)\n",
    "y_pred_ws_2 = model_ws_2.predict(X_test)\n",
    "acc_ws_2 = accuracy_score(y_test, y_pred_ws_2)\n",
    "acc_ws_2"
   ]
  },
  {
   "cell_type": "markdown",
   "metadata": {
    "id": "FBXX0727GNSB"
   },
   "source": [
    "#### `Accuracy`, `f1Score`, `precision` and `recall` of the model\n",
    "#### Confusion Matrix,"
   ]
  },
  {
   "cell_type": "code",
   "execution_count": 56,
   "metadata": {
    "id": "rTcrEhb1GMP2"
   },
   "outputs": [
    {
     "name": "stdout",
     "output_type": "stream",
     "text": [
      "\n",
      " Accuracy: \n",
      "\n",
      " CFM: \n",
      " [[113735      0]\n",
      " [   186      2]]\n",
      "\n",
      " Classification report: \n",
      "               precision    recall  f1-score   support\n",
      "\n",
      "           0       1.00      1.00      1.00    113735\n",
      "           1       1.00      0.01      0.02       188\n",
      "\n",
      "    accuracy                           1.00    113923\n",
      "   macro avg       1.00      0.51      0.51    113923\n",
      "weighted avg       1.00      1.00      1.00    113923\n",
      "\n"
     ]
    }
   ],
   "source": [
    "res21 = accuracy_score(y_test, y_pred_ws_2)\n",
    "\n",
    "print(\"\\n\", \"Accuracy: \".format(format(res21,'.3f')))\n",
    "print(\"\\n\", \"CFM: \\n\", confusion_matrix(y_test, y_pred_ws_2))\n",
    "print(\"\\n\", \"Classification report: \\n\", classification_report(y_test, y_pred_ws_2))"
   ]
  },
  {
   "cell_type": "markdown",
   "metadata": {
    "id": "ZwffQLGTG4zG"
   },
   "source": [
    "### 2.2. Decision Tree Classifier with synthetic data"
   ]
  },
  {
   "cell_type": "code",
   "execution_count": 57,
   "metadata": {
    "id": "TkpG3v7VFwyv"
   },
   "outputs": [
    {
     "data": {
      "text/plain": [
       "0.9727535265047444"
      ]
     },
     "execution_count": 57,
     "metadata": {},
     "output_type": "execute_result"
    }
   ],
   "source": [
    "model_s_2 = DecisionTreeClassifier(criterion='entropy', max_depth=5)\n",
    "model_s_2.fit(X_train_smote, y_train_smote)\n",
    "y_pred_s_2 = model_s_2.predict(X_test)\n",
    "acc_s_2 = accuracy_score(y_test, y_pred_s_2)\n",
    "acc_s_2"
   ]
  },
  {
   "cell_type": "markdown",
   "metadata": {
    "id": "6-gpImBqHXuE"
   },
   "source": [
    "#### `Accuracy`, `f1Score`, `precision` and `recall` of the model"
   ]
  },
  {
   "cell_type": "code",
   "execution_count": 58,
   "metadata": {
    "id": "gaZ67isP73WM"
   },
   "outputs": [
    {
     "name": "stdout",
     "output_type": "stream",
     "text": [
      "\n",
      " Accuracy: \n",
      "\n",
      " CFM: \n",
      " [[110649   3086]\n",
      " [    18    170]]\n",
      "\n",
      " Classification report: \n",
      "               precision    recall  f1-score   support\n",
      "\n",
      "           0       1.00      0.97      0.99    113735\n",
      "           1       0.05      0.90      0.10       188\n",
      "\n",
      "    accuracy                           0.97    113923\n",
      "   macro avg       0.53      0.94      0.54    113923\n",
      "weighted avg       1.00      0.97      0.98    113923\n",
      "\n"
     ]
    }
   ],
   "source": [
    "res22 = accuracy_score(y_test, y_pred_s_2)\n",
    "\n",
    "print(\"\\n\", \"Accuracy: \".format(format(res22,'.3f')))\n",
    "print(\"\\n\", \"CFM: \\n\", confusion_matrix(y_test, y_pred_s_2))\n",
    "print(\"\\n\", \"Classification report: \\n\", classification_report(y_test, y_pred_s_2))"
   ]
  },
  {
   "cell_type": "markdown",
   "metadata": {
    "id": "pyQHbW6TJIIc"
   },
   "source": [
    "### 3.1. K Nearest Neighbors Classifier without synthetic data"
   ]
  },
  {
   "cell_type": "code",
   "execution_count": 59,
   "metadata": {
    "id": "ypC3309q8ER1"
   },
   "outputs": [
    {
     "name": "stderr",
     "output_type": "stream",
     "text": [
      "C:\\Users\\prish\\anaconda3\\lib\\site-packages\\sklearn\\base.py:450: UserWarning: X does not have valid feature names, but KNeighborsClassifier was fitted with feature names\n",
      "  warnings.warn(\n"
     ]
    },
    {
     "data": {
      "text/plain": [
       "0.9984902082985876"
      ]
     },
     "execution_count": 59,
     "metadata": {},
     "output_type": "execute_result"
    }
   ],
   "source": [
    "model_ws_3 = KNeighborsClassifier(n_neighbors=3)\n",
    "model_ws_3.fit(X_train, y_train)\n",
    "y_pred_ws_3 = model_ws_3.predict(X_test)\n",
    "acc_ws_3 = accuracy_score(y_test, y_pred_ws_3)\n",
    "acc_ws_3"
   ]
  },
  {
   "cell_type": "markdown",
   "metadata": {
    "id": "OES1FRmwJ5DE"
   },
   "source": [
    "#### `Accuracy`, `f1Score`, `precision` and `recall` of the model"
   ]
  },
  {
   "cell_type": "code",
   "execution_count": 60,
   "metadata": {
    "id": "cPmn9STsJ33k"
   },
   "outputs": [
    {
     "name": "stdout",
     "output_type": "stream",
     "text": [
      "\n",
      " Accuracy: \n",
      "\n",
      " CFM: \n",
      " [[113735      0]\n",
      " [   172     16]]\n",
      "\n",
      " Classification report: \n",
      "               precision    recall  f1-score   support\n",
      "\n",
      "           0       1.00      1.00      1.00    113735\n",
      "           1       1.00      0.09      0.16       188\n",
      "\n",
      "    accuracy                           1.00    113923\n",
      "   macro avg       1.00      0.54      0.58    113923\n",
      "weighted avg       1.00      1.00      1.00    113923\n",
      "\n"
     ]
    }
   ],
   "source": [
    "res31 = accuracy_score(y_test, y_pred_ws_3)\n",
    "\n",
    "print(\"\\n\", \"Accuracy: \".format(format(res31,'.3f')))\n",
    "print(\"\\n\", \"CFM: \\n\", confusion_matrix(y_test, y_pred_ws_3))\n",
    "print(\"\\n\", \"Classification report: \\n\", classification_report(y_test, y_pred_ws_3))"
   ]
  },
  {
   "cell_type": "markdown",
   "metadata": {
    "id": "N55NSN_dKA43"
   },
   "source": [
    "### 3.2. K Nearest Neighbors Classifier with synthetic data"
   ]
  },
  {
   "cell_type": "code",
   "execution_count": 61,
   "metadata": {
    "id": "pU_pQgQBJUPj"
   },
   "outputs": [
    {
     "data": {
      "text/plain": [
       "0.9973929759574449"
      ]
     },
     "execution_count": 61,
     "metadata": {},
     "output_type": "execute_result"
    }
   ],
   "source": [
    "model_s_3 = KNeighborsClassifier(n_neighbors=3)\n",
    "model_s_3.fit(X_train_smote, y_train_smote)\n",
    "y_pred_s_3 = model_s_3.predict(X_test)\n",
    "acc_s_3 = accuracy_score(y_test, y_pred_s_3)\n",
    "acc_s_3"
   ]
  },
  {
   "cell_type": "markdown",
   "metadata": {
    "id": "r_OceSTxKhkA"
   },
   "source": [
    "#### `Accuracy`, `f1Score`, `precision` and `recall` of the model"
   ]
  },
  {
   "cell_type": "code",
   "execution_count": 62,
   "metadata": {
    "id": "1wEkSArg8NY8"
   },
   "outputs": [
    {
     "name": "stdout",
     "output_type": "stream",
     "text": [
      "\n",
      " Accuracy: \n",
      "\n",
      " CFM: \n",
      " [[113468    267]\n",
      " [    30    158]]\n",
      "\n",
      " Classification report: \n",
      "               precision    recall  f1-score   support\n",
      "\n",
      "           0       1.00      1.00      1.00    113735\n",
      "           1       0.37      0.84      0.52       188\n",
      "\n",
      "    accuracy                           1.00    113923\n",
      "   macro avg       0.69      0.92      0.76    113923\n",
      "weighted avg       1.00      1.00      1.00    113923\n",
      "\n"
     ]
    }
   ],
   "source": [
    "res32 = accuracy_score(y_test, y_pred_s_3)\n",
    "\n",
    "print(\"\\n\", \"Accuracy: \".format(format(res32,'.3f')))\n",
    "print(\"\\n\", \"CFM: \\n\", confusion_matrix(y_test, y_pred_s_3))\n",
    "print(\"\\n\", \"Classification report: \\n\", classification_report(y_test, y_pred_s_3))"
   ]
  },
  {
   "cell_type": "markdown",
   "metadata": {
    "id": "E1hzU1vYKrgz"
   },
   "source": [
    "### 4.1. Random Forest Classifier without synthetic data"
   ]
  },
  {
   "cell_type": "code",
   "execution_count": 63,
   "metadata": {
    "id": "dg8snW-D8QRs"
   },
   "outputs": [
    {
     "name": "stderr",
     "output_type": "stream",
     "text": [
      "C:\\Users\\prish\\anaconda3\\lib\\site-packages\\sklearn\\base.py:450: UserWarning: X does not have valid feature names, but RandomForestClassifier was fitted with feature names\n",
      "  warnings.warn(\n"
     ]
    },
    {
     "data": {
      "text/plain": [
       "0.9983497625589214"
      ]
     },
     "execution_count": 63,
     "metadata": {},
     "output_type": "execute_result"
    }
   ],
   "source": [
    "model_ws_5 = RandomForestClassifier(max_depth=5, criterion='entropy')\n",
    "model_ws_5.fit(X_train, y_train)\n",
    "y_pred_ws_5 = model_ws_5.predict(X_test)\n",
    "acc_ws_5 = accuracy_score(y_test, y_pred_ws_5)\n",
    "acc_ws_5"
   ]
  },
  {
   "cell_type": "markdown",
   "metadata": {
    "id": "LiaZ1p3OOasL"
   },
   "source": [
    "#### `Accuracy`, `f1Score`, `precision` and `recall` of the model"
   ]
  },
  {
   "cell_type": "code",
   "execution_count": 64,
   "metadata": {
    "id": "7Rk1ZBDZLNM-"
   },
   "outputs": [
    {
     "name": "stdout",
     "output_type": "stream",
     "text": [
      "\n",
      " Accuracy: \n",
      "\n",
      " CFM: \n",
      " [[113735      0]\n",
      " [   188      0]]\n",
      "\n",
      " Classification report: \n",
      "               precision    recall  f1-score   support\n",
      "\n",
      "           0       1.00      1.00      1.00    113735\n",
      "           1       0.00      0.00      0.00       188\n",
      "\n",
      "    accuracy                           1.00    113923\n",
      "   macro avg       0.50      0.50      0.50    113923\n",
      "weighted avg       1.00      1.00      1.00    113923\n",
      "\n"
     ]
    },
    {
     "name": "stderr",
     "output_type": "stream",
     "text": [
      "C:\\Users\\prish\\anaconda3\\lib\\site-packages\\sklearn\\metrics\\_classification.py:1318: UndefinedMetricWarning: Precision and F-score are ill-defined and being set to 0.0 in labels with no predicted samples. Use `zero_division` parameter to control this behavior.\n",
      "  _warn_prf(average, modifier, msg_start, len(result))\n",
      "C:\\Users\\prish\\anaconda3\\lib\\site-packages\\sklearn\\metrics\\_classification.py:1318: UndefinedMetricWarning: Precision and F-score are ill-defined and being set to 0.0 in labels with no predicted samples. Use `zero_division` parameter to control this behavior.\n",
      "  _warn_prf(average, modifier, msg_start, len(result))\n",
      "C:\\Users\\prish\\anaconda3\\lib\\site-packages\\sklearn\\metrics\\_classification.py:1318: UndefinedMetricWarning: Precision and F-score are ill-defined and being set to 0.0 in labels with no predicted samples. Use `zero_division` parameter to control this behavior.\n",
      "  _warn_prf(average, modifier, msg_start, len(result))\n"
     ]
    }
   ],
   "source": [
    "res41 = accuracy_score(y_test, y_pred_ws_5)\n",
    "\n",
    "print(\"\\n\", \"Accuracy: \".format(format(res41,'.3f')))\n",
    "print(\"\\n\", \"CFM: \\n\", confusion_matrix(y_test, y_pred_ws_5))\n",
    "print(\"\\n\", \"Classification report: \\n\", classification_report(y_test, y_pred_ws_5))"
   ]
  },
  {
   "cell_type": "markdown",
   "metadata": {
    "id": "EIgZVMaQNGwY"
   },
   "source": [
    "### 4.2. Random Forest Classifier with synthetic data"
   ]
  },
  {
   "cell_type": "code",
   "execution_count": 65,
   "metadata": {
    "id": "dvN6ra1dK-pS"
   },
   "outputs": [
    {
     "data": {
      "text/plain": [
       "0.9946893954688694"
      ]
     },
     "execution_count": 65,
     "metadata": {},
     "output_type": "execute_result"
    }
   ],
   "source": [
    "model_s_5 = RandomForestClassifier(max_depth=5, criterion='entropy')\n",
    "model_s_5.fit(X_train_smote, y_train_smote)\n",
    "y_pred_s_5 = model_s_5.predict(X_test)\n",
    "acc_s_5 = accuracy_score(y_test, y_pred_s_5)\n",
    "acc_s_5"
   ]
  },
  {
   "cell_type": "markdown",
   "metadata": {
    "id": "uD0n8YPZOc2L"
   },
   "source": [
    "#### `Accuracy`, `f1Score`, `precision` and `recall` of the model"
   ]
  },
  {
   "cell_type": "code",
   "execution_count": 66,
   "metadata": {
    "id": "UzAbc95a8V-1"
   },
   "outputs": [
    {
     "name": "stdout",
     "output_type": "stream",
     "text": [
      "\n",
      " Accuracy: \n",
      "\n",
      " CFM: \n",
      " [[113150    585]\n",
      " [    20    168]]\n",
      "\n",
      " Classification report: \n",
      "               precision    recall  f1-score   support\n",
      "\n",
      "           0       1.00      0.99      1.00    113735\n",
      "           1       0.22      0.89      0.36       188\n",
      "\n",
      "    accuracy                           0.99    113923\n",
      "   macro avg       0.61      0.94      0.68    113923\n",
      "weighted avg       1.00      0.99      1.00    113923\n",
      "\n"
     ]
    }
   ],
   "source": [
    "res42 = accuracy_score(y_test, y_pred_s_5)\n",
    "\n",
    "print(\"\\n\", \"Accuracy: \".format(format(res42,'.3f')))\n",
    "print(\"\\n\", \"CFM: \\n\", confusion_matrix(y_test, y_pred_s_5))\n",
    "print(\"\\n\", \"Classification report: \\n\", classification_report(y_test, y_pred_s_5))"
   ]
  },
  {
   "cell_type": "markdown",
   "metadata": {
    "id": "ctJ3sN5rNNMV"
   },
   "source": [
    "### 5.1. Support Vector Classifier without synthetic data"
   ]
  },
  {
   "cell_type": "code",
   "execution_count": 67,
   "metadata": {
    "id": "I8_bs_tX8ZM8"
   },
   "outputs": [
    {
     "name": "stderr",
     "output_type": "stream",
     "text": [
      "C:\\Users\\prish\\anaconda3\\lib\\site-packages\\sklearn\\base.py:450: UserWarning: X does not have valid feature names, but SVC was fitted with feature names\n",
      "  warnings.warn(\n"
     ]
    },
    {
     "data": {
      "text/plain": [
       "0.9983673182763797"
      ]
     },
     "execution_count": 67,
     "metadata": {},
     "output_type": "execute_result"
    }
   ],
   "source": [
    "model_ws_6 = SVC()\n",
    "model_ws_6.fit(X_train, y_train)\n",
    "y_pred_ws_6 = model_ws_6.predict(X_test)\n",
    "acc_ws_6 = accuracy_score(y_test, y_pred_ws_6)\n",
    "acc_ws_6"
   ]
  },
  {
   "cell_type": "markdown",
   "metadata": {
    "id": "d2PoINAiOeKU"
   },
   "source": [
    "#### `Accuracy`, `f1Score`, `precision` and `recall` of the model"
   ]
  },
  {
   "cell_type": "code",
   "execution_count": 68,
   "metadata": {
    "id": "um4hqdR9L78x"
   },
   "outputs": [
    {
     "name": "stdout",
     "output_type": "stream",
     "text": [
      "\n",
      " Accuracy: \n",
      "\n",
      " CFM: \n",
      " [[113735      0]\n",
      " [   186      2]]\n",
      "\n",
      " Classification report: \n",
      "               precision    recall  f1-score   support\n",
      "\n",
      "           0       1.00      1.00      1.00    113735\n",
      "           1       1.00      0.01      0.02       188\n",
      "\n",
      "    accuracy                           1.00    113923\n",
      "   macro avg       1.00      0.51      0.51    113923\n",
      "weighted avg       1.00      1.00      1.00    113923\n",
      "\n"
     ]
    }
   ],
   "source": [
    "res51 = accuracy_score(y_test, y_pred_ws_6)\n",
    "\n",
    "print(\"\\n\", \"Accuracy: \".format(format(res51,'.3f')))\n",
    "print(\"\\n\", \"CFM: \\n\", confusion_matrix(y_test, y_pred_ws_6))\n",
    "print(\"\\n\", \"Classification report: \\n\", classification_report(y_test, y_pred_ws_6))"
   ]
  },
  {
   "cell_type": "code",
   "execution_count": null,
   "metadata": {
    "id": "xLddef92NUcd"
   },
   "outputs": [],
   "source": [
    "### 5.2. Support Vector Classifier with synthetic data"
   ]
  },
  {
   "cell_type": "code",
   "execution_count": 69,
   "metadata": {
    "id": "GC91LCehLk4K"
   },
   "outputs": [
    {
     "data": {
      "text/plain": [
       "0.9920735935675852"
      ]
     },
     "execution_count": 69,
     "metadata": {},
     "output_type": "execute_result"
    }
   ],
   "source": [
    "model_s_6 = SVC()\n",
    "model_s_6.fit(X_train_smote, y_train_smote)\n",
    "y_pred_s_6 = model_s_6.predict(X_test)\n",
    "acc_s_6 = accuracy_score(y_test, y_pred_s_6)\n",
    "acc_s_6"
   ]
  },
  {
   "cell_type": "markdown",
   "metadata": {
    "id": "eQjnFX85OGqR"
   },
   "source": [
    "#### Confusion Matrix"
   ]
  },
  {
   "cell_type": "markdown",
   "metadata": {
    "id": "N0eDchghOfy0"
   },
   "source": [
    "#### `Accuracy`, `f1Score`, `precision` and `recall` of the model"
   ]
  },
  {
   "cell_type": "code",
   "execution_count": 70,
   "metadata": {
    "id": "oHaW59cT8lxs"
   },
   "outputs": [
    {
     "name": "stdout",
     "output_type": "stream",
     "text": [
      "\n",
      " Accuracy: \n",
      "\n",
      " CFM: \n",
      " [[113735      0]\n",
      " [   186      2]]\n",
      "\n",
      " Classification report: \n",
      "               precision    recall  f1-score   support\n",
      "\n",
      "           0       1.00      1.00      1.00    113735\n",
      "           1       1.00      0.01      0.02       188\n",
      "\n",
      "    accuracy                           1.00    113923\n",
      "   macro avg       1.00      0.51      0.51    113923\n",
      "weighted avg       1.00      1.00      1.00    113923\n",
      "\n"
     ]
    }
   ],
   "source": [
    "res52 = accuracy_score(y_test, y_pred_ws_6)\n",
    "\n",
    "print(\"\\n\", \"Accuracy: \".format(format(res52,'.3f')))\n",
    "print(\"\\n\", \"CFM: \\n\", confusion_matrix(y_test, y_pred_ws_6))\n",
    "print(\"\\n\", \"Classification report: \\n\", classification_report(y_test, y_pred_ws_6))"
   ]
  },
  {
   "cell_type": "markdown",
   "metadata": {
    "id": "flWJ0679d8Z5"
   },
   "source": [
    "# Comparing precision, accuracy f1 score and recall of all the models"
   ]
  },
  {
   "cell_type": "code",
   "execution_count": 71,
   "metadata": {
    "id": "g7Jqphnf82Yl"
   },
   "outputs": [],
   "source": [
    "dp = pd.DataFrame([res11,res12,res21,res22,res31,res32,res41,res42,res51,res52],index=['1.1','1.2','2.1','2.2','3.1','3.2','4.1','4.2','5.1','5.2'])"
   ]
  },
  {
   "cell_type": "code",
   "execution_count": 72,
   "metadata": {
    "id": "96mqKLwgVYkM"
   },
   "outputs": [
    {
     "data": {
      "text/html": [
       "<div>\n",
       "<style scoped>\n",
       "    .dataframe tbody tr th:only-of-type {\n",
       "        vertical-align: middle;\n",
       "    }\n",
       "\n",
       "    .dataframe tbody tr th {\n",
       "        vertical-align: top;\n",
       "    }\n",
       "\n",
       "    .dataframe thead th {\n",
       "        text-align: right;\n",
       "    }\n",
       "</style>\n",
       "<table border=\"1\" class=\"dataframe\">\n",
       "  <thead>\n",
       "    <tr style=\"text-align: right;\">\n",
       "      <th></th>\n",
       "      <th>0</th>\n",
       "    </tr>\n",
       "  </thead>\n",
       "  <tbody>\n",
       "    <tr>\n",
       "      <th>1.1</th>\n",
       "      <td>0.998385</td>\n",
       "    </tr>\n",
       "    <tr>\n",
       "      <th>1.2</th>\n",
       "      <td>0.972622</td>\n",
       "    </tr>\n",
       "    <tr>\n",
       "      <th>2.1</th>\n",
       "      <td>0.998367</td>\n",
       "    </tr>\n",
       "    <tr>\n",
       "      <th>2.2</th>\n",
       "      <td>0.972754</td>\n",
       "    </tr>\n",
       "    <tr>\n",
       "      <th>3.1</th>\n",
       "      <td>0.998490</td>\n",
       "    </tr>\n",
       "    <tr>\n",
       "      <th>3.2</th>\n",
       "      <td>0.997393</td>\n",
       "    </tr>\n",
       "    <tr>\n",
       "      <th>4.1</th>\n",
       "      <td>0.998350</td>\n",
       "    </tr>\n",
       "    <tr>\n",
       "      <th>4.2</th>\n",
       "      <td>0.994689</td>\n",
       "    </tr>\n",
       "    <tr>\n",
       "      <th>5.1</th>\n",
       "      <td>0.998367</td>\n",
       "    </tr>\n",
       "    <tr>\n",
       "      <th>5.2</th>\n",
       "      <td>0.998367</td>\n",
       "    </tr>\n",
       "  </tbody>\n",
       "</table>\n",
       "</div>"
      ],
      "text/plain": [
       "            0\n",
       "1.1  0.998385\n",
       "1.2  0.972622\n",
       "2.1  0.998367\n",
       "2.2  0.972754\n",
       "3.1  0.998490\n",
       "3.2  0.997393\n",
       "4.1  0.998350\n",
       "4.2  0.994689\n",
       "5.1  0.998367\n",
       "5.2  0.998367"
      ]
     },
     "execution_count": 72,
     "metadata": {},
     "output_type": "execute_result"
    }
   ],
   "source": [
    "dp"
   ]
  },
  {
   "cell_type": "markdown",
   "metadata": {},
   "source": [
    "In summary, the K-Nearest Neighbors (KNN) model outperforms Logistic Regression, Logistic Regression with Cross-Validation, Decision Tree, and Random Forest. However, it is important to note that the Support Vector Machine (SVM) stands out as the strongest performer among all six models."
   ]
  },
  {
   "cell_type": "code",
   "execution_count": null,
   "metadata": {},
   "outputs": [],
   "source": []
  }
 ],
 "metadata": {
  "colab": {
   "provenance": []
  },
  "kernelspec": {
   "display_name": "Python 3 (ipykernel)",
   "language": "python",
   "name": "python3"
  },
  "language_info": {
   "codemirror_mode": {
    "name": "ipython",
    "version": 3
   },
   "file_extension": ".py",
   "mimetype": "text/x-python",
   "name": "python",
   "nbconvert_exporter": "python",
   "pygments_lexer": "ipython3",
   "version": "3.9.12"
  }
 },
 "nbformat": 4,
 "nbformat_minor": 1
}
